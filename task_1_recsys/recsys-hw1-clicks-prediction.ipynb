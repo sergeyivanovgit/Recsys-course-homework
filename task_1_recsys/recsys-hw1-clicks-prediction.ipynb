{
 "cells": [
  {
   "cell_type": "code",
   "execution_count": 86,
   "id": "c6e0d23b",
   "metadata": {},
   "outputs": [],
   "source": [
    "import numpy as np\n",
    "import pandas as pd\n",
    "\n",
    "import os\n",
    "\n",
    "import datetime\n",
    "\n",
    "from sklearn.preprocessing import OneHotEncoder\n",
    "from sklearn.linear_model import LogisticRegression\n",
    "\n",
    "from sklearn.metrics import log_loss"
   ]
  },
  {
   "cell_type": "code",
   "execution_count": 84,
   "id": "6cdd6ded",
   "metadata": {},
   "outputs": [],
   "source": [
    "import warnings\n",
    "warnings.filterwarnings(\"ignore\")"
   ]
  },
  {
   "cell_type": "code",
   "execution_count": 89,
   "id": "60fda763",
   "metadata": {},
   "outputs": [],
   "source": [
    "df_ = pd.read_csv('../data.csv')"
   ]
  },
  {
   "cell_type": "code",
   "execution_count": 90,
   "id": "7ab25da4",
   "metadata": {},
   "outputs": [],
   "source": [
    "# убираем ненужные колонки\n",
    "\n",
    "df_ = df_.drop(columns=['oaid_hash', 'banner_id0', 'rate0', 'g0', 'coeff_sum0',\n",
    "       'banner_id1', 'rate1', 'g1', 'coeff_sum1'])"
   ]
  },
  {
   "cell_type": "code",
   "execution_count": 81,
   "id": "85f70e49",
   "metadata": {},
   "outputs": [],
   "source": [
    "def prepare_features(df_, zone_id_dict):\n",
    "    # убираем impressions - везде 1\n",
    "    df_.drop(columns=['impressions'], inplace=True) \n",
    "    \n",
    "    # date_time -> день недели, час, выходной ли, месяц\n",
    "    df_['day_of_week']= pd.to_datetime(df_['date_time']).dt.dayofweek\n",
    "    df_['is_weekend'] = (df_['day_of_week'] > 4).astype(int)\n",
    "    df_['hour']= pd.to_datetime(df_['date_time']).dt.hour\n",
    "    df_['month']= pd.to_datetime(df_['date_time']).dt.month - pd.to_datetime(df_['date_time']).dt.month.min() # чтобы были 0 и 1\n",
    "    \n",
    "    # campaign_clicks -> непрерывные значения к категориальному признаку с интервалами: 0, 1, 2-10, 11-20, 20-200, >200\n",
    "    df_['campaign_clicks_'] = 0\n",
    "    df_.loc[df_['campaign_clicks'] == 1, 'campaign_clicks_'] = 1\n",
    "    df_.loc[df_['campaign_clicks'] > 1, 'campaign_clicks_'] = 2\n",
    "    df_.loc[df_['campaign_clicks'] > 10, 'campaign_clicks_'] = 3\n",
    "    df_.loc[df_['campaign_clicks'] > 20, 'campaign_clicks_'] = 4\n",
    "    df_.loc[df_['campaign_clicks'] > 200, 'campaign_clicks_'] = 5  \n",
    "    \n",
    "    # zone_id -> 10 классов по доле кликов, если новый, то 11\n",
    "    df_['zone_id_coded'] = df_['zone_id'].map(zone_id_dict)\n",
    "    df_['zone_id_coded'] = df_['zone_id_coded'].fillna(11)\n",
    "    \n",
    "    # и для 9, и для 10 os_id - только негативные примеры, можно объединить в один класс\n",
    "    df_.loc[df_['os_id'] == 10]['os_id'] = 9\n",
    "    # убираем преобразованные фичи\n",
    "    df_.drop(columns=['zone_id', 'campaign_clicks'], inplace=True)\n",
    "    \n",
    "    # для создания интеракций\n",
    "    df_['banner_str'] = df_['banner_id'].astype(str)\n",
    "    \n",
    "    # интеракции между индексом баннера и фичами контекста/пользователя\n",
    "    sep = '_'\n",
    "    df_['id_weekend'] = df_['banner_str'] + sep + df_['is_weekend'].astype(str)\n",
    "    df_['id_day'] = df_['banner_str'] + sep + df_['day_of_week'].astype(str)\n",
    "    df_['id_clicks'] = df_['banner_str'] + sep + df_['campaign_clicks_'].astype(str)\n",
    "    df_['id_os'] = df_['banner_str'] + sep + df_['os_id'].astype(str)\n",
    "    df_['id_time'] = df_['banner_str'] + sep + df_['hour'].astype(str)\n",
    "    df_['id_zone'] = df_['banner_str'] + sep + df_['zone_id_coded'].astype(str)\n",
    "    df_['id_country'] = df_['banner_str'] + sep + df_['country_id'].astype(str)\n",
    "    \n",
    "    return df_"
   ]
  },
  {
   "cell_type": "code",
   "execution_count": 82,
   "id": "e76ca876",
   "metadata": {},
   "outputs": [],
   "source": [
    "def cv(df):\n",
    "    # семплируем по 10к событий для каждого дня\n",
    "    df_['date'] = pd.to_datetime(df_['date_time']).dt.date\n",
    "    sampled_df = df_[df_['date'] > datetime.date(2021, 9, 1)].groupby('date').sample(n=10000, random_state=0)\n",
    "    \n",
    "    # проверяем на предпоследнем дне\n",
    "    train_sampled_df = sampled_df[sampled_df['date'] < datetime.date(2021, 10, 1)]\n",
    "    test_sampled_df = sampled_df[sampled_df['date'] == datetime.date(2021, 10, 1)]\n",
    "    \n",
    "    # подготовка train и validate\n",
    "    zone_id_dict_sampled = ((train_sampled_df.groupby('zone_id')['clicks'].mean() * 10 // 1).astype(int)).to_dict()\n",
    "    \n",
    "    columns = ['banner_id', 'os_id', 'country_id', 'day_of_week', 'hour', 'month', 'campaign_clicks_',\n",
    "               'zone_id_coded', 'id_day', 'id_clicks', 'id_os', 'id_time', 'id_zone', 'id_country', 'id_weekend']\n",
    "    train_sampled_df = prepare_features(train_sampled_df, zone_id_dict_sampled)\n",
    "    test_sampled_df = prepare_features(test_sampled_df, zone_id_dict_sampled)\n",
    "\n",
    "    test_X_ = test_sampled_df[columns]\n",
    "    test_Y_ = test_sampled_df['clicks']\n",
    "\n",
    "    train_X_ = train_sampled_df[columns]\n",
    "    train_Y_ = train_sampled_df['clicks']\n",
    "    \n",
    "    encoder = OneHotEncoder(handle_unknown='ignore')\n",
    "    train_sampled_enc = encoder.fit_transform(train_X_)\n",
    "    test_sampled_enc = encoder.transform(test_X_)\n",
    "    \n",
    "    scores = []\n",
    "    regularisation = [1, 0.75, 0.5, 0.25, 0.1, 0.01, 0.001, 0.0001, 0.00001]\n",
    "    for C in regularisation:\n",
    "        clf = LogisticRegression(random_state=0, penalty='l2', solver='liblinear', C=C).fit(train_sampled_enc, train_Y_)\n",
    "        predicts = clf.predict_proba(test_sampled_enc) \n",
    "        res = log_loss(test_Y_, predicts)\n",
    "        scores.append(res)\n",
    "    return dict(zip(regularisation, scores))"
   ]
  },
  {
   "cell_type": "code",
   "execution_count": 85,
   "id": "05c31288",
   "metadata": {},
   "outputs": [
    {
     "data": {
      "text/plain": [
       "{1: 0.16970188060742192,\n",
       " 0.75: 0.1672048576526487,\n",
       " 0.5: 0.16451936893705066,\n",
       " 0.25: 0.1616862473685213,\n",
       " 0.1: 0.1600885796619021,\n",
       " 0.01: 0.1605053563713203,\n",
       " 0.001: 0.16306107136909306,\n",
       " 0.0001: 0.20961572437057147,\n",
       " 1e-05: 0.44383882755278575}"
      ]
     },
     "execution_count": 85,
     "metadata": {},
     "output_type": "execute_result"
    }
   ],
   "source": [
    "# подбор регуляризации\n",
    "\n",
    "cv(df_)"
   ]
  },
  {
   "cell_type": "markdown",
   "id": "43ea7318",
   "metadata": {},
   "source": [
    "# Тест на 2021-10-02"
   ]
  },
  {
   "cell_type": "code",
   "execution_count": 92,
   "id": "6fa5e2d9",
   "metadata": {},
   "outputs": [],
   "source": [
    "def eval_on_last_day(df_, C):\n",
    "    train_df = df_[df_['date_time'] < '2021-10-02 00:00:01.000000']\n",
    "    test_df = df_[df_['date_time'] >= '2021-10-02 00:00:01.000000']\n",
    "\n",
    "    zone_id_dict = ((train_df.groupby('zone_id')['clicks'].mean() * 10 // 1).astype(int)).to_dict()\n",
    "\n",
    "    train_df = prepare_features(train_df, zone_id_dict)\n",
    "    test_df = prepare_features(test_df, zone_id_dict)\n",
    "\n",
    "    columns = ['banner_id', 'os_id', 'country_id', 'day_of_week', 'hour', 'month', 'campaign_clicks_',\n",
    "                   'zone_id_coded', 'id_day', 'id_clicks', 'id_os', 'id_time', 'id_zone', 'id_country', 'id_weekend']\n",
    "\n",
    "    train_X = train_df[columns]\n",
    "    train_Y = train_df['clicks']\n",
    "\n",
    "    test_X = test_df[columns]\n",
    "    test_Y = test_df['clicks']\n",
    "\n",
    "    enc = OneHotEncoder(handle_unknown='ignore')\n",
    "    train_enc = enc.fit_transform(train_X)\n",
    "    test_enc = enc.transform(test_X)\n",
    "\n",
    "    clf = LogisticRegression(random_state=0, penalty='l2', solver='liblinear', C=C).fit(train_enc, train_Y)\n",
    "    \n",
    "    predicts = clf.predict_proba(test_enc)\n",
    "    score = log_loss(test_Y, predicts)\n",
    "    \n",
    "    return predicts, score"
   ]
  },
  {
   "cell_type": "markdown",
   "id": "f3b2aecc",
   "metadata": {},
   "source": [
    "# Результат:"
   ]
  },
  {
   "cell_type": "code",
   "execution_count": 93,
   "id": "9d35ff89",
   "metadata": {},
   "outputs": [],
   "source": [
    "predicts, score = eval_on_last_day(df_, C=0.01)"
   ]
  },
  {
   "cell_type": "code",
   "execution_count": 94,
   "id": "2ec3187b",
   "metadata": {},
   "outputs": [
    {
     "data": {
      "text/plain": [
       "0.14342618853703984"
      ]
     },
     "execution_count": 94,
     "metadata": {},
     "output_type": "execute_result"
    }
   ],
   "source": [
    "score"
   ]
  },
  {
   "cell_type": "markdown",
   "id": "e82b1967",
   "metadata": {},
   "source": [
    "### Другие результаты"
   ]
  },
  {
   "cell_type": "code",
   "execution_count": null,
   "id": "3f388f0c",
   "metadata": {},
   "outputs": [],
   "source": [
    "# baseline (mean = 0.025334063951591646)-> 0.15486314749253863\n",
    "# l2, c=1, мало интеракций -> 0.14843151382160424\n",
    "# l2, c=1, много интеракций -> 0.15472858830794564\n",
    "# l2, c=0.5, много интеракций -> 0.15041069018638425\n",
    "# l2, c=0.1, много интеракций -> 0.14518818362859107\n",
    "# l2, c=0.1, заменила day_of_week на is_weekend -> 0.1458"
   ]
  },
  {
   "cell_type": "code",
   "execution_count": null,
   "id": "bfab6702",
   "metadata": {},
   "outputs": [],
   "source": []
  }
 ],
 "metadata": {
  "kernelspec": {
   "display_name": "Python 3 (ipykernel)",
   "language": "python",
   "name": "python3"
  },
  "language_info": {
   "codemirror_mode": {
    "name": "ipython",
    "version": 3
   },
   "file_extension": ".py",
   "mimetype": "text/x-python",
   "name": "python",
   "nbconvert_exporter": "python",
   "pygments_lexer": "ipython3",
   "version": "3.9.7"
  }
 },
 "nbformat": 4,
 "nbformat_minor": 5
}
