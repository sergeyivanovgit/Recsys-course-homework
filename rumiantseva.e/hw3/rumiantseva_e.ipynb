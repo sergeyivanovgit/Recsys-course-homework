{
 "cells": [
  {
   "cell_type": "code",
   "execution_count": 1,
   "metadata": {},
   "outputs": [],
   "source": [
    "import numpy as np\n",
    "import pandas as pd\n",
    "\n",
    "import os\n",
    "\n",
    "import datetime\n",
    "\n",
    "from sklearn.preprocessing import OrdinalEncoder\n",
    "from sklearn.metrics import log_loss\n",
    "from sklearn.model_selection import TimeSeriesSplit\n",
    "\n",
    "import xlearn as xl"
   ]
  },
  {
   "cell_type": "code",
   "execution_count": 4,
   "metadata": {},
   "outputs": [],
   "source": [
    "import warnings\n",
    "warnings.filterwarnings(\"ignore\")"
   ]
  },
  {
   "cell_type": "markdown",
   "metadata": {},
   "source": [
    "# Препроцессинг датасета"
   ]
  },
  {
   "cell_type": "code",
   "execution_count": 23,
   "metadata": {},
   "outputs": [],
   "source": [
    "df_ = pd.read_csv('/Users/evgenia/Desktop/data.csv')"
   ]
  },
  {
   "cell_type": "code",
   "execution_count": 24,
   "metadata": {},
   "outputs": [],
   "source": [
    "# убираем ненужные колонки, оставляем 'oaid_hash'\n",
    "df_ = df_.drop(columns=['banner_id0', 'rate0', 'g0', 'coeff_sum0',\n",
    "       'banner_id1', 'rate1', 'g1', 'coeff_sum1'])"
   ]
  },
  {
   "cell_type": "code",
   "execution_count": 25,
   "metadata": {},
   "outputs": [],
   "source": [
    "enc = OrdinalEncoder()\n",
    "transformed_user_hash = enc.fit_transform(df_[['oaid_hash']])\n",
    "df_[['oaid_hash']] = transformed_user_hash.astype(int)\n",
    "oaid_hash_max = max(df_['oaid_hash'])"
   ]
  },
  {
   "cell_type": "code",
   "execution_count": 27,
   "metadata": {},
   "outputs": [],
   "source": [
    "df_.sort_values(by='date_time', inplace=True)"
   ]
  },
  {
   "cell_type": "code",
   "execution_count": 28,
   "metadata": {},
   "outputs": [],
   "source": [
    "train_df = df_[df_['date_time'] < '2021-10-02 00:00:01.000000']\n",
    "test_df = df_[df_['date_time'] >= '2021-10-02 00:00:01.000000']"
   ]
  },
  {
   "cell_type": "code",
   "execution_count": null,
   "metadata": {},
   "outputs": [],
   "source": [
    "def prepare_features(df_, zone_id_dict=None):\n",
    "    # убираем impressions - везде 1\n",
    "    df_.drop(columns=['impressions'], inplace=True) \n",
    "    \n",
    "    # date_time -> день недели, час, выходной ли, месяц\n",
    "    df_['day_of_week']= pd.to_datetime(df_['date_time']).dt.dayofweek\n",
    "    df_['is_weekend'] = (df_['day_of_week'] > 4).astype(int)\n",
    "    df_['hour']= pd.to_datetime(df_['date_time']).dt.hour \n",
    "    \n",
    "    if zone_id_dict is None:\n",
    "        zone_id_dict = ((df_.groupby('zone_id')['clicks'].mean())).to_dict()\n",
    "    # zone_id \n",
    "    df_['zone_id'] = df_['zone_id'].map(zone_id_dict)\n",
    "    df_['zone_id'] = df_['zone_id'].fillna(np.mean(list(zone_id_dict.values())))\n",
    "    \n",
    "    # и для 9, и для 10 os_id - только негативные примеры, можно объединить в один класс\n",
    "    df_.loc[df_['os_id'] == 10]['os_id'] = 9\n",
    "    # убираем время\n",
    "    df_.drop(columns=['date_time'], inplace=True)\n",
    "    \n",
    "    return df_, zone_id_dict"
   ]
  },
  {
   "cell_type": "code",
   "execution_count": 23,
   "metadata": {},
   "outputs": [],
   "source": [
    "# подготовка фич для датасета\n",
    "train_df_prepared, zone_id_dict = prepare_features(train_df)\n",
    "test_df_prepared, _ = prepare_features(test_df, zone_id_dict)"
   ]
  },
  {
   "cell_type": "code",
   "execution_count": 24,
   "metadata": {},
   "outputs": [
    {
     "data": {
      "text/html": [
       "<div>\n",
       "<style scoped>\n",
       "    .dataframe tbody tr th:only-of-type {\n",
       "        vertical-align: middle;\n",
       "    }\n",
       "\n",
       "    .dataframe tbody tr th {\n",
       "        vertical-align: top;\n",
       "    }\n",
       "\n",
       "    .dataframe thead th {\n",
       "        text-align: right;\n",
       "    }\n",
       "</style>\n",
       "<table border=\"1\" class=\"dataframe\">\n",
       "  <thead>\n",
       "    <tr style=\"text-align: right;\">\n",
       "      <th></th>\n",
       "      <th>zone_id</th>\n",
       "      <th>banner_id</th>\n",
       "      <th>oaid_hash</th>\n",
       "      <th>campaign_clicks</th>\n",
       "      <th>os_id</th>\n",
       "      <th>country_id</th>\n",
       "      <th>clicks</th>\n",
       "      <th>day_of_week</th>\n",
       "      <th>is_weekend</th>\n",
       "      <th>hour</th>\n",
       "    </tr>\n",
       "  </thead>\n",
       "  <tbody>\n",
       "    <tr>\n",
       "      <th>1390198</th>\n",
       "      <td>0.021063</td>\n",
       "      <td>596</td>\n",
       "      <td>3693539</td>\n",
       "      <td>0</td>\n",
       "      <td>0</td>\n",
       "      <td>7</td>\n",
       "      <td>0</td>\n",
       "      <td>2</td>\n",
       "      <td>0</td>\n",
       "      <td>0</td>\n",
       "    </tr>\n",
       "    <tr>\n",
       "      <th>5041415</th>\n",
       "      <td>0.007601</td>\n",
       "      <td>29</td>\n",
       "      <td>1293475</td>\n",
       "      <td>1</td>\n",
       "      <td>3</td>\n",
       "      <td>0</td>\n",
       "      <td>0</td>\n",
       "      <td>6</td>\n",
       "      <td>1</td>\n",
       "      <td>0</td>\n",
       "    </tr>\n",
       "    <tr>\n",
       "      <th>1442602</th>\n",
       "      <td>0.038422</td>\n",
       "      <td>188</td>\n",
       "      <td>5233288</td>\n",
       "      <td>2</td>\n",
       "      <td>2</td>\n",
       "      <td>15</td>\n",
       "      <td>0</td>\n",
       "      <td>6</td>\n",
       "      <td>1</td>\n",
       "      <td>0</td>\n",
       "    </tr>\n",
       "    <tr>\n",
       "      <th>7232498</th>\n",
       "      <td>0.027595</td>\n",
       "      <td>52</td>\n",
       "      <td>1292247</td>\n",
       "      <td>2</td>\n",
       "      <td>2</td>\n",
       "      <td>5</td>\n",
       "      <td>0</td>\n",
       "      <td>6</td>\n",
       "      <td>1</td>\n",
       "      <td>0</td>\n",
       "    </tr>\n",
       "    <tr>\n",
       "      <th>14938691</th>\n",
       "      <td>0.018115</td>\n",
       "      <td>73</td>\n",
       "      <td>2947801</td>\n",
       "      <td>1</td>\n",
       "      <td>4</td>\n",
       "      <td>13</td>\n",
       "      <td>0</td>\n",
       "      <td>6</td>\n",
       "      <td>1</td>\n",
       "      <td>0</td>\n",
       "    </tr>\n",
       "  </tbody>\n",
       "</table>\n",
       "</div>"
      ],
      "text/plain": [
       "           zone_id  banner_id  oaid_hash  campaign_clicks  os_id  country_id  \\\n",
       "1390198   0.021063        596    3693539                0      0           7   \n",
       "5041415   0.007601         29    1293475                1      3           0   \n",
       "1442602   0.038422        188    5233288                2      2          15   \n",
       "7232498   0.027595         52    1292247                2      2           5   \n",
       "14938691  0.018115         73    2947801                1      4          13   \n",
       "\n",
       "          clicks  day_of_week  is_weekend  hour  \n",
       "1390198        0            2           0     0  \n",
       "5041415        0            6           1     0  \n",
       "1442602        0            6           1     0  \n",
       "7232498        0            6           1     0  \n",
       "14938691       0            6           1     0  "
      ]
     },
     "execution_count": 24,
     "metadata": {},
     "output_type": "execute_result"
    }
   ],
   "source": [
    "train_df_prepared.head(5)"
   ]
  },
  {
   "cell_type": "markdown",
   "metadata": {},
   "source": [
    "**User field:** oaid_hash, os_id, country_id\n",
    "\n",
    "**Context field:** zone_id, day_of_week, is_weekend, hour\n",
    "\n",
    "**banner_field:** banner_id,  campaign_clicks"
   ]
  },
  {
   "cell_type": "code",
   "execution_count": 25,
   "metadata": {},
   "outputs": [],
   "source": [
    "# подготовка данных в нужном для ffm формате\n",
    "def get_features_for_ffm(df, filepath):\n",
    "    with open(filepath, \"w\") as f:\n",
    "        lines = ''\n",
    "        for idx, i in enumerate(df.index):\n",
    "            row = df.loc[i, :]\n",
    "            target = row['clicks']\n",
    "            user_features = '1:' + str(int(row['oaid_hash'])) + ':1,1:' + str(int(oaid_hash_max + row['os_id'])) + ':1,1:' + str(oaid_hash_max + 11 + int(row['country_id']))\n",
    "            context_features = '2:0:' + str(row['zone_id']) + ',2:' + str(int(1 + row['day_of_week'])) + ':1,2:8:' + str(int(row['is_weekend'])) + ',2:' + str(int(9+row['hour']))+ ':1'\n",
    "            banner_features = '3:' + str(int(row['banner_id'])) + ':1,3:2000:' + str(int(row['campaign_clicks']))\n",
    "            lines += str(int(target)) + ',' + user_features + ',' + context_features + ',' + banner_features + '\\n'\n",
    "            if idx > 0 and idx % 200000 == 0:\n",
    "                print(idx)\n",
    "        f.write(lines)"
   ]
  },
  {
   "cell_type": "code",
   "execution_count": 26,
   "metadata": {},
   "outputs": [],
   "source": [
    "# для кросс-валидации используем часть данных\n",
    "train_sampled = train_df_prepared.sample(n=2000000, random_state=1)\n",
    "test_sampled = test_df_prepared.sample(n=500000, random_state=1)"
   ]
  },
  {
   "cell_type": "code",
   "execution_count": 27,
   "metadata": {
    "collapsed": true
   },
   "outputs": [
    {
     "name": "stdout",
     "output_type": "stream",
     "text": [
      "200000\n",
      "400000\n",
      "600000\n",
      "800000\n",
      "1000000\n",
      "1200000\n",
      "1400000\n",
      "1600000\n",
      "1800000\n",
      "2000000\n",
      "2200000\n",
      "2400000\n",
      "2600000\n",
      "2800000\n",
      "3000000\n",
      "3200000\n",
      "3400000\n",
      "3600000\n",
      "3800000\n",
      "4000000\n",
      "4200000\n",
      "4400000\n",
      "4600000\n",
      "4800000\n",
      "5000000\n",
      "5200000\n",
      "5400000\n",
      "5600000\n",
      "5800000\n",
      "6000000\n",
      "6200000\n",
      "6400000\n",
      "6600000\n",
      "6800000\n",
      "7000000\n",
      "7200000\n",
      "7400000\n",
      "7600000\n",
      "7800000\n",
      "8000000\n",
      "8200000\n",
      "8400000\n",
      "8600000\n",
      "8800000\n",
      "9000000\n",
      "9200000\n",
      "9400000\n",
      "9600000\n",
      "9800000\n",
      "10000000\n",
      "10200000\n",
      "10400000\n",
      "10600000\n",
      "10800000\n",
      "11000000\n",
      "11200000\n",
      "11400000\n",
      "11600000\n",
      "11800000\n",
      "12000000\n",
      "12200000\n",
      "12400000\n",
      "12600000\n",
      "12800000\n",
      "13000000\n",
      "13200000\n",
      "13400000\n",
      "13600000\n",
      "200000\n",
      "400000\n",
      "600000\n",
      "800000\n",
      "1000000\n",
      "1200000\n",
      "1400000\n",
      "1600000\n",
      "1800000\n",
      "2000000\n"
     ]
    }
   ],
   "source": [
    "# сохраняем подготовленные данные\n",
    "\n",
    "get_features_for_ffm(train_df_prepared, './full_train_data_ffm.txt')\n",
    "get_features_for_ffm(train_sampled, './train_data_ffm.txt')\n",
    "get_features_for_ffm(test_df_prepared, './full_test_data_ffm.txt')\n",
    "get_features_for_ffm(test_sampled, './test_data_ffm.txt')"
   ]
  },
  {
   "cell_type": "code",
   "execution_count": 17,
   "metadata": {},
   "outputs": [],
   "source": [
    "def create_model(ffm_lines, k, lambda_=0.001):\n",
    "    with open('./features.txt', 'w') as f:\n",
    "        f.writelines(ffm_lines)\n",
    "    \n",
    "    ffm_model = xl.create_ffm()\n",
    "    ffm_model.setTrain(\"./features.txt\")\n",
    "    \n",
    "    param = {'task':'binary', 'lr':0.01, 'lambda': lambda_, 'k': k, 'metric': 'acc'}\n",
    "    ffm_model.fit(param, model_path='./model.out')\n",
    "    return ffm_model"
   ]
  },
  {
   "cell_type": "code",
   "execution_count": 11,
   "metadata": {},
   "outputs": [],
   "source": [
    "def evaluate_model(ffm_lines, model, real_y):\n",
    "    with open('./val_features.txt', 'w') as f:\n",
    "        f.writelines(ffm_lines)\n",
    "    model.setTest(\"./val_features.txt\")\n",
    "    model.setSign()\n",
    "    model.predict(\"./model.out\", \"./output.txt\")\n",
    "    with open('./output.txt', 'r') as f:\n",
    "        y_pred = list(map(int, f.read().split('\\n')[:-1]))\n",
    "    return log_loss(real_y, y_pred)"
   ]
  },
  {
   "cell_type": "code",
   "execution_count": 30,
   "metadata": {},
   "outputs": [],
   "source": [
    "def cv_k(df):\n",
    "    split = TimeSeriesSplit(n_splits=3)\n",
    "    res_score, res_k = np.inf, None\n",
    "    for k in [4, 6, 8]:\n",
    "        scores = []\n",
    "        print(f'Evaluating  model with latent factor size {k}')\n",
    "        for train_index, test_index in split.split(df):\n",
    "            real_y = list(map(int, df.loc[test_index]['clicks'].to_list()))\n",
    "            model = create_model(df.loc[train_index]['data'].to_list(), k)\n",
    "            scores.append(evaluate_model(df.loc[test_index]['data'].to_list(), model, real_y))\n",
    "        score = np.mean(scores)\n",
    "        if score < res_score:\n",
    "            res_score, res_k = score, k\n",
    "    print(f'Best score {res_score} with size: {res_k}')"
   ]
  },
  {
   "cell_type": "markdown",
   "metadata": {},
   "source": [
    "# Валидация по времени для подбора размерности "
   ]
  },
  {
   "cell_type": "code",
   "execution_count": null,
   "metadata": {},
   "outputs": [
    {
     "name": "stdout",
     "output_type": "stream",
     "text": [
      "Evaluating  model with latent factor size 4\n",
      "predicting\n",
      "predicted\n",
      "predicting\n",
      "predicted\n"
     ]
    }
   ],
   "source": [
    "with open('./train_data_ffm.txt', 'r') as f:\n",
    "    train_ffm_list = f.readlines()\n",
    "df = pd.DataFrame()\n",
    "df['data'] = train_ffm_list\n",
    "df['clicks'] = df['data'].apply(lambda x: x[0])\n",
    "cv_k(df)"
   ]
  },
  {
   "cell_type": "code",
   "execution_count": null,
   "metadata": {},
   "outputs": [],
   "source": [
    "# кёрнел умер, когда пересчитывала :( \n",
    "# до этого лучшее значение log_loss получилось для размерности 6"
   ]
  },
  {
   "cell_type": "markdown",
   "metadata": {},
   "source": [
    "# Тест на 2021-10-02"
   ]
  },
  {
   "cell_type": "code",
   "execution_count": 9,
   "metadata": {},
   "outputs": [],
   "source": [
    "with open('./full_test_data_ffm.txt', 'r') as f:\n",
    "    full_test_ffm_list = f.readlines()"
   ]
  },
  {
   "cell_type": "code",
   "execution_count": 10,
   "metadata": {},
   "outputs": [],
   "source": [
    "y_real = list(map(lambda x: int(x[0]), full_test_ffm_list))"
   ]
  },
  {
   "cell_type": "code",
   "execution_count": 7,
   "metadata": {},
   "outputs": [],
   "source": [
    "model = xl.create_ffm()\n",
    "model.setTrain('./full_train_data_ffm.txt')\n",
    "\n",
    "param = {'task':'binary', 'lr':0.01, 'lambda': 0.001, 'k': 6, 'metric': 'acc'}\n",
    "model.fit(param, model_path='./model.out')\n",
    "\n",
    "model.setTest('./full_test_data_ffm.txt')\n",
    "model.setSign()\n",
    "model.predict('./model.out', './output.txt')\n",
    "\n",
    "with open('./output.txt', 'r') as f:\n",
    "    y_pred = list(map(int, f.read().split('\\n')[:-1]))\n",
    "        "
   ]
  },
  {
   "cell_type": "code",
   "execution_count": 11,
   "metadata": {},
   "outputs": [
    {
     "data": {
      "text/plain": [
       "1.2226216036444428"
      ]
     },
     "execution_count": 11,
     "metadata": {},
     "output_type": "execute_result"
    }
   ],
   "source": [
    "log_loss(y_real, y_pred)"
   ]
  },
  {
   "cell_type": "code",
   "execution_count": 4,
   "metadata": {},
   "outputs": [],
   "source": [
    "# ffm_model = xl.create_ffm()\n",
    "# ffm_model.setTXTModel(model_path='./model.out')"
   ]
  }
 ],
 "metadata": {
  "kernelspec": {
   "display_name": "Python 3",
   "language": "python",
   "name": "python3"
  },
  "language_info": {
   "codemirror_mode": {
    "name": "ipython",
    "version": 3
   },
   "file_extension": ".py",
   "mimetype": "text/x-python",
   "name": "python",
   "nbconvert_exporter": "python",
   "pygments_lexer": "ipython3",
   "version": "3.7.0"
  }
 },
 "nbformat": 4,
 "nbformat_minor": 5
}
