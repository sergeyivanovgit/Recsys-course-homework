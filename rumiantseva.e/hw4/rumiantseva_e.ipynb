{
 "cells": [
  {
   "cell_type": "code",
   "execution_count": null,
   "metadata": {},
   "outputs": [],
   "source": [
    "import pandas as pd\n",
    "import numpy as np\n",
    "\n",
    "import json\n",
    "import pickle\n",
    "\n",
    "from scipy.special import logit"
   ]
  },
  {
   "cell_type": "markdown",
   "metadata": {},
   "source": [
    "## Импорт сохранённой линейной модели и препроцессинг"
   ]
  },
  {
   "cell_type": "code",
   "execution_count": 10,
   "metadata": {},
   "outputs": [],
   "source": [
    "with open('./zone_id_dict.json') as f:\n",
    "    zone_id_dict = json.load(f)\n",
    "with open('./log_reg_C_0.01.sav', 'rb') as f:\n",
    "    model = pickle.load(f)\n",
    "with open('./one_hot_encoder.sav', 'rb') as f:\n",
    "    encoder = pickle.load(f)"
   ]
  },
  {
   "cell_type": "code",
   "execution_count": 2,
   "metadata": {},
   "outputs": [],
   "source": [
    "def prepare_features(df_, zone_id_dict):\n",
    "    # убираем impressions - везде 1\n",
    "    df_.drop(columns=['impressions'], inplace=True) \n",
    "    \n",
    "    # date_time -> день недели, час, выходной ли, месяц\n",
    "    df_['day_of_week']= pd.to_datetime(df_['date_time']).dt.dayofweek\n",
    "    df_['is_weekend'] = (df_['day_of_week'] > 4).astype(int)\n",
    "    df_['hour']= pd.to_datetime(df_['date_time']).dt.hour\n",
    "    df_['month']= pd.to_datetime(df_['date_time']).dt.month - pd.to_datetime(df_['date_time']).dt.month.min() # чтобы были 0 и 1\n",
    "    \n",
    "    # campaign_clicks -> непрерывные значения к категориальному признаку с интервалами: 0, 1, 2-10, 11-20, 20-200, >200\n",
    "    df_['campaign_clicks_'] = 0\n",
    "    df_.loc[df_['campaign_clicks'] == 1, 'campaign_clicks_'] = 1\n",
    "    df_.loc[df_['campaign_clicks'] > 1, 'campaign_clicks_'] = 2\n",
    "    df_.loc[df_['campaign_clicks'] > 10, 'campaign_clicks_'] = 3\n",
    "    df_.loc[df_['campaign_clicks'] > 20, 'campaign_clicks_'] = 4\n",
    "    df_.loc[df_['campaign_clicks'] > 200, 'campaign_clicks_'] = 5  \n",
    "    \n",
    "    # zone_id -> 10 классов по доле кликов, если новый, то 11\n",
    "    df_['zone_id_coded'] = df_['zone_id'].map(zone_id_dict)\n",
    "    df_['zone_id_coded'] = df_['zone_id_coded'].fillna(11)\n",
    "    \n",
    "    # и для 9, и для 10 os_id - только негативные примеры, можно объединить в один класс\n",
    "    df_.loc[df_['os_id'] == 10]['os_id'] = 9\n",
    "    # убираем преобразованные фичи\n",
    "    df_.drop(columns=['zone_id', 'campaign_clicks'], inplace=True)\n",
    "    \n",
    "    # для создания интеракций\n",
    "    df_['banner_str'] = df_['banner_id'].astype(str)\n",
    "    \n",
    "    # интеракции между индексом баннера и фичами контекста/пользователя\n",
    "    sep = '_'\n",
    "    df_['id_weekend'] = df_['banner_str'] + sep + df_['is_weekend'].astype(str)\n",
    "    df_['id_day'] = df_['banner_str'] + sep + df_['day_of_week'].astype(str)\n",
    "    df_['id_clicks'] = df_['banner_str'] + sep + df_['campaign_clicks_'].astype(str)\n",
    "    df_['id_os'] = df_['banner_str'] + sep + df_['os_id'].astype(str)\n",
    "    df_['id_time'] = df_['banner_str'] + sep + df_['hour'].astype(str)\n",
    "    df_['id_zone'] = df_['banner_str'] + sep + df_['zone_id_coded'].astype(str)\n",
    "    df_['id_country'] = df_['banner_str'] + sep + df_['country_id'].astype(str)\n",
    "    \n",
    "    return df_"
   ]
  },
  {
   "cell_type": "code",
   "execution_count": 41,
   "metadata": {},
   "outputs": [],
   "source": [
    "df_ = pd.read_csv('/Users/evgenia/Desktop/data.csv')\n",
    "df_ = df_[df_['date_time'] >= '2021-10-02 00:00:01.000000']"
   ]
  },
  {
   "cell_type": "markdown",
   "metadata": {},
   "source": [
    "## Получение предиктов для пары баннеров"
   ]
  },
  {
   "cell_type": "code",
   "execution_count": 42,
   "metadata": {},
   "outputs": [],
   "source": [
    "df_1 = df_.copy()\n",
    "df_2 = df_.copy()\n",
    "df_2['banner_id'] = df_2['banner_id1']"
   ]
  },
  {
   "cell_type": "code",
   "execution_count": 43,
   "metadata": {},
   "outputs": [],
   "source": [
    "df_1 = prepare_features(df_1, zone_id_dict)\n",
    "df_2 = prepare_features(df_2, zone_id_dict)"
   ]
  },
  {
   "cell_type": "code",
   "execution_count": 44,
   "metadata": {},
   "outputs": [],
   "source": [
    "columns = ['banner_id', 'os_id', 'country_id', 'day_of_week', 'hour', 'month', 'campaign_clicks_',\n",
    "                   'zone_id_coded', 'id_day', 'id_clicks', 'id_os', 'id_time', 'id_zone', 'id_country', 'id_weekend']\n",
    "\n",
    "X1 = df_1[columns]\n",
    "X2 = df_2[columns]"
   ]
  },
  {
   "cell_type": "code",
   "execution_count": 45,
   "metadata": {},
   "outputs": [],
   "source": [
    "X_enc1 = encoder.transform(X1)\n",
    "X_enc2 = encoder.transform(X2)"
   ]
  },
  {
   "cell_type": "code",
   "execution_count": 46,
   "metadata": {},
   "outputs": [],
   "source": [
    "df_['coeff_sum0_new'] = logit(model.predict_proba(X_enc1)[:, 0])\n",
    "df_['coeff_sum1_new'] = logit(model.predict_proba(X_enc2)[:, 0])"
   ]
  },
  {
   "cell_type": "markdown",
   "metadata": {},
   "source": [
    "## Оценка вероятности того, что одна нормальная величина больше другой"
   ]
  },
  {
   "cell_type": "code",
   "execution_count": 26,
   "metadata": {},
   "outputs": [],
   "source": [
    "def compare_normal_distr(mu0, sigma0, mu1, sigma1, samples_n=1000):\n",
    "    diff = np.random.normal(mu0, sigma0, samples_n) - np.random.normal(mu1, sigma1, samples_n)\n",
    "    return float((diff > 0).sum()) / samples_n"
   ]
  },
  {
   "cell_type": "code",
   "execution_count": 71,
   "metadata": {},
   "outputs": [],
   "source": [
    "df_.loc[df_['g0'] < 0., 'g0'] = 0.\n",
    "df_.loc[df_['g1'] < 0., 'g1'] = 0."
   ]
  },
  {
   "cell_type": "code",
   "execution_count": 73,
   "metadata": {},
   "outputs": [],
   "source": [
    "df_['pi_0'] = df_.apply(lambda row: compare_normal_distr(row['coeff_sum0'], row['g0'], row['coeff_sum1'], row['g1']), axis=1)\n",
    "df_['pi_1'] = df_.apply(lambda row: compare_normal_distr(row['coeff_sum0_new'], row['g0'], row['coeff_sum0_new'], row['g1']), axis=1)\n"
   ]
  },
  {
   "cell_type": "code",
   "execution_count": 79,
   "metadata": {},
   "outputs": [],
   "source": [
    "lm = 10"
   ]
  },
  {
   "cell_type": "markdown",
   "metadata": {},
   "source": [
    "## Clipped IPS (lambda=10)"
   ]
  },
  {
   "cell_type": "code",
   "execution_count": 82,
   "metadata": {},
   "outputs": [
    {
     "data": {
      "text/plain": [
       "0.04908145627913838"
      ]
     },
     "execution_count": 82,
     "metadata": {},
     "output_type": "execute_result"
    }
   ],
   "source": [
    "np.mean(df_['clicks'] * np.minimum(lm, df_['pi_0'] / df_['pi_1']))"
   ]
  },
  {
   "cell_type": "code",
   "execution_count": null,
   "metadata": {},
   "outputs": [],
   "source": []
  }
 ],
 "metadata": {
  "kernelspec": {
   "display_name": "Python 3",
   "language": "python",
   "name": "python3"
  },
  "language_info": {
   "codemirror_mode": {
    "name": "ipython",
    "version": 3
   },
   "file_extension": ".py",
   "mimetype": "text/x-python",
   "name": "python",
   "nbconvert_exporter": "python",
   "pygments_lexer": "ipython3",
   "version": "3.7.0"
  }
 },
 "nbformat": 4,
 "nbformat_minor": 1
}
