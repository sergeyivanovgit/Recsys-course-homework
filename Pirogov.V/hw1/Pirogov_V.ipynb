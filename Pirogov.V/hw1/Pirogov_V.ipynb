{
  "nbformat": 4,
  "nbformat_minor": 0,
  "metadata": {
    "colab": {
      "name": "HW-1-reqsys.ipynb",
      "provenance": [],
      "collapsed_sections": []
    },
    "kernelspec": {
      "name": "python3",
      "display_name": "Python 3"
    },
    "language_info": {
      "name": "python"
    }
  },
  "cells": [
    {
      "cell_type": "markdown",
      "metadata": {
        "id": "z2RevwUAoGUQ"
      },
      "source": [
        "Домашнее задание №1 по курсу \"Рекомендательные системы на практике\"\n",
        "\n",
        "Пирогов Владимир\n",
        "\n",
        "Так как работал в гугл колабе, поэтому данные выкачиваю со своего гугл диска."
      ]
    },
    {
      "cell_type": "code",
      "metadata": {
        "colab": {
          "base_uri": "https://localhost:8080/"
        },
        "id": "sbTGDNt9oFRx",
        "outputId": "0fc718a2-f53e-4c9b-f192-72a3d5bb0c35"
      },
      "source": [
        "from google.colab import drive\n",
        "drive.mount(\"/content/drive\", force_remount=True)\n",
        "import numpy as np\n",
        "import matplotlib.pyplot as plt\n",
        "import scipy.stats as st\n",
        "import pandas as pd\n",
        "import seaborn as sns\n",
        "\n",
        "import statsmodels.api as sm\n",
        "import patsy as pt\n",
        "import sklearn.linear_model as lm\n",
        "from datetime import datetime"
      ],
      "execution_count": 1,
      "outputs": [
        {
          "output_type": "stream",
          "name": "stdout",
          "text": [
            "Mounted at /content/drive\n"
          ]
        },
        {
          "output_type": "stream",
          "name": "stderr",
          "text": [
            "/usr/local/lib/python3.7/dist-packages/statsmodels/tools/_testing.py:19: FutureWarning: pandas.util.testing is deprecated. Use the functions in the public API at pandas.testing instead.\n",
            "  import pandas.util.testing as tm\n"
          ]
        }
      ]
    },
    {
      "cell_type": "code",
      "metadata": {
        "id": "G80N2bZdp_wS"
      },
      "source": [
        "path = '/content/drive/My Drive/CSC/req_sys/HW_1/'"
      ],
      "execution_count": 2,
      "outputs": []
    },
    {
      "cell_type": "markdown",
      "metadata": {
        "id": "BBkpPkZBIVOo"
      },
      "source": [
        "Загружаем данные в блокнот в переменную data, типа DataFrame. Приводим все даты в нормальный вид и проверяем всё ли хорошо. Длтя того, чтобы дальше спокойно работать - проверим даты за которые предоставлен набор данных. "
      ]
    },
    {
      "cell_type": "code",
      "metadata": {
        "id": "-Mf3iFynphSZ"
      },
      "source": [
        "data = pd.read_csv(path+'data.csv', usecols = ['date_time', 'zone_id', 'banner_id', 'campaign_clicks', 'os_id', 'country_id', 'impressions', 'clicks'])"
      ],
      "execution_count": 3,
      "outputs": []
    },
    {
      "cell_type": "code",
      "metadata": {
        "id": "T09AUj6HSbrn"
      },
      "source": [
        "data['date_time'] = pd.to_datetime(data['date_time'])"
      ],
      "execution_count": 5,
      "outputs": []
    },
    {
      "cell_type": "code",
      "metadata": {
        "id": "BW_19Iq1uSp1"
      },
      "source": [
        "data[\"day\"] = data['date_time'].dt.day"
      ],
      "execution_count": 7,
      "outputs": []
    },
    {
      "cell_type": "code",
      "metadata": {
        "id": "JMSviHWuGwrP"
      },
      "source": [
        "data[\"month\"] = data['date_time'].dt.month"
      ],
      "execution_count": 8,
      "outputs": []
    },
    {
      "cell_type": "code",
      "metadata": {
        "colab": {
          "base_uri": "https://localhost:8080/",
          "height": 142
        },
        "id": "uNvPScYaHaxl",
        "outputId": "04284f36-e69a-4ba3-e207-5b9bd41fabf4"
      },
      "source": [
        "data.head(3) #Всё ли хорошо"
      ],
      "execution_count": 9,
      "outputs": [
        {
          "output_type": "execute_result",
          "data": {
            "text/html": [
              "<div>\n",
              "<style scoped>\n",
              "    .dataframe tbody tr th:only-of-type {\n",
              "        vertical-align: middle;\n",
              "    }\n",
              "\n",
              "    .dataframe tbody tr th {\n",
              "        vertical-align: top;\n",
              "    }\n",
              "\n",
              "    .dataframe thead th {\n",
              "        text-align: right;\n",
              "    }\n",
              "</style>\n",
              "<table border=\"1\" class=\"dataframe\">\n",
              "  <thead>\n",
              "    <tr style=\"text-align: right;\">\n",
              "      <th></th>\n",
              "      <th>date_time</th>\n",
              "      <th>zone_id</th>\n",
              "      <th>banner_id</th>\n",
              "      <th>campaign_clicks</th>\n",
              "      <th>os_id</th>\n",
              "      <th>country_id</th>\n",
              "      <th>impressions</th>\n",
              "      <th>clicks</th>\n",
              "      <th>day</th>\n",
              "      <th>month</th>\n",
              "    </tr>\n",
              "  </thead>\n",
              "  <tbody>\n",
              "    <tr>\n",
              "      <th>0</th>\n",
              "      <td>2021-09-27 00:01:30</td>\n",
              "      <td>0</td>\n",
              "      <td>0</td>\n",
              "      <td>0</td>\n",
              "      <td>0</td>\n",
              "      <td>0</td>\n",
              "      <td>1</td>\n",
              "      <td>1</td>\n",
              "      <td>27</td>\n",
              "      <td>9</td>\n",
              "    </tr>\n",
              "    <tr>\n",
              "      <th>1</th>\n",
              "      <td>2021-09-26 22:54:49</td>\n",
              "      <td>1</td>\n",
              "      <td>1</td>\n",
              "      <td>0</td>\n",
              "      <td>0</td>\n",
              "      <td>1</td>\n",
              "      <td>1</td>\n",
              "      <td>1</td>\n",
              "      <td>26</td>\n",
              "      <td>9</td>\n",
              "    </tr>\n",
              "    <tr>\n",
              "      <th>2</th>\n",
              "      <td>2021-09-26 23:57:20</td>\n",
              "      <td>2</td>\n",
              "      <td>2</td>\n",
              "      <td>3</td>\n",
              "      <td>0</td>\n",
              "      <td>0</td>\n",
              "      <td>1</td>\n",
              "      <td>1</td>\n",
              "      <td>26</td>\n",
              "      <td>9</td>\n",
              "    </tr>\n",
              "  </tbody>\n",
              "</table>\n",
              "</div>"
            ],
            "text/plain": [
              "            date_time  zone_id  banner_id  ...  clicks  day  month\n",
              "0 2021-09-27 00:01:30        0          0  ...       1   27      9\n",
              "1 2021-09-26 22:54:49        1          1  ...       1   26      9\n",
              "2 2021-09-26 23:57:20        2          2  ...       1   26      9\n",
              "\n",
              "[3 rows x 10 columns]"
            ]
          },
          "metadata": {},
          "execution_count": 9
        }
      ]
    },
    {
      "cell_type": "code",
      "metadata": {
        "colab": {
          "base_uri": "https://localhost:8080/"
        },
        "id": "lPkOVeROG2PM",
        "outputId": "87f7385e-6da9-47bd-adf3-a9b38e15c69c"
      },
      "source": [
        "data.groupby('month')['day'].value_counts()"
      ],
      "execution_count": 14,
      "outputs": [
        {
          "output_type": "execute_result",
          "data": {
            "text/plain": [
              "month  day\n",
              "9      26     3102610\n",
              "       29     2420588\n",
              "       27     2367303\n",
              "       28     2307355\n",
              "       30     1851189\n",
              "       1            1\n",
              "10     2      2128978\n",
              "       1      1643448\n",
              "Name: day, dtype: int64"
            ]
          },
          "metadata": {},
          "execution_count": 14
        }
      ]
    },
    {
      "cell_type": "markdown",
      "metadata": {
        "id": "GrKk91sCFaOq"
      },
      "source": [
        "Ой. Интересно получилось, но у нас есть элементы собранные 1-ого сентября. Для анализа они нам не нужны, так как расположены далеко по времени. Поэтому выкинем их. \n"
      ]
    },
    {
      "cell_type": "code",
      "metadata": {
        "id": "2FwowcyKHaUp"
      },
      "source": [
        "data.drop(data[(data['month']==9) & (data['day']==1)].index, inplace=True, axis=0)"
      ],
      "execution_count": 27,
      "outputs": []
    },
    {
      "cell_type": "code",
      "metadata": {
        "colab": {
          "base_uri": "https://localhost:8080/"
        },
        "id": "D15Yv7rRKfXz",
        "outputId": "3b1b1dfe-612d-4cb3-e0d3-052ca5e7cf54"
      },
      "source": [
        "data.shape"
      ],
      "execution_count": 28,
      "outputs": [
        {
          "output_type": "execute_result",
          "data": {
            "text/plain": [
              "(15821471, 10)"
            ]
          },
          "metadata": {},
          "execution_count": 28
        }
      ]
    },
    {
      "cell_type": "markdown",
      "metadata": {
        "id": "dzJyNNTwKgN7"
      },
      "source": [
        "Как видим объём данных очень большой. Далее были попытки запустить sns.pairplot. Однако они не увенчались успехов в связи с огромным объёмом данных. "
      ]
    },
    {
      "cell_type": "markdown",
      "metadata": {
        "id": "3vjtIlI2KMVF"
      },
      "source": [
        "К сожалению колаб упал на этом. Видимо объём датасета очень большой. "
      ]
    },
    {
      "cell_type": "markdown",
      "metadata": {
        "id": "AVDB3TVbQ_ZS"
      },
      "source": [
        "Перейдем к осмыслению набора данных. Заметим следующее: \n",
        "1. Логично использовать фичу  zone*impressions. Так как логично предположить что показ рекламы зависит от места расположению рекламы\n",
        "2. Также интересно рассмотреть фичу отвечающую произведению страна - баннер\n",
        "3. И инетерсено рассмотреть произведение регион - общее количество показов данной рекламы. "
      ]
    },
    {
      "cell_type": "markdown",
      "metadata": {
        "id": "4D4mh3CjvM-k"
      },
      "source": [
        "Так как память у колаба маленькая сделаем финт ушами. Викинем самые безсмысленные значения. (зоны стран, которые встречаются менбше 100 раз, например)"
      ]
    },
    {
      "cell_type": "markdown",
      "metadata": {
        "id": "789iIJ9jT2pn"
      },
      "source": [
        "К сожалению, все наши колонки имеют в основном только id соотвествующих объектов. А умножать id смысла мало - придётся делать one hot encoding."
      ]
    },
    {
      "cell_type": "code",
      "metadata": {
        "id": "C8WDkosmUOYa"
      },
      "source": [
        "from sklearn.preprocessing import OneHotEncoder\n",
        "from sklearn.metrics import log_loss\n",
        "from tqdm import tqdm # для красоты\n",
        "from sklearn.linear_model import LogisticRegression"
      ],
      "execution_count": 64,
      "outputs": []
    },
    {
      "cell_type": "markdown",
      "metadata": {
        "id": "dmNnf0VoJDFS"
      },
      "source": [
        "Нам понадобятся три выборки - обучающая (далее train), тестовая (test) и валидационная для подбора метапараметров (val)"
      ]
    },
    {
      "cell_type": "code",
      "metadata": {
        "colab": {
          "base_uri": "https://localhost:8080/"
        },
        "id": "WF7mu0XiKem8",
        "outputId": "c4a4554e-cabe-4e15-d1fe-cc069bd1d164"
      },
      "source": [
        "enc = OneHotEncoder(handle_unknown='ignore')\n",
        "enc.fit(data.drop(['clicks', 'date_time'], axis=1))"
      ],
      "execution_count": 32,
      "outputs": [
        {
          "output_type": "execute_result",
          "data": {
            "text/plain": [
              "OneHotEncoder(categories='auto', drop=None, dtype=<class 'numpy.float64'>,\n",
              "              handle_unknown='ignore', sparse=True)"
            ]
          },
          "metadata": {},
          "execution_count": 32
        }
      ]
    },
    {
      "cell_type": "markdown",
      "metadata": {
        "id": "Ap7D2wf5KlgI"
      },
      "source": [
        "Выделяем тренировочные данные (исключаем последний день)"
      ]
    },
    {
      "cell_type": "code",
      "metadata": {
        "id": "OdM-oKLqKtB8"
      },
      "source": [
        "train = data[~(data['month']==10)]"
      ],
      "execution_count": 54,
      "outputs": []
    },
    {
      "cell_type": "code",
      "metadata": {
        "id": "DAcZea7QKuWQ"
      },
      "source": [
        "X_train = train.drop(['clicks', 'date_time'], axis=1)\n",
        "X_train = enc.transform(X_train)\n",
        "y_train = train['clicks']"
      ],
      "execution_count": 55,
      "outputs": []
    },
    {
      "cell_type": "markdown",
      "metadata": {
        "id": "9LmBhcKgMxYZ"
      },
      "source": [
        "Выделяем валидационные данные"
      ]
    },
    {
      "cell_type": "code",
      "metadata": {
        "id": "5mTbUJLBM9bY"
      },
      "source": [
        "val = data[(data['day']==1) & (data['month']==10)]"
      ],
      "execution_count": 56,
      "outputs": []
    },
    {
      "cell_type": "code",
      "metadata": {
        "id": "BhQp6n3jNL7D"
      },
      "source": [
        "X_val = train.drop(['clicks', 'date_time'], axis=1)\n",
        "X_val = enc.transform(X_val)\n",
        "y_val = train['clicks']"
      ],
      "execution_count": 58,
      "outputs": []
    },
    {
      "cell_type": "markdown",
      "metadata": {
        "id": "1tDPh65QM26f"
      },
      "source": [
        "Выделяем тестовые данные"
      ]
    },
    {
      "cell_type": "code",
      "metadata": {
        "id": "oNMH5LhmMxDw"
      },
      "source": [
        "test = data[(data['day']==2) & (data['month']==10)]"
      ],
      "execution_count": 59,
      "outputs": []
    },
    {
      "cell_type": "code",
      "metadata": {
        "id": "zVANEU2KNWPU"
      },
      "source": [
        "X_test = test.drop(['clicks', 'date_time'], axis=1)\n",
        "X_test = enc.transform(X_test)\n",
        "y_test = test['clicks']"
      ],
      "execution_count": 60,
      "outputs": []
    },
    {
      "cell_type": "markdown",
      "metadata": {
        "id": "8GOdfKe5JMDV"
      },
      "source": [
        "На этом подготовка данных завершена. Приступим к построению модели. И отбору лучшей из них. Так как вычислительных мощностей мало выбор будет осуществляьбся из трёх параметров. Если лучшее значение будет крайним. Попытаемся пойти в ту сторону"
      ]
    },
    {
      "cell_type": "code",
      "metadata": {
        "colab": {
          "base_uri": "https://localhost:8080/"
        },
        "id": "8dg2YI8yN1Fx",
        "outputId": "d2b4e007-23d5-4050-961b-ebc57114e317"
      },
      "source": [
        "log_los = []\n",
        "regularization = [0.1, 1, 10]\n",
        "\n",
        "for c in tqdm(regularization):\n",
        "  model = LogisticRegression(fit_intercept=False, C=c, solver='liblinear').fit(X_train, y_train)\n",
        "  log_los.append(log_loss(y_val, model.predict_proba(X_val)))"
      ],
      "execution_count": 66,
      "outputs": [
        {
          "output_type": "stream",
          "name": "stderr",
          "text": [
            "100%|██████████| 3/3 [19:59<00:00, 399.94s/it]\n"
          ]
        }
      ]
    },
    {
      "cell_type": "code",
      "metadata": {
        "colab": {
          "base_uri": "https://localhost:8080/",
          "height": 283
        },
        "id": "WYXdafvlZZlQ",
        "outputId": "1b6b8c0b-0c4c-4745-beed-49cab07f1cf2"
      },
      "source": [
        "fig = plt.figure()\n",
        "ax = plt.axes()\n",
        "ax.set_xscale('log')\n",
        "ax.grid(which = 'both')\n",
        "\n",
        "plt.scatter(regularization, log_los, c=\"b\")\n",
        "plt.xlabel(\"C\")\n",
        "plt.ylabel(\"log_loss\")\n",
        "plt.show()"
      ],
      "execution_count": 83,
      "outputs": [
        {
          "output_type": "display_data",
          "data": {
            "image/png": "[encoded data removed]",
            "text/plain": [
              "<Figure size 432x288 with 1 Axes>"
            ]
          },
          "metadata": {
            "needs_background": "light"
          }
        }
      ]
    },
    {
      "cell_type": "markdown",
      "metadata": {
        "id": "wW3BTTZCbZ1x"
      },
      "source": [
        "Как видно результаты улучшаются при уменьшении C. Однако не существенно. Поэтому остановимся на значении 10. \n",
        "\n",
        "Выполним последнее задание: \"Свою итоговую модель примените к последнему дню датасета и вычислите log-loss. Это будет неким ответом к домашней работе.\"\n"
      ]
    },
    {
      "cell_type": "code",
      "metadata": {
        "id": "XjRiXpPPbYdo"
      },
      "source": [
        "model = LogisticRegression(fit_intercept=False, C=10, solver='liblinear').fit(X_train, y_train)"
      ],
      "execution_count": 85,
      "outputs": []
    },
    {
      "cell_type": "code",
      "metadata": {
        "colab": {
          "base_uri": "https://localhost:8080/"
        },
        "id": "O-559qgSe2fS",
        "outputId": "d8c049d8-7aa2-4c77-f5c4-23d8cafb3f68"
      },
      "source": [
        "print(\"Log-loss:\", log_loss(y_test, model.predict_proba(X_test)))"
      ],
      "execution_count": 86,
      "outputs": [
        {
          "output_type": "stream",
          "name": "stdout",
          "text": [
            "Log-loss: 0.35092550382987336\n"
          ]
        }
      ]
    }
  ]
}