{
 "cells": [
  {
   "cell_type": "code",
   "execution_count": 163,
   "metadata": {},
   "outputs": [],
   "source": [
    "import numpy as np\n",
    "import pandas as pd\n",
    "import time\n",
    "\n",
    "from functools import partial\n",
    "from scipy.stats import randint, uniform, beta\n",
    "from sim_lib import simulation\n",
    "\n",
    "import matplotlib.pyplot as plt\n",
    "from matplotlib import rcParams\n",
    "%matplotlib inline\n",
    "rcParams[\"figure.dpi\"] = 100\n",
    "\n",
    "pd.options.mode.chained_assignment = None"
   ]
  },
  {
   "cell_type": "markdown",
   "metadata": {},
   "source": [
    "## Epsilon-greedy policy (homework baseline)"
   ]
  },
  {
   "cell_type": "markdown",
   "metadata": {},
   "source": [
    "### Epsilon-greedy policy function definition"
   ]
  },
  {
   "cell_type": "code",
   "execution_count": 10,
   "metadata": {},
   "outputs": [],
   "source": [
    "def eps_greedy(history: pd.DataFrame, eps: float) -> int:\n",
    "    if uniform.rvs() < eps:\n",
    "        n = history.shape[0]\n",
    "        return history.index[randint.rvs(0, n)]\n",
    "\n",
    "    ctr = history['clicks'] / (history['impressions'] + 10)\n",
    "    n = np.argmax(ctr)\n",
    "    return history.index[n]\n",
    "\n",
    "policy = partial(eps_greedy, eps=0.08)"
   ]
  },
  {
   "cell_type": "markdown",
   "metadata": {},
   "source": [
    "### Epsilon-greedy policy simulation test"
   ]
  },
  {
   "cell_type": "code",
   "execution_count": 11,
   "metadata": {},
   "outputs": [
    {
     "name": "stdout",
     "output_type": "stream",
     "text": [
      "1 impressions have been simulated\n",
      "10001 impressions have been simulated\n",
      "20001 impressions have been simulated\n",
      "30001 impressions have been simulated\n",
      "40001 impressions have been simulated\n",
      "50001 impressions have been simulated\n",
      "60001 impressions have been simulated\n",
      "70001 impressions have been simulated\n",
      "80001 impressions have been simulated\n",
      "90001 impressions have been simulated\n",
      "100001 impressions have been simulated\n",
      "110001 impressions have been simulated\n",
      "120001 impressions have been simulated\n",
      "130001 impressions have been simulated\n",
      "140001 impressions have been simulated\n",
      "150001 impressions have been simulated\n",
      "160001 impressions have been simulated\n",
      "170001 impressions have been simulated\n",
      "180001 impressions have been simulated\n",
      "190001 impressions have been simulated\n"
     ]
    },
    {
     "data": {
      "text/plain": [
       "311.72900199890137"
      ]
     },
     "execution_count": 11,
     "metadata": {},
     "output_type": "execute_result"
    }
   ],
   "source": [
    "# seed for homework\n",
    "np.random.seed(seed=384758917)\n",
    "\n",
    "start = time.time()\n",
    "output = simulation(policy, n=200000)\n",
    "end = time.time()\n",
    "end - start"
   ]
  },
  {
   "cell_type": "markdown",
   "metadata": {},
   "source": [
    "### Homeword baseline regret"
   ]
  },
  {
   "cell_type": "code",
   "execution_count": 12,
   "metadata": {
    "scrolled": true
   },
   "outputs": [
    {
     "data": {
      "text/plain": [
       "(2792.237649427154, 0.01396118824713577, 174)"
      ]
     },
     "execution_count": 12,
     "metadata": {},
     "output_type": "execute_result"
    }
   ],
   "source": [
    "# baseline regret\n",
    "output['regret'], output['regret']/output['rounds'],  output['total_banners']"
   ]
  },
  {
   "cell_type": "markdown",
   "metadata": {},
   "source": [
    "Это был epsilon-greedy бандит, который является бейзлайном по второй домашней работе. Теперь посмотрим на бандита, делающего абсолютно случайное предсказание."
   ]
  },
  {
   "cell_type": "markdown",
   "metadata": {},
   "source": [
    "## Absolutely random prediction"
   ]
  },
  {
   "cell_type": "code",
   "execution_count": 83,
   "metadata": {},
   "outputs": [],
   "source": [
    "def random_policy(history: pd.DataFrame) -> int:\n",
    "    n = history.shape[0]\n",
    "    return history.index[randint.rvs(0, n)]\n",
    "\n",
    "policy = partial(random_policy)"
   ]
  },
  {
   "cell_type": "code",
   "execution_count": 85,
   "metadata": {},
   "outputs": [
    {
     "name": "stdout",
     "output_type": "stream",
     "text": [
      "1 impressions have been simulated\n",
      "10001 impressions have been simulated\n",
      "20001 impressions have been simulated\n",
      "30001 impressions have been simulated\n",
      "40001 impressions have been simulated\n",
      "50001 impressions have been simulated\n",
      "60001 impressions have been simulated\n",
      "70001 impressions have been simulated\n",
      "80001 impressions have been simulated\n",
      "90001 impressions have been simulated\n",
      "100001 impressions have been simulated\n",
      "110001 impressions have been simulated\n",
      "120001 impressions have been simulated\n",
      "130001 impressions have been simulated\n",
      "140001 impressions have been simulated\n",
      "150001 impressions have been simulated\n",
      "160001 impressions have been simulated\n",
      "170001 impressions have been simulated\n",
      "180001 impressions have been simulated\n",
      "190001 impressions have been simulated\n"
     ]
    }
   ],
   "source": [
    "np.random.seed(seed=384758917)\n",
    "output = simulation(policy, n=200000)"
   ]
  },
  {
   "cell_type": "code",
   "execution_count": 86,
   "metadata": {},
   "outputs": [
    {
     "data": {
      "text/plain": [
       "(15835.566358110453, 0.07917783179055227, 175)"
      ]
     },
     "execution_count": 86,
     "metadata": {},
     "output_type": "execute_result"
    }
   ],
   "source": [
    "# random-policy regret\n",
    "output['regret'], output['regret']/output['rounds'],  output['total_banners']"
   ]
  },
  {
   "cell_type": "markdown",
   "metadata": {},
   "source": [
    "Довольно ужасно, в 5 раз хуже регрет чем в epsilon-greedy полиси. Теперь реализуем UCB бандита, в соответствии с формулой с лекции."
   ]
  },
  {
   "cell_type": "markdown",
   "metadata": {},
   "source": [
    "## Upper-confidence bound policy"
   ]
  },
  {
   "cell_type": "markdown",
   "metadata": {},
   "source": [
    "### Upper-confidence bound policy function definition"
   ]
  },
  {
   "cell_type": "markdown",
   "metadata": {},
   "source": [
    "На лекции было:\n",
    "$$n = \\arg\\max_i\\left(\\hat{\\theta}_{i, t} + \\sqrt{\\dfrac{2\\log \\sum_j n_j}{n_i}}\\right)$$\n",
    "\n",
    "Поскольку в функции `simulation` каждая новая ручка изначально с нулевым счетчиком дергания ручек (impressions), то для избежания проблем нулевого логарифма и нулевого знаменателя, добавим к каждой ручке + 10 в знаменателе и + 10 к сумме всех дерганий ручек, тогда формула будет следующей:\n",
    "$$n = \\arg\\max_i\\left(\\hat{\\theta}_{i, t} + \\sqrt{\\dfrac{2\\log\\left(\\sum_j n_j + 10\\right)}{n_i + 10}}\\right)$$"
   ]
  },
  {
   "cell_type": "code",
   "execution_count": 87,
   "metadata": {},
   "outputs": [],
   "source": [
    "def upper_confidence_bound(history: pd.DataFrame) -> int:\n",
    "    ctr = history['clicks'] / (history['impressions'] + 10) \n",
    "    addition = np.sqrt(2 * np.log2(history['impressions'].sum() + 10) / (history['impressions'] + 10))\n",
    "    upper_bound = ctr + addition\n",
    "    n = np.argmax(upper_bound)\n",
    "    return history.index[n]"
   ]
  },
  {
   "cell_type": "markdown",
   "metadata": {},
   "source": [
    "### Upper-confidence bound policy simulation test"
   ]
  },
  {
   "cell_type": "code",
   "execution_count": 88,
   "metadata": {},
   "outputs": [
    {
     "name": "stdout",
     "output_type": "stream",
     "text": [
      "1 impressions have been simulated\n",
      "10001 impressions have been simulated\n",
      "20001 impressions have been simulated\n",
      "30001 impressions have been simulated\n",
      "40001 impressions have been simulated\n",
      "50001 impressions have been simulated\n",
      "60001 impressions have been simulated\n",
      "70001 impressions have been simulated\n",
      "80001 impressions have been simulated\n",
      "90001 impressions have been simulated\n",
      "100001 impressions have been simulated\n",
      "110001 impressions have been simulated\n",
      "120001 impressions have been simulated\n",
      "130001 impressions have been simulated\n",
      "140001 impressions have been simulated\n",
      "150001 impressions have been simulated\n",
      "160001 impressions have been simulated\n",
      "170001 impressions have been simulated\n",
      "180001 impressions have been simulated\n",
      "190001 impressions have been simulated\n"
     ]
    }
   ],
   "source": [
    "policy = partial(upper_confidence_bound)\n",
    "np.random.seed(seed=384758917)\n",
    "output = simulation(policy, n=200000)"
   ]
  },
  {
   "cell_type": "markdown",
   "metadata": {},
   "source": [
    "### Upper-confidence bound simulation results"
   ]
  },
  {
   "cell_type": "code",
   "execution_count": 89,
   "metadata": {},
   "outputs": [
    {
     "data": {
      "text/plain": [
       "(9761.857770213202, 0.048809288851066016, 185)"
      ]
     },
     "execution_count": 89,
     "metadata": {},
     "output_type": "execute_result"
    }
   ],
   "source": [
    "output['regret'], output['regret']/output['rounds'],  output['total_banners']"
   ]
  },
  {
   "cell_type": "markdown",
   "metadata": {},
   "source": [
    "Довольно грустный результат: регрет хуже, чем у эпсилон гриди алгоритма и лишь в полтора раза лучше чем регрет по случайному выбору. Возможно так произошло из за слишком широкого, или слишком узкого доверительного интервала, то есть либо крайность с exploration, либо крайность с exploitation. Хочется каким-либо образом попробовать изменить формулу, что и будет сделано далее в эврстической модификации UCB."
   ]
  },
  {
   "cell_type": "markdown",
   "metadata": {},
   "source": [
    "## Upper-confidence bound heuristic modification"
   ]
  },
  {
   "cell_type": "markdown",
   "metadata": {},
   "source": [
    "Обычный UCB работает довольно плохо, даже хуже бейзлайна с epsilon-greedy бандитом, давайте попробуем регулировать размер доверительного интервала, добавив два гиперпараметра $\\alpha$ и $\\beta$, отвечающие за exploration exploitation trade-off. Тогда формула примет вид: \n",
    "$$n = \\arg\\max_i\\left(\\hat{\\theta}_{i, t} + \\alpha \\cdot \\sqrt{\\dfrac{\\beta\\log\\left(\\sum_j n_j + 10\\right)}{n_i + 10}}\\right)$$"
   ]
  },
  {
   "cell_type": "code",
   "execution_count": 127,
   "metadata": {},
   "outputs": [],
   "source": [
    "def upper_confidence_bound_custom(history: pd.DataFrame, alpha: float, beta: float) -> int:\n",
    "    ctr = history['clicks'] / (history['impressions'] + 10) \n",
    "    addition = np.sqrt(beta * np.log2(history['impressions'].sum() + 10) / (history['impressions'] + 10))\n",
    "    upper_bound = ctr + alpha * addition\n",
    "    n = np.argmax(upper_bound)\n",
    "    return history.index[n]"
   ]
  },
  {
   "cell_type": "markdown",
   "metadata": {},
   "source": [
    "Ожидается, что для каждой задачи гиперпараметры $\\alpha$ и $\\beta$ будут разный, поэтому подберем его для конкретно нашей задачи."
   ]
  },
  {
   "cell_type": "code",
   "execution_count": 134,
   "metadata": {
    "scrolled": true
   },
   "outputs": [
    {
     "name": "stdout",
     "output_type": "stream",
     "text": [
      "1 impressions have been simulated\n",
      "10001 impressions have been simulated\n",
      "20001 impressions have been simulated\n",
      "30001 impressions have been simulated\n",
      "1 impressions have been simulated\n",
      "10001 impressions have been simulated\n",
      "20001 impressions have been simulated\n",
      "30001 impressions have been simulated\n",
      "1 impressions have been simulated\n",
      "10001 impressions have been simulated\n",
      "20001 impressions have been simulated\n",
      "30001 impressions have been simulated\n",
      "1 impressions have been simulated\n",
      "10001 impressions have been simulated\n",
      "20001 impressions have been simulated\n",
      "30001 impressions have been simulated\n",
      "1 impressions have been simulated\n",
      "10001 impressions have been simulated\n",
      "20001 impressions have been simulated\n",
      "30001 impressions have been simulated\n",
      "1 impressions have been simulated\n",
      "10001 impressions have been simulated\n",
      "20001 impressions have been simulated\n",
      "30001 impressions have been simulated\n",
      "1 impressions have been simulated\n",
      "10001 impressions have been simulated\n",
      "20001 impressions have been simulated\n",
      "30001 impressions have been simulated\n",
      "1 impressions have been simulated\n",
      "10001 impressions have been simulated\n",
      "20001 impressions have been simulated\n",
      "30001 impressions have been simulated\n",
      "1 impressions have been simulated\n",
      "10001 impressions have been simulated\n",
      "20001 impressions have been simulated\n",
      "30001 impressions have been simulated\n",
      "1 impressions have been simulated\n",
      "10001 impressions have been simulated\n",
      "20001 impressions have been simulated\n",
      "30001 impressions have been simulated\n",
      "1 impressions have been simulated\n",
      "10001 impressions have been simulated\n",
      "20001 impressions have been simulated\n",
      "30001 impressions have been simulated\n",
      "1 impressions have been simulated\n",
      "10001 impressions have been simulated\n",
      "20001 impressions have been simulated\n",
      "30001 impressions have been simulated\n",
      "1 impressions have been simulated\n",
      "10001 impressions have been simulated\n",
      "20001 impressions have been simulated\n",
      "30001 impressions have been simulated\n",
      "1 impressions have been simulated\n",
      "10001 impressions have been simulated\n",
      "20001 impressions have been simulated\n",
      "30001 impressions have been simulated\n",
      "1 impressions have been simulated\n",
      "10001 impressions have been simulated\n",
      "20001 impressions have been simulated\n",
      "30001 impressions have been simulated\n",
      "1 impressions have been simulated\n",
      "10001 impressions have been simulated\n",
      "20001 impressions have been simulated\n",
      "30001 impressions have been simulated\n",
      "1 impressions have been simulated\n",
      "10001 impressions have been simulated\n",
      "20001 impressions have been simulated\n",
      "30001 impressions have been simulated\n",
      "1 impressions have been simulated\n",
      "10001 impressions have been simulated\n",
      "20001 impressions have been simulated\n",
      "30001 impressions have been simulated\n",
      "1 impressions have been simulated\n",
      "10001 impressions have been simulated\n",
      "20001 impressions have been simulated\n",
      "30001 impressions have been simulated\n",
      "1 impressions have been simulated\n",
      "10001 impressions have been simulated\n",
      "20001 impressions have been simulated\n",
      "30001 impressions have been simulated\n"
     ]
    }
   ],
   "source": [
    "alphas = [0.1, 0.4, 0.7, 1]\n",
    "betas = [0.1, 0.5, 1, 1.5, 2]\n",
    "regret = {alpha: {beta: 0 for beta in betas} for alpha in alphas}\n",
    "avg_regret_per_round = {alpha: {beta: 0 for beta in betas} for alpha in alphas}\n",
    "for a in alphas:\n",
    "    for b in betas:\n",
    "        policy = partial(upper_confidence_bound_custom, alpha=a, beta=b)\n",
    "        np.random.seed(seed=384758917)\n",
    "        output = simulation(policy, n=40000)\n",
    "        regret[a][b] = output['regret']\n",
    "        avg_regret_per_round[a][b] = output['regret']/output['rounds']"
   ]
  },
  {
   "cell_type": "code",
   "execution_count": 177,
   "metadata": {
    "scrolled": false
   },
   "outputs": [
    {
     "data": {
      "text/html": [
       "<div>\n",
       "<style scoped>\n",
       "    .dataframe tbody tr th:only-of-type {\n",
       "        vertical-align: middle;\n",
       "    }\n",
       "\n",
       "    .dataframe tbody tr th {\n",
       "        vertical-align: top;\n",
       "    }\n",
       "\n",
       "    .dataframe thead th {\n",
       "        text-align: right;\n",
       "    }\n",
       "</style>\n",
       "<table border=\"1\" class=\"dataframe\">\n",
       "  <thead>\n",
       "    <tr style=\"text-align: right;\">\n",
       "      <th></th>\n",
       "      <th>alpha_0.1</th>\n",
       "      <th>alpha_0.4</th>\n",
       "      <th>alpha_0.7</th>\n",
       "      <th>alpha_1.0</th>\n",
       "    </tr>\n",
       "  </thead>\n",
       "  <tbody>\n",
       "    <tr>\n",
       "      <th>beta_0.1</th>\n",
       "      <td>2723.876480</td>\n",
       "      <td>603.261589</td>\n",
       "      <td>149.211966</td>\n",
       "      <td>319.691997</td>\n",
       "    </tr>\n",
       "    <tr>\n",
       "      <th>beta_0.5</th>\n",
       "      <td>1117.981962</td>\n",
       "      <td>227.119617</td>\n",
       "      <td>649.059395</td>\n",
       "      <td>1126.548385</td>\n",
       "    </tr>\n",
       "    <tr>\n",
       "      <th>beta_1.0</th>\n",
       "      <td>866.753187</td>\n",
       "      <td>494.519671</td>\n",
       "      <td>1097.300377</td>\n",
       "      <td>1691.365962</td>\n",
       "    </tr>\n",
       "    <tr>\n",
       "      <th>beta_1.5</th>\n",
       "      <td>413.517255</td>\n",
       "      <td>633.199163</td>\n",
       "      <td>1433.693791</td>\n",
       "      <td>2095.852988</td>\n",
       "    </tr>\n",
       "    <tr>\n",
       "      <th>beta_2.0</th>\n",
       "      <td>52.891261</td>\n",
       "      <td>772.140150</td>\n",
       "      <td>1729.038260</td>\n",
       "      <td>2399.399555</td>\n",
       "    </tr>\n",
       "  </tbody>\n",
       "</table>\n",
       "</div>"
      ],
      "text/plain": [
       "            alpha_0.1   alpha_0.4    alpha_0.7    alpha_1.0\n",
       "beta_0.1  2723.876480  603.261589   149.211966   319.691997\n",
       "beta_0.5  1117.981962  227.119617   649.059395  1126.548385\n",
       "beta_1.0   866.753187  494.519671  1097.300377  1691.365962\n",
       "beta_1.5   413.517255  633.199163  1433.693791  2095.852988\n",
       "beta_2.0    52.891261  772.140150  1729.038260  2399.399555"
      ]
     },
     "execution_count": 177,
     "metadata": {},
     "output_type": "execute_result"
    }
   ],
   "source": [
    "# суммарный регрет для каждого набора протестированных параметров\n",
    "tmp = pd.DataFrame(regret)\n",
    "tmp.index = [f\"beta_{beta}\" for beta in tmp.index.tolist()]\n",
    "tmp.columns = [f\"alpha_{alpha}\" for alpha in tmp.columns.tolist()]\n",
    "tmp"
   ]
  },
  {
   "cell_type": "code",
   "execution_count": 179,
   "metadata": {},
   "outputs": [
    {
     "data": {
      "text/html": [
       "<div>\n",
       "<style scoped>\n",
       "    .dataframe tbody tr th:only-of-type {\n",
       "        vertical-align: middle;\n",
       "    }\n",
       "\n",
       "    .dataframe tbody tr th {\n",
       "        vertical-align: top;\n",
       "    }\n",
       "\n",
       "    .dataframe thead th {\n",
       "        text-align: right;\n",
       "    }\n",
       "</style>\n",
       "<table border=\"1\" class=\"dataframe\">\n",
       "  <thead>\n",
       "    <tr style=\"text-align: right;\">\n",
       "      <th></th>\n",
       "      <th>alpha_0.1</th>\n",
       "      <th>alpha_0.4</th>\n",
       "      <th>alpha_0.7</th>\n",
       "      <th>alpha_1.0</th>\n",
       "    </tr>\n",
       "  </thead>\n",
       "  <tbody>\n",
       "    <tr>\n",
       "      <th>beta_0.1</th>\n",
       "      <td>0.068097</td>\n",
       "      <td>0.015082</td>\n",
       "      <td>0.003730</td>\n",
       "      <td>0.007992</td>\n",
       "    </tr>\n",
       "    <tr>\n",
       "      <th>beta_0.5</th>\n",
       "      <td>0.027950</td>\n",
       "      <td>0.005678</td>\n",
       "      <td>0.016226</td>\n",
       "      <td>0.028164</td>\n",
       "    </tr>\n",
       "    <tr>\n",
       "      <th>beta_1.0</th>\n",
       "      <td>0.021669</td>\n",
       "      <td>0.012363</td>\n",
       "      <td>0.027433</td>\n",
       "      <td>0.042284</td>\n",
       "    </tr>\n",
       "    <tr>\n",
       "      <th>beta_1.5</th>\n",
       "      <td>0.010338</td>\n",
       "      <td>0.015830</td>\n",
       "      <td>0.035842</td>\n",
       "      <td>0.052396</td>\n",
       "    </tr>\n",
       "    <tr>\n",
       "      <th>beta_2.0</th>\n",
       "      <td>0.001322</td>\n",
       "      <td>0.019304</td>\n",
       "      <td>0.043226</td>\n",
       "      <td>0.059985</td>\n",
       "    </tr>\n",
       "  </tbody>\n",
       "</table>\n",
       "</div>"
      ],
      "text/plain": [
       "          alpha_0.1  alpha_0.4  alpha_0.7  alpha_1.0\n",
       "beta_0.1   0.068097   0.015082   0.003730   0.007992\n",
       "beta_0.5   0.027950   0.005678   0.016226   0.028164\n",
       "beta_1.0   0.021669   0.012363   0.027433   0.042284\n",
       "beta_1.5   0.010338   0.015830   0.035842   0.052396\n",
       "beta_2.0   0.001322   0.019304   0.043226   0.059985"
      ]
     },
     "execution_count": 179,
     "metadata": {},
     "output_type": "execute_result"
    }
   ],
   "source": [
    "# среднераундовый регрет для каждого набора протестированных параметров\n",
    "tmp = pd.DataFrame(avg_regret_per_round)\n",
    "tmp.index = [f\"beta_{beta}\" for beta in tmp.index.tolist()]\n",
    "tmp.columns = [f\"alpha_{alpha}\" for alpha in tmp.columns.tolist()]\n",
    "tmp"
   ]
  },
  {
   "cell_type": "markdown",
   "metadata": {},
   "source": [
    "Какой-то монотонности регрета по гиперпараметрам не наблюдается, однако, лучший регрет достигается при $\\alpha = 0.1, \\beta=2$. Проведем симуляцию для такого набора гиперпараметров."
   ]
  },
  {
   "cell_type": "code",
   "execution_count": 142,
   "metadata": {
    "scrolled": false
   },
   "outputs": [
    {
     "name": "stdout",
     "output_type": "stream",
     "text": [
      "1 impressions have been simulated\n",
      "10001 impressions have been simulated\n",
      "20001 impressions have been simulated\n",
      "30001 impressions have been simulated\n",
      "40001 impressions have been simulated\n",
      "50001 impressions have been simulated\n",
      "60001 impressions have been simulated\n",
      "70001 impressions have been simulated\n",
      "80001 impressions have been simulated\n",
      "90001 impressions have been simulated\n",
      "100001 impressions have been simulated\n",
      "110001 impressions have been simulated\n",
      "120001 impressions have been simulated\n",
      "130001 impressions have been simulated\n",
      "140001 impressions have been simulated\n",
      "150001 impressions have been simulated\n",
      "160001 impressions have been simulated\n",
      "170001 impressions have been simulated\n",
      "180001 impressions have been simulated\n",
      "190001 impressions have been simulated\n"
     ]
    },
    {
     "data": {
      "text/plain": [
       "(789.2363432275638, 0.003946181716137819, 185)"
      ]
     },
     "execution_count": 142,
     "metadata": {},
     "output_type": "execute_result"
    }
   ],
   "source": [
    "policy = partial(upper_confidence_bound_custom, alpha=0.1, beta=2.0)\n",
    "np.random.seed(seed=384758917)\n",
    "output = simulation(policy, n=200000)\n",
    "output['regret'], output['regret']/output['rounds'],  output['total_banners']"
   ]
  },
  {
   "cell_type": "code",
   "execution_count": 144,
   "metadata": {},
   "outputs": [
    {
     "data": {
      "text/plain": [
       "12.371356147021546"
      ]
     },
     "execution_count": 144,
     "metadata": {},
     "output_type": "execute_result"
    }
   ],
   "source": [
    "9761/789"
   ]
  },
  {
   "cell_type": "markdown",
   "metadata": {},
   "source": [
    "Суммарный регрет стал ниже в целых 12 раз и стал ниже бейзлайна! Удивительный результат, который получился, по сути изменив, всего один множитель в формуле $\\alpha = 1 \\Rightarrow \\alpha = 0.1$ (один множитель потому что $\\beta=2$ изначально)."
   ]
  },
  {
   "cell_type": "markdown",
   "metadata": {},
   "source": [
    "Интересно сравнить результаты этой кастомной UCB полиси с томсон семплингом, поэтому теперь реализуем бандита с thompson sampling полиси."
   ]
  },
  {
   "cell_type": "markdown",
   "metadata": {},
   "source": [
    "## Thompson sampling policy"
   ]
  },
  {
   "cell_type": "markdown",
   "metadata": {},
   "source": [
    "### Thompson sampling policy function definition"
   ]
  },
  {
   "cell_type": "code",
   "execution_count": 164,
   "metadata": {},
   "outputs": [],
   "source": [
    "def thompson_sampling(history: pd.DataFrame) -> int:\n",
    "    successes = history['clicks']\n",
    "    trials = history['impressions']\n",
    "    probabilities = [beta.rvs(a + 1, b + 1) for (a, b) in np.array([successes, trials]).T]\n",
    "    n = np.argmax(probabilities)\n",
    "    return history.index[n]"
   ]
  },
  {
   "cell_type": "markdown",
   "metadata": {},
   "source": [
    "### Upper-confidence bound policy simulation test"
   ]
  },
  {
   "cell_type": "code",
   "execution_count": 17,
   "metadata": {},
   "outputs": [
    {
     "name": "stdout",
     "output_type": "stream",
     "text": [
      "1 impressions have been simulated\n",
      "10001 impressions have been simulated\n",
      "20001 impressions have been simulated\n",
      "30001 impressions have been simulated\n",
      "40001 impressions have been simulated\n",
      "50001 impressions have been simulated\n",
      "60001 impressions have been simulated\n",
      "70001 impressions have been simulated\n",
      "80001 impressions have been simulated\n",
      "90001 impressions have been simulated\n",
      "100001 impressions have been simulated\n",
      "110001 impressions have been simulated\n",
      "120001 impressions have been simulated\n",
      "130001 impressions have been simulated\n",
      "140001 impressions have been simulated\n",
      "150001 impressions have been simulated\n",
      "160001 impressions have been simulated\n",
      "170001 impressions have been simulated\n",
      "180001 impressions have been simulated\n",
      "190001 impressions have been simulated\n"
     ]
    }
   ],
   "source": [
    "policy = partial(thompson_sampling)\n",
    "np.random.seed(seed=384758917)\n",
    "output = simulation(policy, n=200000)"
   ]
  },
  {
   "cell_type": "markdown",
   "metadata": {},
   "source": [
    "### Upper-confidence bound simulation results"
   ]
  },
  {
   "cell_type": "code",
   "execution_count": 18,
   "metadata": {},
   "outputs": [
    {
     "data": {
      "text/plain": [
       "(1644.1417058505945, 0.008220708529252971, 205)"
      ]
     },
     "execution_count": 18,
     "metadata": {},
     "output_type": "execute_result"
    }
   ],
   "source": [
    "output['regret'], output['regret']/output['rounds'],  output['total_banners']"
   ]
  },
  {
   "cell_type": "markdown",
   "metadata": {},
   "source": [
    "Регрет суммарный томпсон семплингом ниже бейзлайна, но он почти в два раза больше, чем у кастомной UCB полиси. \n",
    "\n",
    "Теперь, после реализации различных полиси, хочется посмотреть, как ведет себя суммарный регрет на дистанции для каждой из полиси. \n",
    "\n",
    "Для этого функция `simulation` была немного модифицирована: гиперпараметры не были тронуты, был лишь добавлен словарик, в который на каждой итерации симуляции складываются текущие результаты, чтобы можно было рисовать \"непрерывные\" графики."
   ]
  },
  {
   "cell_type": "markdown",
   "metadata": {},
   "source": [
    "## Overall comparrison of all policies"
   ]
  },
  {
   "cell_type": "code",
   "execution_count": 173,
   "metadata": {},
   "outputs": [],
   "source": [
    "results_simulation = {\n",
    "    'epsilon_greedy_0.05': None,\n",
    "    'epsilon_greedy_0.08': None,\n",
    "    'epsilon_greedy_0.11': None,\n",
    "    'upper_confidence_bound': None,\n",
    "    'upper_confidence_bound_custom': None,\n",
    "    'thompson_sampling': None\n",
    "}"
   ]
  },
  {
   "cell_type": "code",
   "execution_count": 174,
   "metadata": {},
   "outputs": [
    {
     "name": "stdout",
     "output_type": "stream",
     "text": [
      "1 impressions have been simulated\n",
      "10001 impressions have been simulated\n",
      "20001 impressions have been simulated\n",
      "30001 impressions have been simulated\n",
      "40001 impressions have been simulated\n",
      "50001 impressions have been simulated\n",
      "60001 impressions have been simulated\n",
      "70001 impressions have been simulated\n",
      "80001 impressions have been simulated\n",
      "90001 impressions have been simulated\n",
      "100001 impressions have been simulated\n",
      "110001 impressions have been simulated\n",
      "120001 impressions have been simulated\n",
      "130001 impressions have been simulated\n",
      "140001 impressions have been simulated\n",
      "150001 impressions have been simulated\n",
      "160001 impressions have been simulated\n",
      "170001 impressions have been simulated\n",
      "180001 impressions have been simulated\n",
      "190001 impressions have been simulated\n",
      "1 impressions have been simulated\n",
      "10001 impressions have been simulated\n",
      "20001 impressions have been simulated\n",
      "30001 impressions have been simulated\n",
      "40001 impressions have been simulated\n",
      "50001 impressions have been simulated\n",
      "60001 impressions have been simulated\n",
      "70001 impressions have been simulated\n",
      "80001 impressions have been simulated\n",
      "90001 impressions have been simulated\n",
      "100001 impressions have been simulated\n",
      "110001 impressions have been simulated\n",
      "120001 impressions have been simulated\n",
      "130001 impressions have been simulated\n",
      "140001 impressions have been simulated\n",
      "150001 impressions have been simulated\n",
      "160001 impressions have been simulated\n",
      "170001 impressions have been simulated\n",
      "180001 impressions have been simulated\n",
      "190001 impressions have been simulated\n",
      "1 impressions have been simulated\n",
      "10001 impressions have been simulated\n",
      "20001 impressions have been simulated\n",
      "30001 impressions have been simulated\n",
      "40001 impressions have been simulated\n",
      "50001 impressions have been simulated\n",
      "60001 impressions have been simulated\n",
      "70001 impressions have been simulated\n",
      "80001 impressions have been simulated\n",
      "90001 impressions have been simulated\n",
      "100001 impressions have been simulated\n",
      "110001 impressions have been simulated\n",
      "120001 impressions have been simulated\n",
      "130001 impressions have been simulated\n",
      "140001 impressions have been simulated\n",
      "150001 impressions have been simulated\n",
      "160001 impressions have been simulated\n",
      "170001 impressions have been simulated\n",
      "180001 impressions have been simulated\n",
      "190001 impressions have been simulated\n",
      "1 impressions have been simulated\n",
      "10001 impressions have been simulated\n",
      "20001 impressions have been simulated\n",
      "30001 impressions have been simulated\n",
      "40001 impressions have been simulated\n",
      "50001 impressions have been simulated\n",
      "60001 impressions have been simulated\n",
      "70001 impressions have been simulated\n",
      "80001 impressions have been simulated\n",
      "90001 impressions have been simulated\n",
      "100001 impressions have been simulated\n",
      "110001 impressions have been simulated\n",
      "120001 impressions have been simulated\n",
      "130001 impressions have been simulated\n",
      "140001 impressions have been simulated\n",
      "150001 impressions have been simulated\n",
      "160001 impressions have been simulated\n",
      "170001 impressions have been simulated\n",
      "180001 impressions have been simulated\n",
      "190001 impressions have been simulated\n",
      "1 impressions have been simulated\n",
      "10001 impressions have been simulated\n",
      "20001 impressions have been simulated\n",
      "30001 impressions have been simulated\n",
      "40001 impressions have been simulated\n",
      "50001 impressions have been simulated\n",
      "60001 impressions have been simulated\n",
      "70001 impressions have been simulated\n",
      "80001 impressions have been simulated\n",
      "90001 impressions have been simulated\n",
      "100001 impressions have been simulated\n",
      "110001 impressions have been simulated\n",
      "120001 impressions have been simulated\n",
      "130001 impressions have been simulated\n",
      "140001 impressions have been simulated\n",
      "150001 impressions have been simulated\n",
      "160001 impressions have been simulated\n",
      "170001 impressions have been simulated\n",
      "180001 impressions have been simulated\n",
      "190001 impressions have been simulated\n",
      "1 impressions have been simulated\n",
      "10001 impressions have been simulated\n",
      "20001 impressions have been simulated\n",
      "30001 impressions have been simulated\n",
      "40001 impressions have been simulated\n",
      "50001 impressions have been simulated\n",
      "60001 impressions have been simulated\n",
      "70001 impressions have been simulated\n",
      "80001 impressions have been simulated\n",
      "90001 impressions have been simulated\n",
      "100001 impressions have been simulated\n",
      "110001 impressions have been simulated\n",
      "120001 impressions have been simulated\n",
      "130001 impressions have been simulated\n",
      "140001 impressions have been simulated\n",
      "150001 impressions have been simulated\n",
      "160001 impressions have been simulated\n",
      "170001 impressions have been simulated\n",
      "180001 impressions have been simulated\n",
      "190001 impressions have been simulated\n"
     ]
    }
   ],
   "source": [
    "np.random.seed(seed=384758917)\n",
    "n_iterations = 200000\n",
    "for epsilon in [0.05, 0.08, 0.11]:\n",
    "    policy = partial(eps_greedy, eps=epsilon)\n",
    "    result = simulation(policy, n=n_iterations)['results']\n",
    "    results_simulation[f'epsilon_greedy_{epsilon}'] = result\n",
    "policy = partial(upper_confidence_bound)\n",
    "results_simulation['upper_confidence_bound'] = simulation(policy, n=n_iterations)['results']\n",
    "policy = partial(upper_confidence_bound_custom, alpha=0.1, beta=2.0)\n",
    "results_simulation['upper_confidence_bound_custom'] = simulation(policy, n=n_iterations)['results']\n",
    "policy = partial(thompson_sampling)\n",
    "results_simulation['thompson_sampling'] = simulation(policy, n=n_iterations)['results']"
   ]
  },
  {
   "cell_type": "code",
   "execution_count": 176,
   "metadata": {
    "scrolled": false
   },
   "outputs": [
    {
     "data": {
      "image/png": "[encoded data removed]",
      "text/plain": [
       "<Figure size 1300x700 with 1 Axes>"
      ]
     },
     "metadata": {
      "needs_background": "light"
     },
     "output_type": "display_data"
    }
   ],
   "source": [
    "plt.figure(figsize=(13, 7))\n",
    "plt.plot(results_simulation['epsilon_greedy_0.05']['n'], \n",
    "         results_simulation['epsilon_greedy_0.05']['regret'], \n",
    "         label='epsilon greedy 0.05',\n",
    "         linewidth=3)\n",
    "plt.plot(results_simulation['epsilon_greedy_0.08']['n'], \n",
    "         results_simulation['epsilon_greedy_0.08']['regret'], \n",
    "         label='epsilon greedy 0.08',\n",
    "         linewidth=3)\n",
    "plt.plot(results_simulation['epsilon_greedy_0.11']['n'], \n",
    "         results_simulation['epsilon_greedy_0.11']['regret'], \n",
    "         label='epsilon greedy 0.11',\n",
    "         linewidth=3)\n",
    "plt.plot(results_simulation['upper_confidence_bound']['n'], \n",
    "         results_simulation['upper_confidence_bound']['regret'], \n",
    "         label='Upper-confidence bound',\n",
    "         linewidth=3)\n",
    "plt.plot(results_simulation['upper_confidence_bound_custom']['n'], \n",
    "         results_simulation['upper_confidence_bound_custom']['regret'], \n",
    "         label='Upper-confidence bound custom',\n",
    "         linewidth=3)\n",
    "plt.plot(results_simulation['thompson_sampling']['n'], \n",
    "         results_simulation['thompson_sampling']['regret'], \n",
    "         label='Thompson sampling',\n",
    "         linewidth=3)\n",
    "plt.plot(results_simulation['epsilon_greedy_0.08']['n'], \n",
    "         results_simulation['epsilon_greedy_0.08']['regret'],  \n",
    "         label='BASELINE', color='black', \n",
    "         # marker='o',\n",
    "         linestyle='dashed', \n",
    "         linewidth=8, \n",
    "         # markersize=8\n",
    "        )\n",
    "\n",
    "plt.title('Total regret for different simulation policies', size=18)\n",
    "plt.xlabel('Number of iteration', size=14)\n",
    "plt.ylabel('Total regret', size=14)\n",
    "plt.legend()\n",
    "plt.show();"
   ]
  },
  {
   "cell_type": "markdown",
   "metadata": {},
   "source": [
    "Интересные результаты из графика суммарного регрета для каждой полиси:\n",
    "- Видно, что стандартный UCB ведет себя крайнее плохо, значительно хуже стандартных эпсилон гриди полиси, прям в разы хуже\n",
    "- Начиная с, приблизительно, 150000 итерации, графически три эпсилон гриди полиси асимптотически сходятся друг к другу, это не совсем интуитивно очевидно\n",
    "- Лучшей полиси по минимальному суммарному регрету является кастомная UCB, далее идет thompson sampling"
   ]
  },
  {
   "cell_type": "markdown",
   "metadata": {},
   "source": [
    "## Conclusion"
   ]
  },
  {
   "cell_type": "markdown",
   "metadata": {},
   "source": [
    "В ходе выполнения домашнего задания были реализованы следующие полиси:\n",
    "- Абсолютно случайная полиси - случайный выбор ручки, которая будет дернута\n",
    "- Upper-confidence bound\n",
    "- Upper-confidence bound custom - с кастомными гиперпараметрами\n",
    "- Thompson sampling\n",
    "\n",
    "Бейзлайн размером в 2792 суммарный регрет был побит: \n",
    "- лучший результат показала кастомная upper-confidence bound полиси с гиперпараметрами $\\alpha = 0.1, \\beta=2$ - суммарный регрет для нее оказался равен 789, что почти в 4 раза меньше бейзлана\n",
    "- следующая за кастомной upper-confidence bound полиси оказалась полиси thompson sampling - для нее суммарный регрет оказался равен 1644, что в ~2 раза меньше бейзлайна."
   ]
  },
  {
   "cell_type": "markdown",
   "metadata": {},
   "source": [
    "_Комментарий_: в самом конце домашнего задания понял, что проделал лишнюю работу, указав в кастомной два гиперпараметра $\\alpha, \\beta$ в формуле:\n",
    "$$n = \\arg\\max_i\\left(\\hat{\\theta}_{i, t} + \\alpha \\cdot \\sqrt{\\dfrac{\\beta\\log\\left(\\sum_j n_j + 10\\right)}{n_i + 10}}\\right)$$\n",
    "\n",
    "Поскольку: $\\alpha \\sqrt{\\beta \\cdot \\dots} = \\alpha \\cdot \\sqrt{\\beta} \\sqrt{\\dots} = \\gamma \\sqrt{\\dots}$\n",
    "\n",
    "Получается, что разумнее было бы указать один гиперпараметр, либо внутри корня, либо снаружи, потому что корень - монотонная фукнция, все было бы ок. И получается необходимо было подбирать лишь один параметр, а не два. Но уже сделал как сделал, надеюсь это не будет посчитано за ошибку."
   ]
  },
  {
   "cell_type": "code",
   "execution_count": null,
   "metadata": {},
   "outputs": [],
   "source": []
  }
 ],
 "metadata": {
  "kernelspec": {
   "display_name": "Python 3 (ipykernel)",
   "language": "python",
   "name": "python3"
  },
  "language_info": {
   "codemirror_mode": {
    "name": "ipython",
    "version": 3
   },
   "file_extension": ".py",
   "mimetype": "text/x-python",
   "name": "python",
   "nbconvert_exporter": "python",
   "pygments_lexer": "ipython3",
   "version": "3.8.12"
  }
 },
 "nbformat": 4,
 "nbformat_minor": 4
}
