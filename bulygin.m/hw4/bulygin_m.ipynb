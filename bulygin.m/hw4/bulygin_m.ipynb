{
 "cells": [
  {
   "cell_type": "code",
   "execution_count": 184,
   "id": "0db8d285",
   "metadata": {},
   "outputs": [],
   "source": [
    "import warnings\n",
    "warnings.filterwarnings(\"ignore\")\n",
    "\n",
    "from tqdm import tqdm\n",
    "\n",
    "import pandas as pd\n",
    "import numpy as np\n",
    "\n",
    "import matplotlib.pyplot as plt\n",
    "%matplotlib inline\n",
    "\n",
    "import scipy\n",
    "from scipy.special import logit\n",
    "from scipy.stats import norm\n",
    "from sklearn.linear_model import LogisticRegression\n",
    "from sklearn.metrics import log_loss\n",
    "from sklearn.preprocessing import OneHotEncoder"
   ]
  },
  {
   "cell_type": "markdown",
   "id": "931c748d",
   "metadata": {},
   "source": [
    "## Чтение и обработка данных"
   ]
  },
  {
   "cell_type": "code",
   "execution_count": 33,
   "id": "71c7db23",
   "metadata": {},
   "outputs": [],
   "source": [
    "df = pd.read_csv('../data/data.csv')"
   ]
  },
  {
   "cell_type": "code",
   "execution_count": 34,
   "id": "051c5ebf",
   "metadata": {},
   "outputs": [],
   "source": [
    "# парсим дату в строку вида yyyy-MM-dd\n",
    "df['date_time_str'] = df['date_time'].apply(lambda x: x[:10])\n",
    "# отбрасываем ненужные колонки\n",
    "df = df.drop(columns=[\n",
    "    'oaid_hash', \n",
    "    'rate0', \n",
    "    'rate1', \n",
    "    'impressions'  # странная фича, у которой всего одно уникальное значение, удалим\n",
    "]).sort_values(by=['date_time']).reset_index(drop=True)  # сортируем по дате\n",
    "\n",
    "# оказалось что наблюдение с такой датой - выброс\n",
    "df = df[df['date_time_str'] != '2021-09-01'].reset_index(drop=True)"
   ]
  },
  {
   "cell_type": "code",
   "execution_count": 35,
   "id": "98e974c6",
   "metadata": {},
   "outputs": [
    {
     "data": {
      "text/plain": [
       "banner_id        0\n",
       "banner_id0       0\n",
       "banner_id1       0\n",
       "coeff_sum0      12\n",
       "coeff_sum1    4904\n",
       "g0              12\n",
       "g1            4904\n",
       "dtype: int64"
      ]
     },
     "execution_count": 35,
     "metadata": {},
     "output_type": "execute_result"
    }
   ],
   "source": [
    "test_tmp = df[df['date_time_str'] == '2021-10-02'].reset_index(drop=True)\n",
    "# подсчет пропущенных значений в нужных нам колонках для подсчета метрики clipped ips\n",
    "test_tmp[['banner_id', 'banner_id0', 'banner_id1', \n",
    "          'coeff_sum0', 'coeff_sum1', 'g0', 'g1']].isnull().sum()"
   ]
  },
  {
   "cell_type": "markdown",
   "id": "2bd8771d",
   "metadata": {},
   "source": [
    "Есть пропуски в coeff_sum0, coeff_sum0, g0, g1 - удалим наблюдения с пропуками."
   ]
  },
  {
   "cell_type": "code",
   "execution_count": 36,
   "id": "ca37894d",
   "metadata": {
    "scrolled": false
   },
   "outputs": [
    {
     "data": {
      "text/plain": [
       "banner_id     0\n",
       "banner_id0    0\n",
       "banner_id1    0\n",
       "coeff_sum0    0\n",
       "coeff_sum1    0\n",
       "g0            0\n",
       "g1            0\n",
       "dtype: int64"
      ]
     },
     "execution_count": 36,
     "metadata": {},
     "output_type": "execute_result"
    }
   ],
   "source": [
    "indices = test_tmp[['banner_id', 'banner_id0', 'banner_id1', \n",
    "          'coeff_sum0', 'coeff_sum1', 'g0', 'g1']].isnull().sum(axis=1)\n",
    "test_tmp = test_tmp[~test_tmp.index.isin(indices[indices > 0].index.tolist())].reset_index(drop=True)\n",
    "test_tmp[['banner_id', 'banner_id0', 'banner_id1', \n",
    "          'coeff_sum0', 'coeff_sum1', 'g0', 'g1']].isnull().sum()"
   ]
  },
  {
   "cell_type": "markdown",
   "id": "9d51727f",
   "metadata": {},
   "source": [
    "В условии задачи было сказано: \"banner_id0 совпадает почти всегда совпадает с banner_id, но есть случаи когда это не так, их стоит отфильтровать.\". Проверим такие случаи, если они есть - отфильтруем."
   ]
  },
  {
   "cell_type": "code",
   "execution_count": 37,
   "id": "46f6d918",
   "metadata": {
    "scrolled": false
   },
   "outputs": [
    {
     "data": {
      "text/plain": [
       "238404"
      ]
     },
     "execution_count": 37,
     "metadata": {},
     "output_type": "execute_result"
    }
   ],
   "source": [
    "# такие случаи есть\n",
    "test_tmp[test_tmp['banner_id'] != test_tmp['banner_id0']].shape[0]"
   ]
  },
  {
   "cell_type": "code",
   "execution_count": 38,
   "id": "dbcdaf8b",
   "metadata": {},
   "outputs": [],
   "source": [
    "test_tmp = test_tmp[test_tmp['banner_id'] == test_tmp['banner_id0']].reset_index(drop=True)"
   ]
  },
  {
   "cell_type": "markdown",
   "id": "4f9fa50e",
   "metadata": {},
   "source": [
    "Махинации с тем, чтобы сделать одновременное преобразование фичей в трейне и двух тестах."
   ]
  },
  {
   "cell_type": "code",
   "execution_count": 39,
   "id": "d63f4724",
   "metadata": {},
   "outputs": [],
   "source": [
    "def concat_train_and_two_types_of_test(train, test_tmp):\n",
    "    train['status_of_dataset'] = 'train'\n",
    "    test_0 = test_tmp.copy()\n",
    "    test_1 = test_tmp.copy()\n",
    "    test_0['status_of_dataset'] = 'test_with_banner_id_as_banner_id0'\n",
    "    test_1['status_of_dataset'] = 'test_with_banner_id_as_banner_id1'\n",
    "    test_1['banner_id'] = test_1['banner_id1']\n",
    "    return pd.concat([train, test_0, test_1], axis=0).reset_index(drop=True)"
   ]
  },
  {
   "cell_type": "code",
   "execution_count": 40,
   "id": "1b1c2e03",
   "metadata": {},
   "outputs": [],
   "source": [
    "train = df[df['date_time_str'] < '2021-10-02']\n",
    "df = concat_train_and_two_types_of_test(train, test_tmp)"
   ]
  },
  {
   "cell_type": "code",
   "execution_count": 41,
   "id": "cd95b39f",
   "metadata": {},
   "outputs": [],
   "source": [
    "del train\n",
    "del test_tmp"
   ]
  },
  {
   "cell_type": "markdown",
   "id": "8d0b4684",
   "metadata": {},
   "source": [
    "Функции для трансформации фичей из первой домашки."
   ]
  },
  {
   "cell_type": "code",
   "execution_count": 42,
   "id": "602161c9",
   "metadata": {},
   "outputs": [],
   "source": [
    "def feature_transforming(df: pd.DataFrame) -> pd.DataFrame:\n",
    "    \"\"\"\n",
    "    This function creates new columns in dataframe related\n",
    "    somehow to date time of observation: it gets\n",
    "    month number, week number, day week number, \n",
    "    day week status (working day/weekend), hour number, \n",
    "    minute number and second number.\n",
    "    \"\"\"\n",
    "    # трансформируем строку в пандасовскую дату\n",
    "    df['date_time'] = pd.to_datetime(df['date_time'])\n",
    "    # вытаскиваем различные полезные фичи из полной даты каждого наблюдения:\n",
    "    # получаем номер месяца наблюдения\n",
    "    df['month_num'] = df['date_time'].apply(lambda x: x.month)\n",
    "    # получаем номер недели наблюдения\n",
    "    df['week_num'] = df['date_time'].apply(lambda x: x.week)\n",
    "    # получаем номер дня недели наблюдения\n",
    "    df['day_week_num'] = df['date_time'].apply(lambda x: x.dayofweek)\n",
    "    # получаем информацию о дне наблюдения - выходной или рабочий день\n",
    "    df['day_week_status'] = df['day_week_num'].apply(\n",
    "        lambda x: 'working day' if 1 <= x <= 5 else 'weekend day'\n",
    "    )\n",
    "    # получаем номер часа наблюдения\n",
    "    df['hour_num'] = df['date_time'].apply(lambda x: x.hour)\n",
    "    # получаем номер минуты наблюдения\n",
    "    df['minute_num'] = df['date_time'].apply(lambda x: x.minute)\n",
    "    # получаем номер секунды наблюдения\n",
    "    df['second_num'] = df['date_time'].apply(lambda x: x.second)\n",
    "    # отбрасываем колонку с пандасовской датой\n",
    "    df.drop(columns=['date_time'], inplace=True)\n",
    "    return df"
   ]
  },
  {
   "cell_type": "code",
   "execution_count": 43,
   "id": "00632537",
   "metadata": {},
   "outputs": [],
   "source": [
    "def feature_engineering(df: pd.DataFrame) -> (scipy.sparse.csr.csr_matrix, np.ndarray):\n",
    "    \"\"\"\n",
    "    This function creates new different noninterpreted features \n",
    "    based on logic of interactions of user, of date, of day and then \n",
    "    transforms it to very big sparse matrix using OneHotEncoder.\n",
    "    \"\"\"\n",
    "    from itertools import combinations  # пригодится\n",
    "    \n",
    "    # разбиваем фичи на три группы: пользовательские (айдишник ОСи, города и т.д.),\n",
    "    # календарной даты (месяц, неделя, день, выходной/рабочий) и \n",
    "    # дневной даты (час, минута, секунда)\n",
    "    features_user = ['zone_id', 'banner_id', 'campaign_clicks', 'os_id', 'country_id']\n",
    "    features_date = ['month_num', 'week_num', 'day_week_num', 'day_week_status']\n",
    "    features_day = ['hour_num', 'minute_num', 'second_num']\n",
    "    \n",
    "    # функция получения всех подмножеств заданного размера данного множества\n",
    "    def subsets_size_n(set_of_elements, n_size):\n",
    "        return list(set(combinations(set_of_elements, n_size)))\n",
    "    \n",
    "    subsets = []\n",
    "    # получаем все попарные признаки для создания \n",
    "    # интеракций для каждой группы фичей\n",
    "    for feature in [features_user, features_date, features_day]:\n",
    "        subsets += subsets_size_n(feature, 2) \n",
    "    \n",
    "    # создаем интеракции, джойня строки\n",
    "    for subset in tqdm(subsets):\n",
    "        new_feature_name = \" & \".join(subset)\n",
    "        new_feature_values = np.apply_along_axis(\n",
    "            ''.join, \n",
    "            axis=1, \n",
    "            arr=df.loc[:, subset].values.astype(str)\n",
    "        )\n",
    "        df[new_feature_name] = new_feature_values\n",
    "    \n",
    "    # кодируем OneHotEncoder'ом все предикторы и получаем массив откликов\n",
    "    X, y = OneHotEncoder().fit_transform(df.drop(columns=['clicks'])), df['clicks'].values\n",
    "    return X, y"
   ]
  },
  {
   "cell_type": "markdown",
   "id": "55d20c9d",
   "metadata": {},
   "source": [
    "Генерируем различные фичи и крафтим интерации."
   ]
  },
  {
   "cell_type": "code",
   "execution_count": 47,
   "id": "0517f72f",
   "metadata": {},
   "outputs": [],
   "source": [
    "df_tmp = feature_transforming(df[['date_time', 'zone_id', 'banner_id', 'campaign_clicks', 'os_id',\n",
    "   'country_id', 'clicks']])"
   ]
  },
  {
   "cell_type": "code",
   "execution_count": 48,
   "id": "50114101",
   "metadata": {
    "scrolled": true
   },
   "outputs": [
    {
     "name": "stderr",
     "output_type": "stream",
     "text": [
      "100%|██████████████████████████████████████████| 19/19 [40:03<00:00, 126.51s/it]\n"
     ]
    }
   ],
   "source": [
    "X, y = feature_engineering(df_tmp)"
   ]
  },
  {
   "cell_type": "markdown",
   "id": "64ff2ed0",
   "metadata": {},
   "source": [
    "Разделяем на трейн и два теста."
   ]
  },
  {
   "cell_type": "code",
   "execution_count": 50,
   "id": "c57f99fa",
   "metadata": {},
   "outputs": [],
   "source": [
    "def train_two_tests_split(X, y, df):\n",
    "    train_indices = df[df['status_of_dataset'] == 'train'].index.tolist()\n",
    "    test_0_indices = df[df['status_of_dataset'] == 'test_with_banner_id_as_banner_id0'].index.tolist()\n",
    "    test_1_indices = df[df['status_of_dataset'] == 'test_with_banner_id_as_banner_id1'].index.tolist()\n",
    "    return (\n",
    "        X[train_indices], y[train_indices],\n",
    "        X[test_0_indices], y[test_0_indices],\n",
    "        X[test_1_indices], y[test_1_indices]\n",
    "    )"
   ]
  },
  {
   "cell_type": "code",
   "execution_count": 51,
   "id": "1485c9e4",
   "metadata": {},
   "outputs": [],
   "source": [
    "train_test_split = train_two_tests_split(X, y, df)\n",
    "X_train, y_train = train_test_split[0], train_test_split[1]\n",
    "X_test_0, y_test_0 = train_test_split[2], train_test_split[3]\n",
    "X_test_1, y_test_1 = train_test_split[4], train_test_split[5]"
   ]
  },
  {
   "cell_type": "code",
   "execution_count": 52,
   "id": "537ac38b",
   "metadata": {},
   "outputs": [],
   "source": [
    "del train_test_split"
   ]
  },
  {
   "cell_type": "markdown",
   "id": "3fbb709c",
   "metadata": {},
   "source": [
    "## Модель из 1 домашки"
   ]
  },
  {
   "cell_type": "code",
   "execution_count": 55,
   "id": "69fc7f38",
   "metadata": {},
   "outputs": [],
   "source": [
    "def create_model(X_train, y_train, C=0.0001):\n",
    "    \"\"\"\n",
    "    This function trains model on best parameters found by\n",
    "    cross validation on union of train and validation sets.\n",
    "    \"\"\"\n",
    "    clf = LogisticRegression(random_state=54, C=C, n_jobs=-1)\n",
    "    clf.fit(X_train, y_train)\n",
    "    return clf"
   ]
  },
  {
   "cell_type": "code",
   "execution_count": 57,
   "id": "7a29886c",
   "metadata": {
    "scrolled": true
   },
   "outputs": [
    {
     "name": "stdout",
     "output_type": "stream",
     "text": [
      "CPU times: user 2.11 s, sys: 3.94 s, total: 6.05 s\n",
      "Wall time: 2min 29s\n"
     ]
    }
   ],
   "source": [
    "%%time\n",
    "model = create_model(X_train, y_train, C=0.0001)"
   ]
  },
  {
   "cell_type": "markdown",
   "id": "7d346e12",
   "metadata": {},
   "source": [
    "## Расчет метрики clipped ips на последнем дне"
   ]
  },
  {
   "cell_type": "code",
   "execution_count": 161,
   "id": "4f95a707",
   "metadata": {},
   "outputs": [],
   "source": [
    "test_df = df[\n",
    "    (df['date_time_str'] == '2021-10-02') & \n",
    "    (df['status_of_dataset'] == 'test_with_banner_id_as_banner_id0')\n",
    "].reset_index(drop=True)[['banner_id0', 'banner_id1', 'g0', 'g1', 'coeff_sum0', 'coeff_sum1', 'clicks']]"
   ]
  },
  {
   "cell_type": "code",
   "execution_count": 162,
   "id": "2d4f35ca",
   "metadata": {},
   "outputs": [],
   "source": [
    "test_df['coeff_sum0_new'] = logit(model.predict_proba(X_test_0)[:, 0])\n",
    "test_df['coeff_sum1_new'] = logit(model.predict_proba(X_test_1)[:, 0])"
   ]
  },
  {
   "cell_type": "code",
   "execution_count": 163,
   "id": "36dd769b",
   "metadata": {},
   "outputs": [],
   "source": [
    "# есть кейсы когда g0 и g1 равны нулю - кажется что такое не ок, \n",
    "# давайте просто уберем их (если не убирать, то у меня вылезали nan'ы)\n",
    "test_df[(test_df['g0'] == 0) & (test_df['g1'] == 0)]\n",
    "test_df = test_df[~((test_df['g0'] == 0) & (test_df['g1'] == 0))].reset_index(drop=True)"
   ]
  },
  {
   "cell_type": "markdown",
   "id": "14435181",
   "metadata": {},
   "source": [
    "Вводная инфа о том как считались pi1 и pi0.\n",
    "\n",
    "У нас есть две независимые нормальные случайные величины\n",
    "$$X \\sim N(a_1, b_1^2),  \\;\\; Y \\sim N(a_1, b_1^2)$$\n",
    "Из теорвера знаем, что разность этих случайных величин имеет распределение\n",
    "$$X - Y \\sim N(a_1 - a_2, b_1^2 + b_2^2)$$\n",
    "Тогда можем найти вероятность того, что одна нормальная случайная величина больше другой:\n",
    "$$P(X < Y) = P(X - Y < 0) = F_{X - Y}(0)= Ф\\left(\\dfrac{0 - (a_1 - a_2)}{\\sqrt{b_1^2 + b_2^2}}\\right) = Ф\\left(\\dfrac{a_2 - a_1}{\\sqrt{b_1^2 + b_2^2}}\\right)$$"
   ]
  },
  {
   "cell_type": "code",
   "execution_count": 164,
   "id": "cc57f492",
   "metadata": {},
   "outputs": [],
   "source": [
    "def calculate_probability(a_1, b_1, a_2, b_2):\n",
    "    # X ~ N(a_1, b_1^2), Y ~ N(a_2, b_2^2) -> P(X < Y) = ?\n",
    "    loc = a_1 - a_2\n",
    "    scale = np.sqrt(b_1 ** 2 + b_2 ** 2)\n",
    "    x = 0\n",
    "    y = (x - loc) / scale\n",
    "    return norm.cdf(y)"
   ]
  },
  {
   "cell_type": "markdown",
   "id": "7e0a116c",
   "metadata": {},
   "source": [
    "Почему-то очень долго вычислялись полиси через метод `apply`, поэтому заюзал обычный цикл для вычисления pi0 и pi1."
   ]
  },
  {
   "cell_type": "code",
   "execution_count": 180,
   "id": "b8985b29",
   "metadata": {},
   "outputs": [],
   "source": [
    "def calculate_policies(df):\n",
    "    pi0 = []\n",
    "    for row in df[['coeff_sum0', 'coeff_sum1', 'g0', 'g1']].values:\n",
    "        coeff_sum0, coeff_sum1, g0, g1 = row\n",
    "        pi0.append(calculate_probability(coeff_sum0, g0, coeff_sum1, g1))\n",
    "\n",
    "    pi1 = []\n",
    "    for row in df[['coeff_sum0_new', 'coeff_sum1_new', 'g0', 'g1']].values:\n",
    "        coeff_sum0, coeff_sum1, g0, g1 = row\n",
    "        pi1.append(calculate_probability(coeff_sum0, g0, coeff_sum1, g1))\n",
    "    return np.array(pi0), np.array(pi1)\n",
    "\n",
    "def calculate_metric_clipped_ips(rewards, pi0, pi1, l):\n",
    "    ratio = pi1/pi0\n",
    "    return np.mean(np.minimum(l, ratio[~np.isnan(ratio)]) * rewards[~np.isnan(ratio)])\n",
    "\n",
    "def calculate_clipped_ips_for_df(df, l=10):\n",
    "    pi0, pi1 = calculate_policies(df)\n",
    "    rewards = df['clicks'].to_numpy()\n",
    "    return calculate_metric_clipped_ips(rewards, pi0, pi1, l)"
   ]
  },
  {
   "cell_type": "code",
   "execution_count": 166,
   "id": "6b0ae77a",
   "metadata": {
    "scrolled": true
   },
   "outputs": [
    {
     "name": "stderr",
     "output_type": "stream",
     "text": [
      "100%|██████████████████████████████| 1885598/1885598 [02:59<00:00, 10506.76it/s]\n",
      "100%|██████████████████████████████| 1885598/1885598 [03:02<00:00, 10317.11it/s]\n"
     ]
    },
    {
     "data": {
      "text/plain": [
       "0.20044470418327728"
      ]
     },
     "execution_count": 166,
     "metadata": {},
     "output_type": "execute_result"
    }
   ],
   "source": [
    "# значение метрики clipped ips на последнем дне\n",
    "calculate_clipped_ips_for_df(test_df, l=10)"
   ]
  },
  {
   "cell_type": "code",
   "execution_count": 152,
   "id": "5ede4ae1",
   "metadata": {
    "scrolled": true
   },
   "outputs": [
    {
     "data": {
      "text/plain": [
       "0    0.963955\n",
       "1    0.036045\n",
       "Name: clicks, dtype: float64"
      ]
     },
     "execution_count": 152,
     "metadata": {},
     "output_type": "execute_result"
    }
   ],
   "source": [
    "test_df['clicks'].value_counts(normalize=True)"
   ]
  },
  {
   "cell_type": "markdown",
   "id": "26a98c01",
   "metadata": {},
   "source": [
    "Значение метрики clipped ips почти в 6 раз больше CTR - в чате было сказано, что такие случаи в целом ок, плюс кажется, что сыграло роль то, что метрика clipped ips является смещенной. \n",
    "\n",
    "Теперь хочется посмотреть, что будет для других параметров регуляризации."
   ]
  },
  {
   "cell_type": "markdown",
   "id": "178c7848",
   "metadata": {},
   "source": [
    "Соединим все в одну функцию, чтобы попробовать найти оптимальную регуляризацию по метрике cips."
   ]
  },
  {
   "cell_type": "code",
   "execution_count": 167,
   "id": "8d65b4c8",
   "metadata": {},
   "outputs": [],
   "source": [
    "def calculate_clipped_ips_on_test(model, X_test_0, X_test_1, df):\n",
    "    test_df = df[\n",
    "        (df['date_time_str'] == '2021-10-02') & \n",
    "        (df['status_of_dataset'] == 'test_with_banner_id_as_banner_id0')\n",
    "    ].reset_index(drop=True)[['banner_id0', 'banner_id1', 'g0', 'g1', 'coeff_sum0', 'coeff_sum1', 'clicks']]\n",
    "    test_df['coeff_sum0_new'] = logit(model.predict_proba(X_test_0)[:, 0])\n",
    "    test_df['coeff_sum1_new'] = logit(model.predict_proba(X_test_1)[:, 0])\n",
    "    # есть кейсы когда g0 и g1 равны нулю - кажется что такое не ок, давайте просто уберем их\n",
    "    test_df[(test_df['g0'] == 0) & (test_df['g1'] == 0)]\n",
    "    test_df = test_df[~((test_df['g0'] == 0) & (test_df['g1'] == 0))].reset_index(drop=True)\n",
    "    return calculate_clipped_ips_for_df(test_df, l=10)"
   ]
  },
  {
   "cell_type": "code",
   "execution_count": 168,
   "id": "af8d4c54",
   "metadata": {
    "scrolled": true
   },
   "outputs": [
    {
     "name": "stderr",
     "output_type": "stream",
     "text": [
      "100%|██████████████████████████████| 1885598/1885598 [02:58<00:00, 10567.61it/s]\n",
      "100%|██████████████████████████████| 1885598/1885598 [03:00<00:00, 10473.75it/s]\n"
     ]
    },
    {
     "data": {
      "text/plain": [
       "0.20044470418327728"
      ]
     },
     "execution_count": 168,
     "metadata": {},
     "output_type": "execute_result"
    }
   ],
   "source": [
    "calculate_clipped_ips_on_test(model, X_test_0, X_test_1, df)"
   ]
  },
  {
   "cell_type": "code",
   "execution_count": 186,
   "id": "ca94c189",
   "metadata": {},
   "outputs": [
    {
     "name": "stderr",
     "output_type": "stream",
     "text": [
      "  0%|                                                    | 0/10 [00:00<?, ?it/s]/usr/local/lib/python3.9/site-packages/sklearn/linear_model/_logistic.py:814: ConvergenceWarning: lbfgs failed to converge (status=1):\n",
      "STOP: TOTAL NO. of ITERATIONS REACHED LIMIT.\n",
      "\n",
      "Increase the number of iterations (max_iter) or scale the data as shown in:\n",
      "    https://scikit-learn.org/stable/modules/preprocessing.html\n",
      "Please also refer to the documentation for alternative solver options:\n",
      "    https://scikit-learn.org/stable/modules/linear_model.html#logistic-regression\n",
      "  n_iter_i = _check_optimize_result(\n"
     ]
    },
    {
     "name": "stdout",
     "output_type": "stream",
     "text": [
      "==============================\n",
      "Regularization parameter c = 0.10\n"
     ]
    },
    {
     "name": "stderr",
     "output_type": "stream",
     "text": [
      "\r",
      " 10%|████                                     | 1/10 [08:00<1:12:03, 480.44s/it]"
     ]
    },
    {
     "name": "stdout",
     "output_type": "stream",
     "text": [
      "Metric clipped ips on last day: 0.1952\n",
      "Logloss on last day: 0.1388\n"
     ]
    },
    {
     "name": "stderr",
     "output_type": "stream",
     "text": [
      "/usr/local/lib/python3.9/site-packages/sklearn/linear_model/_logistic.py:814: ConvergenceWarning: lbfgs failed to converge (status=1):\n",
      "STOP: TOTAL NO. of ITERATIONS REACHED LIMIT.\n",
      "\n",
      "Increase the number of iterations (max_iter) or scale the data as shown in:\n",
      "    https://scikit-learn.org/stable/modules/preprocessing.html\n",
      "Please also refer to the documentation for alternative solver options:\n",
      "    https://scikit-learn.org/stable/modules/linear_model.html#logistic-regression\n",
      "  n_iter_i = _check_optimize_result(\n"
     ]
    },
    {
     "name": "stdout",
     "output_type": "stream",
     "text": [
      "==============================\n",
      "Regularization parameter c = 0.31\n"
     ]
    },
    {
     "name": "stderr",
     "output_type": "stream",
     "text": [
      "\r",
      " 20%|████████▏                                | 2/10 [15:56<1:03:42, 477.76s/it]"
     ]
    },
    {
     "name": "stdout",
     "output_type": "stream",
     "text": [
      "Metric clipped ips on last day: 0.1960\n",
      "Logloss on last day: 0.1389\n"
     ]
    },
    {
     "name": "stderr",
     "output_type": "stream",
     "text": [
      "/usr/local/lib/python3.9/site-packages/sklearn/linear_model/_logistic.py:814: ConvergenceWarning: lbfgs failed to converge (status=1):\n",
      "STOP: TOTAL NO. of ITERATIONS REACHED LIMIT.\n",
      "\n",
      "Increase the number of iterations (max_iter) or scale the data as shown in:\n",
      "    https://scikit-learn.org/stable/modules/preprocessing.html\n",
      "Please also refer to the documentation for alternative solver options:\n",
      "    https://scikit-learn.org/stable/modules/linear_model.html#logistic-regression\n",
      "  n_iter_i = _check_optimize_result(\n"
     ]
    },
    {
     "name": "stdout",
     "output_type": "stream",
     "text": [
      "==============================\n",
      "Regularization parameter c = 0.52\n"
     ]
    },
    {
     "name": "stderr",
     "output_type": "stream",
     "text": [
      "\r",
      " 30%|████████████▉                              | 3/10 [23:56<55:51, 478.81s/it]"
     ]
    },
    {
     "name": "stdout",
     "output_type": "stream",
     "text": [
      "Metric clipped ips on last day: 0.1962\n",
      "Logloss on last day: 0.1393\n"
     ]
    },
    {
     "name": "stderr",
     "output_type": "stream",
     "text": [
      "/usr/local/lib/python3.9/site-packages/sklearn/linear_model/_logistic.py:814: ConvergenceWarning: lbfgs failed to converge (status=1):\n",
      "STOP: TOTAL NO. of ITERATIONS REACHED LIMIT.\n",
      "\n",
      "Increase the number of iterations (max_iter) or scale the data as shown in:\n",
      "    https://scikit-learn.org/stable/modules/preprocessing.html\n",
      "Please also refer to the documentation for alternative solver options:\n",
      "    https://scikit-learn.org/stable/modules/linear_model.html#logistic-regression\n",
      "  n_iter_i = _check_optimize_result(\n"
     ]
    },
    {
     "name": "stdout",
     "output_type": "stream",
     "text": [
      "==============================\n",
      "Regularization parameter c = 0.73\n"
     ]
    },
    {
     "name": "stderr",
     "output_type": "stream",
     "text": [
      "\r",
      " 40%|█████████████████▏                         | 4/10 [31:46<47:33, 475.57s/it]"
     ]
    },
    {
     "name": "stdout",
     "output_type": "stream",
     "text": [
      "Metric clipped ips on last day: 0.1958\n",
      "Logloss on last day: 0.1393\n"
     ]
    },
    {
     "name": "stderr",
     "output_type": "stream",
     "text": [
      "/usr/local/lib/python3.9/site-packages/sklearn/linear_model/_logistic.py:814: ConvergenceWarning: lbfgs failed to converge (status=1):\n",
      "STOP: TOTAL NO. of ITERATIONS REACHED LIMIT.\n",
      "\n",
      "Increase the number of iterations (max_iter) or scale the data as shown in:\n",
      "    https://scikit-learn.org/stable/modules/preprocessing.html\n",
      "Please also refer to the documentation for alternative solver options:\n",
      "    https://scikit-learn.org/stable/modules/linear_model.html#logistic-regression\n",
      "  n_iter_i = _check_optimize_result(\n"
     ]
    },
    {
     "name": "stdout",
     "output_type": "stream",
     "text": [
      "==============================\n",
      "Regularization parameter c = 0.94\n"
     ]
    },
    {
     "name": "stderr",
     "output_type": "stream",
     "text": [
      "\r",
      " 50%|█████████████████████▌                     | 5/10 [39:49<39:50, 478.15s/it]"
     ]
    },
    {
     "name": "stdout",
     "output_type": "stream",
     "text": [
      "Metric clipped ips on last day: 0.1952\n",
      "Logloss on last day: 0.1392\n"
     ]
    },
    {
     "name": "stderr",
     "output_type": "stream",
     "text": [
      "/usr/local/lib/python3.9/site-packages/sklearn/linear_model/_logistic.py:814: ConvergenceWarning: lbfgs failed to converge (status=1):\n",
      "STOP: TOTAL NO. of ITERATIONS REACHED LIMIT.\n",
      "\n",
      "Increase the number of iterations (max_iter) or scale the data as shown in:\n",
      "    https://scikit-learn.org/stable/modules/preprocessing.html\n",
      "Please also refer to the documentation for alternative solver options:\n",
      "    https://scikit-learn.org/stable/modules/linear_model.html#logistic-regression\n",
      "  n_iter_i = _check_optimize_result(\n"
     ]
    },
    {
     "name": "stdout",
     "output_type": "stream",
     "text": [
      "==============================\n",
      "Regularization parameter c = 1.16\n"
     ]
    },
    {
     "name": "stderr",
     "output_type": "stream",
     "text": [
      "\r",
      " 60%|█████████████████████████▊                 | 6/10 [47:41<31:43, 475.92s/it]"
     ]
    },
    {
     "name": "stdout",
     "output_type": "stream",
     "text": [
      "Metric clipped ips on last day: 0.1962\n",
      "Logloss on last day: 0.1391\n"
     ]
    },
    {
     "name": "stderr",
     "output_type": "stream",
     "text": [
      "/usr/local/lib/python3.9/site-packages/sklearn/linear_model/_logistic.py:814: ConvergenceWarning: lbfgs failed to converge (status=1):\n",
      "STOP: TOTAL NO. of ITERATIONS REACHED LIMIT.\n",
      "\n",
      "Increase the number of iterations (max_iter) or scale the data as shown in:\n",
      "    https://scikit-learn.org/stable/modules/preprocessing.html\n",
      "Please also refer to the documentation for alternative solver options:\n",
      "    https://scikit-learn.org/stable/modules/linear_model.html#logistic-regression\n",
      "  n_iter_i = _check_optimize_result(\n"
     ]
    },
    {
     "name": "stdout",
     "output_type": "stream",
     "text": [
      "==============================\n",
      "Regularization parameter c = 1.37\n"
     ]
    },
    {
     "name": "stderr",
     "output_type": "stream",
     "text": [
      "\r",
      " 70%|██████████████████████████████             | 7/10 [55:41<23:52, 477.36s/it]"
     ]
    },
    {
     "name": "stdout",
     "output_type": "stream",
     "text": [
      "Metric clipped ips on last day: 0.1970\n",
      "Logloss on last day: 0.1389\n"
     ]
    },
    {
     "name": "stderr",
     "output_type": "stream",
     "text": [
      "/usr/local/lib/python3.9/site-packages/sklearn/linear_model/_logistic.py:814: ConvergenceWarning: lbfgs failed to converge (status=1):\n",
      "STOP: TOTAL NO. of ITERATIONS REACHED LIMIT.\n",
      "\n",
      "Increase the number of iterations (max_iter) or scale the data as shown in:\n",
      "    https://scikit-learn.org/stable/modules/preprocessing.html\n",
      "Please also refer to the documentation for alternative solver options:\n",
      "    https://scikit-learn.org/stable/modules/linear_model.html#logistic-regression\n",
      "  n_iter_i = _check_optimize_result(\n"
     ]
    },
    {
     "name": "stdout",
     "output_type": "stream",
     "text": [
      "==============================\n",
      "Regularization parameter c = 1.58\n"
     ]
    },
    {
     "name": "stderr",
     "output_type": "stream",
     "text": [
      "\r",
      " 80%|████████████████████████████████▊        | 8/10 [1:03:37<15:53, 476.95s/it]"
     ]
    },
    {
     "name": "stdout",
     "output_type": "stream",
     "text": [
      "Metric clipped ips on last day: 0.1960\n",
      "Logloss on last day: 0.1392\n"
     ]
    },
    {
     "name": "stderr",
     "output_type": "stream",
     "text": [
      "/usr/local/lib/python3.9/site-packages/sklearn/linear_model/_logistic.py:814: ConvergenceWarning: lbfgs failed to converge (status=1):\n",
      "STOP: TOTAL NO. of ITERATIONS REACHED LIMIT.\n",
      "\n",
      "Increase the number of iterations (max_iter) or scale the data as shown in:\n",
      "    https://scikit-learn.org/stable/modules/preprocessing.html\n",
      "Please also refer to the documentation for alternative solver options:\n",
      "    https://scikit-learn.org/stable/modules/linear_model.html#logistic-regression\n",
      "  n_iter_i = _check_optimize_result(\n"
     ]
    },
    {
     "name": "stdout",
     "output_type": "stream",
     "text": [
      "==============================\n",
      "Regularization parameter c = 1.79\n"
     ]
    },
    {
     "name": "stderr",
     "output_type": "stream",
     "text": [
      "\r",
      " 90%|████████████████████████████████████▉    | 9/10 [1:11:31<07:56, 476.12s/it]"
     ]
    },
    {
     "name": "stdout",
     "output_type": "stream",
     "text": [
      "Metric clipped ips on last day: 0.1969\n",
      "Logloss on last day: 0.1390\n"
     ]
    },
    {
     "name": "stderr",
     "output_type": "stream",
     "text": [
      "/usr/local/lib/python3.9/site-packages/sklearn/linear_model/_logistic.py:814: ConvergenceWarning: lbfgs failed to converge (status=1):\n",
      "STOP: TOTAL NO. of ITERATIONS REACHED LIMIT.\n",
      "\n",
      "Increase the number of iterations (max_iter) or scale the data as shown in:\n",
      "    https://scikit-learn.org/stable/modules/preprocessing.html\n",
      "Please also refer to the documentation for alternative solver options:\n",
      "    https://scikit-learn.org/stable/modules/linear_model.html#logistic-regression\n",
      "  n_iter_i = _check_optimize_result(\n"
     ]
    },
    {
     "name": "stdout",
     "output_type": "stream",
     "text": [
      "==============================\n",
      "Regularization parameter c = 2.00\n"
     ]
    },
    {
     "name": "stderr",
     "output_type": "stream",
     "text": [
      "100%|████████████████████████████████████████| 10/10 [1:19:36<00:00, 477.61s/it]"
     ]
    },
    {
     "name": "stdout",
     "output_type": "stream",
     "text": [
      "Metric clipped ips on last day: 0.1963\n",
      "Logloss on last day: 0.1389\n"
     ]
    },
    {
     "name": "stderr",
     "output_type": "stream",
     "text": [
      "\n"
     ]
    }
   ],
   "source": [
    "c = np.linspace(0.1, 2, 10)\n",
    "metric = []\n",
    "log_losses = []\n",
    "for c_i in tqdm(c):\n",
    "    cur_model = create_model(X_train, y_train, C=c_i)\n",
    "    print('======'*5)\n",
    "    print(f'Regularization parameter c = {c_i:.2f}')\n",
    "    cur_metric = calculate_clipped_ips_on_test(cur_model, X_test_0, X_test_1, df)\n",
    "    metric.append(cur_metric)\n",
    "    cur_log_loss = log_loss(\n",
    "            y_test_0, \n",
    "            cur_model.predict_proba(X_test_0)\n",
    "        )\n",
    "    log_losses.append(cur_log_loss)\n",
    "    print(f'Metric clipped ips on last day: {cur_metric:.4f}')\n",
    "    print(f'Logloss on last day: {cur_log_loss:.4f}')"
   ]
  },
  {
   "cell_type": "code",
   "execution_count": 192,
   "id": "02f09d68",
   "metadata": {},
   "outputs": [
    {
     "data": {
      "image/png": "[encoded data removed]",
      "text/plain": [
       "<Figure size 936x504 with 1 Axes>"
      ]
     },
     "metadata": {
      "needs_background": "light"
     },
     "output_type": "display_data"
    },
    {
     "data": {
      "image/png": "[encoded data removed]",
      "text/plain": [
       "<Figure size 936x504 with 1 Axes>"
      ]
     },
     "metadata": {
      "needs_background": "light"
     },
     "output_type": "display_data"
    }
   ],
   "source": [
    "plt.figure(figsize=(13, 7))\n",
    "plt.plot(c, metric)\n",
    "plt.title('Clipped IPS metric on last day', size=18)\n",
    "plt.xlabel('Regularization value', size=14)\n",
    "plt.ylabel('Clipped IPS', size=14)\n",
    "plt.figure(figsize=(13, 7))\n",
    "plt.plot(c, log_losses)\n",
    "plt.title('Logloss on last day', size=18)\n",
    "plt.xlabel('Regularization value', size=14)\n",
    "plt.ylabel('Logloss', size=14);"
   ]
  },
  {
   "cell_type": "code",
   "execution_count": 198,
   "id": "39942d5b",
   "metadata": {},
   "outputs": [
    {
     "data": {
      "text/html": [
       "<div>\n",
       "<style scoped>\n",
       "    .dataframe tbody tr th:only-of-type {\n",
       "        vertical-align: middle;\n",
       "    }\n",
       "\n",
       "    .dataframe tbody tr th {\n",
       "        vertical-align: top;\n",
       "    }\n",
       "\n",
       "    .dataframe thead th {\n",
       "        text-align: right;\n",
       "    }\n",
       "</style>\n",
       "<table border=\"1\" class=\"dataframe\">\n",
       "  <thead>\n",
       "    <tr style=\"text-align: right;\">\n",
       "      <th></th>\n",
       "      <th>regularization_parameter</th>\n",
       "      <th>clipped_ips</th>\n",
       "      <th>log_loss</th>\n",
       "    </tr>\n",
       "  </thead>\n",
       "  <tbody>\n",
       "    <tr>\n",
       "      <th>0</th>\n",
       "      <td>0.100000</td>\n",
       "      <td>0.195248</td>\n",
       "      <td>0.138846</td>\n",
       "    </tr>\n",
       "    <tr>\n",
       "      <th>1</th>\n",
       "      <td>0.311111</td>\n",
       "      <td>0.196025</td>\n",
       "      <td>0.138940</td>\n",
       "    </tr>\n",
       "    <tr>\n",
       "      <th>2</th>\n",
       "      <td>0.522222</td>\n",
       "      <td>0.196221</td>\n",
       "      <td>0.139290</td>\n",
       "    </tr>\n",
       "    <tr>\n",
       "      <th>3</th>\n",
       "      <td>0.733333</td>\n",
       "      <td>0.195823</td>\n",
       "      <td>0.139256</td>\n",
       "    </tr>\n",
       "    <tr>\n",
       "      <th>4</th>\n",
       "      <td>0.944444</td>\n",
       "      <td>0.195214</td>\n",
       "      <td>0.139159</td>\n",
       "    </tr>\n",
       "    <tr>\n",
       "      <th>5</th>\n",
       "      <td>1.155556</td>\n",
       "      <td>0.196223</td>\n",
       "      <td>0.139148</td>\n",
       "    </tr>\n",
       "    <tr>\n",
       "      <th>6</th>\n",
       "      <td>1.366667</td>\n",
       "      <td>0.197006</td>\n",
       "      <td>0.138874</td>\n",
       "    </tr>\n",
       "    <tr>\n",
       "      <th>7</th>\n",
       "      <td>1.577778</td>\n",
       "      <td>0.195971</td>\n",
       "      <td>0.139242</td>\n",
       "    </tr>\n",
       "    <tr>\n",
       "      <th>8</th>\n",
       "      <td>1.788889</td>\n",
       "      <td>0.196903</td>\n",
       "      <td>0.138995</td>\n",
       "    </tr>\n",
       "    <tr>\n",
       "      <th>9</th>\n",
       "      <td>2.000000</td>\n",
       "      <td>0.196342</td>\n",
       "      <td>0.138872</td>\n",
       "    </tr>\n",
       "  </tbody>\n",
       "</table>\n",
       "</div>"
      ],
      "text/plain": [
       "   regularization_parameter  clipped_ips  log_loss\n",
       "0                  0.100000     0.195248  0.138846\n",
       "1                  0.311111     0.196025  0.138940\n",
       "2                  0.522222     0.196221  0.139290\n",
       "3                  0.733333     0.195823  0.139256\n",
       "4                  0.944444     0.195214  0.139159\n",
       "5                  1.155556     0.196223  0.139148\n",
       "6                  1.366667     0.197006  0.138874\n",
       "7                  1.577778     0.195971  0.139242\n",
       "8                  1.788889     0.196903  0.138995\n",
       "9                  2.000000     0.196342  0.138872"
      ]
     },
     "execution_count": 198,
     "metadata": {},
     "output_type": "execute_result"
    }
   ],
   "source": [
    "tmp = pd.DataFrame([c, metric, log_losses]).T\n",
    "tmp.columns = ['regularization_parameter', 'clipped_ips', 'log_loss']\n",
    "tmp"
   ]
  },
  {
   "cell_type": "markdown",
   "id": "a8874160",
   "metadata": {},
   "source": [
    "Таким образом, лучший параметр регулярищации модели по оптимизации метрики clipped ips на последнем дне оказался равен 1.577 (`clipped_ips=0.197`). Который оказался меньше значения метрики clipped ips на изначальном параметре регуляризации `c=0.00001`, который дал значение метрики `clipped_ips=0.2004`, поэтому, можно сказать, что в первой домашке параметр регуляризации был выбран правильно."
   ]
  },
  {
   "cell_type": "markdown",
   "id": "d1ec59fb",
   "metadata": {},
   "source": [
    "_Выводы_:\n",
    "1. В рамках данной домашней работе научились считать cips\n",
    "2. Значение cips оказалось раз в 5-6 больше ctr - в чате было сказано, что это норм ситуация: я думаю, что тут сыграло то, что метрика cips смещена, и то что часть данных из последнего дня я удалил - например, из за пропусков и/или нулевого значения g0 (g1), а также из-за того, что я крафтил много фичей и много интеракций\n",
    "3. Подобрали параметр регуляризации, оптимизируя метрику cips - оказалось так, что на просматриваемом наборе параметров по cips лучший параметр регуляризации ровно тот, который был выбран в первой домашке"
   ]
  },
  {
   "cell_type": "code",
   "execution_count": null,
   "id": "984b5153",
   "metadata": {},
   "outputs": [],
   "source": []
  }
 ],
 "metadata": {
  "kernelspec": {
   "display_name": "Python 3 (ipykernel)",
   "language": "python",
   "name": "python3"
  },
  "language_info": {
   "codemirror_mode": {
    "name": "ipython",
    "version": 3
   },
   "file_extension": ".py",
   "mimetype": "text/x-python",
   "name": "python",
   "nbconvert_exporter": "python",
   "pygments_lexer": "ipython3",
   "version": "3.9.7"
  }
 },
 "nbformat": 4,
 "nbformat_minor": 5
}
