{
  "nbformat": 4,
  "nbformat_minor": 0,
  "metadata": {
    "colab": {
      "name": "RecSysLab1.ipynb",
      "provenance": [],
      "authorship_tag": "ABX9TyNZ+VGxpu70cN71XhX2i8af",
      "include_colab_link": true
    },
    "kernelspec": {
      "name": "python3",
      "display_name": "Python 3"
    },
    "language_info": {
      "name": "python"
    }
  },
  "cells": [
    {
      "cell_type": "markdown",
      "metadata": {
        "id": "view-in-github",
        "colab_type": "text"
      },
      "source": [
        "<a href=\"https://colab.research.google.com/github/vladimir-sashin/Recsys-course-homework/blob/master/RecSysLab1.ipynb\" target=\"_parent\"><img src=\"https://colab.research.google.com/assets/colab-badge.svg\" alt=\"Open In Colab\"/></a>"
      ]
    },
    {
      "cell_type": "code",
      "metadata": {
        "colab": {
          "base_uri": "https://localhost:8080/"
        },
        "id": "rT0ueWyBOtja",
        "outputId": "60ba3e11-9692-4da1-f8f5-7c275421bcd4"
      },
      "source": [
        "!gdown --id 1Em-UZriSKRwCPahc5yLaaPPE3eESaa7S"
      ],
      "execution_count": 1,
      "outputs": [
        {
          "output_type": "stream",
          "name": "stdout",
          "text": [
            "Downloading...\n",
            "From: https://drive.google.com/uc?id=1Em-UZriSKRwCPahc5yLaaPPE3eESaa7S\n",
            "To: /content/data.csv\n",
            "100% 2.47G/2.47G [00:29<00:00, 84.5MB/s]\n"
          ]
        }
      ]
    },
    {
      "cell_type": "code",
      "metadata": {
        "id": "RKIZdic7OuTO"
      },
      "source": [
        "import matplotlib.pyplot as plt\n",
        "import numpy as np\n",
        "import pandas as pd\n",
        "import sklearn\n",
        "import seaborn as sns\n",
        "from IPython.display import display"
      ],
      "execution_count": 1,
      "outputs": []
    },
    {
      "cell_type": "code",
      "metadata": {
        "colab": {
          "base_uri": "https://localhost:8080/",
          "height": 204
        },
        "id": "Rx0XpaR0sj-P",
        "outputId": "f9906c40-8e1f-4275-916d-69ec2c2bb07c"
      },
      "source": [
        "df = pd.read_csv(\"data.csv\")\n",
        "df.head()"
      ],
      "execution_count": 2,
      "outputs": [
        {
          "output_type": "execute_result",
          "data": {
            "text/html": [
              "<div>\n",
              "<style scoped>\n",
              "    .dataframe tbody tr th:only-of-type {\n",
              "        vertical-align: middle;\n",
              "    }\n",
              "\n",
              "    .dataframe tbody tr th {\n",
              "        vertical-align: top;\n",
              "    }\n",
              "\n",
              "    .dataframe thead th {\n",
              "        text-align: right;\n",
              "    }\n",
              "</style>\n",
              "<table border=\"1\" class=\"dataframe\">\n",
              "  <thead>\n",
              "    <tr style=\"text-align: right;\">\n",
              "      <th></th>\n",
              "      <th>date_time</th>\n",
              "      <th>zone_id</th>\n",
              "      <th>banner_id</th>\n",
              "      <th>oaid_hash</th>\n",
              "      <th>campaign_clicks</th>\n",
              "      <th>os_id</th>\n",
              "      <th>country_id</th>\n",
              "      <th>banner_id0</th>\n",
              "      <th>rate0</th>\n",
              "      <th>g0</th>\n",
              "      <th>coeff_sum0</th>\n",
              "      <th>banner_id1</th>\n",
              "      <th>rate1</th>\n",
              "      <th>g1</th>\n",
              "      <th>coeff_sum1</th>\n",
              "      <th>impressions</th>\n",
              "      <th>clicks</th>\n",
              "    </tr>\n",
              "  </thead>\n",
              "  <tbody>\n",
              "    <tr>\n",
              "      <th>0</th>\n",
              "      <td>2021-09-27 00:01:30.000000</td>\n",
              "      <td>0</td>\n",
              "      <td>0</td>\n",
              "      <td>5664530014561852622</td>\n",
              "      <td>0</td>\n",
              "      <td>0</td>\n",
              "      <td>0</td>\n",
              "      <td>1240</td>\n",
              "      <td>0.067</td>\n",
              "      <td>0.035016</td>\n",
              "      <td>-7.268846</td>\n",
              "      <td>0</td>\n",
              "      <td>0.010</td>\n",
              "      <td>0.049516</td>\n",
              "      <td>-5.369901</td>\n",
              "      <td>1</td>\n",
              "      <td>1</td>\n",
              "    </tr>\n",
              "    <tr>\n",
              "      <th>1</th>\n",
              "      <td>2021-09-26 22:54:49.000000</td>\n",
              "      <td>1</td>\n",
              "      <td>1</td>\n",
              "      <td>5186611064559013950</td>\n",
              "      <td>0</td>\n",
              "      <td>0</td>\n",
              "      <td>1</td>\n",
              "      <td>1</td>\n",
              "      <td>0.002</td>\n",
              "      <td>0.054298</td>\n",
              "      <td>-2.657477</td>\n",
              "      <td>269</td>\n",
              "      <td>0.004</td>\n",
              "      <td>0.031942</td>\n",
              "      <td>-4.449220</td>\n",
              "      <td>1</td>\n",
              "      <td>1</td>\n",
              "    </tr>\n",
              "    <tr>\n",
              "      <th>2</th>\n",
              "      <td>2021-09-26 23:57:20.000000</td>\n",
              "      <td>2</td>\n",
              "      <td>2</td>\n",
              "      <td>2215519569292448030</td>\n",
              "      <td>3</td>\n",
              "      <td>0</td>\n",
              "      <td>0</td>\n",
              "      <td>2</td>\n",
              "      <td>0.014</td>\n",
              "      <td>0.014096</td>\n",
              "      <td>-3.824875</td>\n",
              "      <td>21</td>\n",
              "      <td>0.014</td>\n",
              "      <td>0.014906</td>\n",
              "      <td>-3.939309</td>\n",
              "      <td>1</td>\n",
              "      <td>1</td>\n",
              "    </tr>\n",
              "    <tr>\n",
              "      <th>3</th>\n",
              "      <td>2021-09-27 00:04:30.000000</td>\n",
              "      <td>3</td>\n",
              "      <td>3</td>\n",
              "      <td>6262169206735077204</td>\n",
              "      <td>0</td>\n",
              "      <td>1</td>\n",
              "      <td>1</td>\n",
              "      <td>3</td>\n",
              "      <td>0.012</td>\n",
              "      <td>0.015232</td>\n",
              "      <td>-3.461357</td>\n",
              "      <td>99</td>\n",
              "      <td>0.006</td>\n",
              "      <td>0.050671</td>\n",
              "      <td>-3.418403</td>\n",
              "      <td>1</td>\n",
              "      <td>1</td>\n",
              "    </tr>\n",
              "    <tr>\n",
              "      <th>4</th>\n",
              "      <td>2021-09-27 00:06:21.000000</td>\n",
              "      <td>4</td>\n",
              "      <td>4</td>\n",
              "      <td>4778985830203613115</td>\n",
              "      <td>0</td>\n",
              "      <td>1</td>\n",
              "      <td>0</td>\n",
              "      <td>4</td>\n",
              "      <td>0.019</td>\n",
              "      <td>0.051265</td>\n",
              "      <td>-4.009026</td>\n",
              "      <td>11464230</td>\n",
              "      <td>6.790</td>\n",
              "      <td>0.032005</td>\n",
              "      <td>-2.828797</td>\n",
              "      <td>1</td>\n",
              "      <td>1</td>\n",
              "    </tr>\n",
              "  </tbody>\n",
              "</table>\n",
              "</div>"
            ],
            "text/plain": [
              "                    date_time  zone_id  ...  impressions  clicks\n",
              "0  2021-09-27 00:01:30.000000        0  ...            1       1\n",
              "1  2021-09-26 22:54:49.000000        1  ...            1       1\n",
              "2  2021-09-26 23:57:20.000000        2  ...            1       1\n",
              "3  2021-09-27 00:04:30.000000        3  ...            1       1\n",
              "4  2021-09-27 00:06:21.000000        4  ...            1       1\n",
              "\n",
              "[5 rows x 17 columns]"
            ]
          },
          "metadata": {},
          "execution_count": 2
        }
      ]
    },
    {
      "cell_type": "markdown",
      "metadata": {
        "id": "_PTUNxDu0UCB"
      },
      "source": [
        "# Подготовка и анализ данных"
      ]
    },
    {
      "cell_type": "markdown",
      "metadata": {
        "id": "mWo0oQcfuTxH"
      },
      "source": [
        "Произведем предобработку данных:\n",
        "1. Удалим ненужные столбцы\n",
        "2. Преобразуем тип данных столбца date_time к datetime, чтобы произвести разбиение на обучающую и тестовую выборку\n",
        "3. Выведем максимальную и минимальную даты, чтобы понять, с каким периодом времени мы работаем\n",
        "4. Отсортируем датасет по дате/времени и разобъем данные на train и test сеты. Test - показы рекламы в последний день, train - все остальные."
      ]
    },
    {
      "cell_type": "code",
      "metadata": {
        "colab": {
          "base_uri": "https://localhost:8080/"
        },
        "id": "jKAKqgfSt02s",
        "outputId": "9235107b-e691-47fb-ad9e-dc170ffd4382"
      },
      "source": [
        "df = df.drop([\"oaid_hash\", \"banner_id0\", \"banner_id1\", \"rate0\", \"rate1\", \"g0\",\n",
        "              \"g1\", \"coeff_sum0\", \"coeff_sum1\", \"impressions\"], axis=1)\n",
        "\n",
        "df[\"date_time\"] = pd.to_datetime(df.date_time)\n",
        "df = df.sort_values(\"date_time\")\n",
        "min_date = df[\"date_time\"][0].date()\n",
        "max_date = df[\"date_time\"].iloc[-1].date()\n",
        "print(\"Min date: {}, Max date: {}\".format(min_date, max_date))\n",
        "\n",
        "df_test = df[(df['date_time'].dt.date == max_date)]\n",
        "df = df[(df['date_time'].dt.date < max_date)]"
      ],
      "execution_count": 3,
      "outputs": [
        {
          "output_type": "stream",
          "name": "stdout",
          "text": [
            "Min date: 2021-09-27, Max date: 2021-10-02\n"
          ]
        }
      ]
    },
    {
      "cell_type": "markdown",
      "metadata": {
        "id": "YblnCA8twfwz"
      },
      "source": [
        "Первоначальный анализ и всю последующую обработку будем производить только на обучающей выборке, а на test просто применим те же трансформации, чтобы не допустить data leakage. \n"
      ]
    },
    {
      "cell_type": "code",
      "metadata": {
        "colab": {
          "base_uri": "https://localhost:8080/",
          "height": 1000
        },
        "id": "ZiHNzG_Gu4V-",
        "outputId": "982f2716-29bc-48f3-add1-0cb9e74d7118"
      },
      "source": [
        "def barplot(df_column, threshold=None):\n",
        "    plt.figure(figsize=(20,8))\n",
        "    prob = df_column.value_counts(normalize=True)\n",
        "    if threshold:\n",
        "        mask = prob > threshold\n",
        "        tail_prob = prob.loc[~mask].sum()\n",
        "        prob = prob.loc[mask]\n",
        "        prob['other'] = tail_prob\n",
        "    prob.plot(kind='bar')\n",
        "    # plt.xticks(rotation=25)\n",
        "    for i, v in enumerate(prob.to_list()):\n",
        "        plt.text(i, v, str(round(v*100, 2))+\"%\\n\"+str(round(v*df.shape[0])))\n",
        "        # plt.text(i, v + 0.005, str(v))\n",
        "    plt.show()\n",
        "\n",
        "\n",
        "def analyze(df):\n",
        "    display(df.head())\n",
        "    print(\"Traint set shape: {}\".format(df.shape))\n",
        "    print()\n",
        "\n",
        "    display(\"Basic descriptive stats:\", df.describe())\n",
        "    print()\n",
        "\n",
        "    data = [df.isna().sum().to_list(), df.dtypes.to_list(), df.nunique().to_list()]\n",
        "    display(\"Variables info\", pd.DataFrame(data, columns = df.columns.to_list(), index=[\"Missing values\", \"Data types\", \"Unique values\"]))\n",
        "\n",
        "    print(\"\\nclicks barplot\")\n",
        "    barplot(df[\"clicks\"])\n",
        "\n",
        "    print(\"\\nos_id barplot\")\n",
        "    barplot(df[\"os_id\"])\n",
        "\n",
        "    print(\"\\ncountry_id barplot\")\n",
        "    # plt.show()\n",
        "    barplot(df[\"country_id\"])\n",
        "\n",
        "    print(\"\\ncampaign_clicks barplot\")\n",
        "    barplot(df[\"campaign_clicks\"], threshold=0.0001)\n",
        "\n",
        "\n",
        "analyze(df)"
      ],
      "execution_count": 4,
      "outputs": [
        {
          "output_type": "display_data",
          "data": {
            "text/html": [
              "<div>\n",
              "<style scoped>\n",
              "    .dataframe tbody tr th:only-of-type {\n",
              "        vertical-align: middle;\n",
              "    }\n",
              "\n",
              "    .dataframe tbody tr th {\n",
              "        vertical-align: top;\n",
              "    }\n",
              "\n",
              "    .dataframe thead th {\n",
              "        text-align: right;\n",
              "    }\n",
              "</style>\n",
              "<table border=\"1\" class=\"dataframe\">\n",
              "  <thead>\n",
              "    <tr style=\"text-align: right;\">\n",
              "      <th></th>\n",
              "      <th>date_time</th>\n",
              "      <th>zone_id</th>\n",
              "      <th>banner_id</th>\n",
              "      <th>campaign_clicks</th>\n",
              "      <th>os_id</th>\n",
              "      <th>country_id</th>\n",
              "      <th>clicks</th>\n",
              "    </tr>\n",
              "  </thead>\n",
              "  <tbody>\n",
              "    <tr>\n",
              "      <th>1390198</th>\n",
              "      <td>2021-09-01 00:02:49</td>\n",
              "      <td>30</td>\n",
              "      <td>596</td>\n",
              "      <td>0</td>\n",
              "      <td>0</td>\n",
              "      <td>7</td>\n",
              "      <td>0</td>\n",
              "    </tr>\n",
              "    <tr>\n",
              "      <th>5041415</th>\n",
              "      <td>2021-09-26 00:00:00</td>\n",
              "      <td>41</td>\n",
              "      <td>29</td>\n",
              "      <td>1</td>\n",
              "      <td>3</td>\n",
              "      <td>0</td>\n",
              "      <td>0</td>\n",
              "    </tr>\n",
              "    <tr>\n",
              "      <th>1442602</th>\n",
              "      <td>2021-09-26 00:00:00</td>\n",
              "      <td>1</td>\n",
              "      <td>188</td>\n",
              "      <td>2</td>\n",
              "      <td>2</td>\n",
              "      <td>15</td>\n",
              "      <td>0</td>\n",
              "    </tr>\n",
              "    <tr>\n",
              "      <th>7232498</th>\n",
              "      <td>2021-09-26 00:00:00</td>\n",
              "      <td>17</td>\n",
              "      <td>52</td>\n",
              "      <td>2</td>\n",
              "      <td>2</td>\n",
              "      <td>5</td>\n",
              "      <td>0</td>\n",
              "    </tr>\n",
              "    <tr>\n",
              "      <th>14938691</th>\n",
              "      <td>2021-09-26 00:00:00</td>\n",
              "      <td>47</td>\n",
              "      <td>73</td>\n",
              "      <td>1</td>\n",
              "      <td>4</td>\n",
              "      <td>13</td>\n",
              "      <td>0</td>\n",
              "    </tr>\n",
              "  </tbody>\n",
              "</table>\n",
              "</div>"
            ],
            "text/plain": [
              "                   date_time  zone_id  banner_id  ...  os_id  country_id  clicks\n",
              "1390198  2021-09-01 00:02:49       30        596  ...      0           7       0\n",
              "5041415  2021-09-26 00:00:00       41         29  ...      3           0       0\n",
              "1442602  2021-09-26 00:00:00        1        188  ...      2          15       0\n",
              "7232498  2021-09-26 00:00:00       17         52  ...      2           5       0\n",
              "14938691 2021-09-26 00:00:00       47         73  ...      4          13       0\n",
              "\n",
              "[5 rows x 7 columns]"
            ]
          },
          "metadata": {}
        },
        {
          "output_type": "stream",
          "name": "stdout",
          "text": [
            "Traint set shape: (13692494, 7)\n",
            "\n"
          ]
        },
        {
          "output_type": "display_data",
          "data": {
            "application/vnd.google.colaboratory.intrinsic+json": {
              "type": "string"
            },
            "text/plain": [
              "'Basic descriptive stats:'"
            ]
          },
          "metadata": {}
        },
        {
          "output_type": "display_data",
          "data": {
            "text/html": [
              "<div>\n",
              "<style scoped>\n",
              "    .dataframe tbody tr th:only-of-type {\n",
              "        vertical-align: middle;\n",
              "    }\n",
              "\n",
              "    .dataframe tbody tr th {\n",
              "        vertical-align: top;\n",
              "    }\n",
              "\n",
              "    .dataframe thead th {\n",
              "        text-align: right;\n",
              "    }\n",
              "</style>\n",
              "<table border=\"1\" class=\"dataframe\">\n",
              "  <thead>\n",
              "    <tr style=\"text-align: right;\">\n",
              "      <th></th>\n",
              "      <th>zone_id</th>\n",
              "      <th>banner_id</th>\n",
              "      <th>campaign_clicks</th>\n",
              "      <th>os_id</th>\n",
              "      <th>country_id</th>\n",
              "      <th>clicks</th>\n",
              "    </tr>\n",
              "  </thead>\n",
              "  <tbody>\n",
              "    <tr>\n",
              "      <th>count</th>\n",
              "      <td>1.369249e+07</td>\n",
              "      <td>1.369249e+07</td>\n",
              "      <td>1.369249e+07</td>\n",
              "      <td>1.369249e+07</td>\n",
              "      <td>1.369249e+07</td>\n",
              "      <td>1.369249e+07</td>\n",
              "    </tr>\n",
              "    <tr>\n",
              "      <th>mean</th>\n",
              "      <td>7.963734e+01</td>\n",
              "      <td>3.742884e+02</td>\n",
              "      <td>6.520605e-01</td>\n",
              "      <td>1.833020e+00</td>\n",
              "      <td>4.392995e+00</td>\n",
              "      <td>2.533410e-02</td>\n",
              "    </tr>\n",
              "    <tr>\n",
              "      <th>std</th>\n",
              "      <td>1.579125e+02</td>\n",
              "      <td>3.926496e+02</td>\n",
              "      <td>9.629881e+00</td>\n",
              "      <td>1.512653e+00</td>\n",
              "      <td>4.329281e+00</td>\n",
              "      <td>1.571378e-01</td>\n",
              "    </tr>\n",
              "    <tr>\n",
              "      <th>min</th>\n",
              "      <td>0.000000e+00</td>\n",
              "      <td>0.000000e+00</td>\n",
              "      <td>0.000000e+00</td>\n",
              "      <td>0.000000e+00</td>\n",
              "      <td>0.000000e+00</td>\n",
              "      <td>0.000000e+00</td>\n",
              "    </tr>\n",
              "    <tr>\n",
              "      <th>25%</th>\n",
              "      <td>1.400000e+01</td>\n",
              "      <td>4.900000e+01</td>\n",
              "      <td>0.000000e+00</td>\n",
              "      <td>1.000000e+00</td>\n",
              "      <td>0.000000e+00</td>\n",
              "      <td>0.000000e+00</td>\n",
              "    </tr>\n",
              "    <tr>\n",
              "      <th>50%</th>\n",
              "      <td>1.900000e+01</td>\n",
              "      <td>2.050000e+02</td>\n",
              "      <td>0.000000e+00</td>\n",
              "      <td>2.000000e+00</td>\n",
              "      <td>4.000000e+00</td>\n",
              "      <td>0.000000e+00</td>\n",
              "    </tr>\n",
              "    <tr>\n",
              "      <th>75%</th>\n",
              "      <td>5.900000e+01</td>\n",
              "      <td>6.100000e+02</td>\n",
              "      <td>0.000000e+00</td>\n",
              "      <td>3.000000e+00</td>\n",
              "      <td>7.000000e+00</td>\n",
              "      <td>0.000000e+00</td>\n",
              "    </tr>\n",
              "    <tr>\n",
              "      <th>max</th>\n",
              "      <td>3.443000e+03</td>\n",
              "      <td>1.632000e+03</td>\n",
              "      <td>8.290000e+02</td>\n",
              "      <td>1.000000e+01</td>\n",
              "      <td>1.600000e+01</td>\n",
              "      <td>1.000000e+00</td>\n",
              "    </tr>\n",
              "  </tbody>\n",
              "</table>\n",
              "</div>"
            ],
            "text/plain": [
              "            zone_id     banner_id  ...    country_id        clicks\n",
              "count  1.369249e+07  1.369249e+07  ...  1.369249e+07  1.369249e+07\n",
              "mean   7.963734e+01  3.742884e+02  ...  4.392995e+00  2.533410e-02\n",
              "std    1.579125e+02  3.926496e+02  ...  4.329281e+00  1.571378e-01\n",
              "min    0.000000e+00  0.000000e+00  ...  0.000000e+00  0.000000e+00\n",
              "25%    1.400000e+01  4.900000e+01  ...  0.000000e+00  0.000000e+00\n",
              "50%    1.900000e+01  2.050000e+02  ...  4.000000e+00  0.000000e+00\n",
              "75%    5.900000e+01  6.100000e+02  ...  7.000000e+00  0.000000e+00\n",
              "max    3.443000e+03  1.632000e+03  ...  1.600000e+01  1.000000e+00\n",
              "\n",
              "[8 rows x 6 columns]"
            ]
          },
          "metadata": {}
        },
        {
          "output_type": "stream",
          "name": "stdout",
          "text": [
            "\n"
          ]
        },
        {
          "output_type": "display_data",
          "data": {
            "application/vnd.google.colaboratory.intrinsic+json": {
              "type": "string"
            },
            "text/plain": [
              "'Variables info'"
            ]
          },
          "metadata": {}
        },
        {
          "output_type": "display_data",
          "data": {
            "text/html": [
              "<div>\n",
              "<style scoped>\n",
              "    .dataframe tbody tr th:only-of-type {\n",
              "        vertical-align: middle;\n",
              "    }\n",
              "\n",
              "    .dataframe tbody tr th {\n",
              "        vertical-align: top;\n",
              "    }\n",
              "\n",
              "    .dataframe thead th {\n",
              "        text-align: right;\n",
              "    }\n",
              "</style>\n",
              "<table border=\"1\" class=\"dataframe\">\n",
              "  <thead>\n",
              "    <tr style=\"text-align: right;\">\n",
              "      <th></th>\n",
              "      <th>date_time</th>\n",
              "      <th>zone_id</th>\n",
              "      <th>banner_id</th>\n",
              "      <th>campaign_clicks</th>\n",
              "      <th>os_id</th>\n",
              "      <th>country_id</th>\n",
              "      <th>clicks</th>\n",
              "    </tr>\n",
              "  </thead>\n",
              "  <tbody>\n",
              "    <tr>\n",
              "      <th>Missing values</th>\n",
              "      <td>0</td>\n",
              "      <td>0</td>\n",
              "      <td>0</td>\n",
              "      <td>0</td>\n",
              "      <td>0</td>\n",
              "      <td>0</td>\n",
              "      <td>0</td>\n",
              "    </tr>\n",
              "    <tr>\n",
              "      <th>Data types</th>\n",
              "      <td>datetime64[ns]</td>\n",
              "      <td>int64</td>\n",
              "      <td>int64</td>\n",
              "      <td>int64</td>\n",
              "      <td>int64</td>\n",
              "      <td>int64</td>\n",
              "      <td>int64</td>\n",
              "    </tr>\n",
              "    <tr>\n",
              "      <th>Unique values</th>\n",
              "      <td>518312</td>\n",
              "      <td>3330</td>\n",
              "      <td>1586</td>\n",
              "      <td>822</td>\n",
              "      <td>11</td>\n",
              "      <td>17</td>\n",
              "      <td>2</td>\n",
              "    </tr>\n",
              "  </tbody>\n",
              "</table>\n",
              "</div>"
            ],
            "text/plain": [
              "                     date_time zone_id banner_id  ...  os_id country_id clicks\n",
              "Missing values               0       0         0  ...      0          0      0\n",
              "Data types      datetime64[ns]   int64     int64  ...  int64      int64  int64\n",
              "Unique values           518312    3330      1586  ...     11         17      2\n",
              "\n",
              "[3 rows x 7 columns]"
            ]
          },
          "metadata": {}
        },
        {
          "output_type": "stream",
          "name": "stdout",
          "text": [
            "\n",
            "clicks barplot\n"
          ]
        },
        {
          "output_type": "display_data",
          "data": {
            "image/png": "[encoded data removed]",
            "text/plain": [
              "<Figure size 1440x576 with 1 Axes>"
            ]
          },
          "metadata": {
            "needs_background": "light"
          }
        },
        {
          "output_type": "stream",
          "name": "stdout",
          "text": [
            "\n",
            "os_id barplot\n"
          ]
        },
        {
          "output_type": "display_data",
          "data": {
            "image/png": "[encoded data removed]",
            "text/plain": [
              "<Figure size 1440x576 with 1 Axes>"
            ]
          },
          "metadata": {
            "needs_background": "light"
          }
        },
        {
          "output_type": "stream",
          "name": "stdout",
          "text": [
            "\n",
            "country_id barplot\n"
          ]
        },
        {
          "output_type": "display_data",
          "data": {
            "image/png": "[encoded data removed]",
            "text/plain": [
              "<Figure size 1440x576 with 1 Axes>"
            ]
          },
          "metadata": {
            "needs_background": "light"
          }
        },
        {
          "output_type": "stream",
          "name": "stdout",
          "text": [
            "\n",
            "campaign_clicks barplot\n"
          ]
        },
        {
          "output_type": "display_data",
          "data": {
            "image/png": "[encoded data removed]",
            "text/plain": [
              "<Figure size 1440x576 with 1 Axes>"
            ]
          },
          "metadata": {
            "needs_background": "light"
          }
        }
      ]
    },
    {
      "cell_type": "markdown",
      "metadata": {
        "id": "Xhl8MXZS4Ndj"
      },
      "source": [
        "- Пропущенных значений нет, типы данных нужно будет поменять\n",
        "- Выборка по исходу показа (клик/не клик) очень несбалансирована\n",
        "- У нас есть множество категорий, на основании каждой из-которых по-отдельности мы вряд ли сможем построить нормальную модель, которая будет предсказывать вероятность клика. Есть очень маленькие категории ОС и стран, но их мало, поэтому убирать их не будем\n",
        "- Чем больше количество предшествующих показов той же рекламной кампании, тем меньше количество наблюдений. Причем при подавляющем большинстве показов (более 86%) юзер ранее не видел ту же рекламную компанию, к которой относится показ, и лишь при 7.81% видел один раз, и при 1.1% - 3 раза, и так далее."
      ]
    },
    {
      "cell_type": "markdown",
      "metadata": {
        "id": "8XGxUcPDuKg6"
      },
      "source": [
        "# Feature engineering\n",
        "\n",
        "1. Количество предшествующих показов той же кампании, большее 23, объединим в отдельную категорию.\n",
        "2. Из даты и времени показа вытащим две фичи - день недели и час\n",
        "3. Сконструируем следующие интеракции, то есть создадим новые признаки показа из существующих путем их объединения:\n",
        "- баннер, ОС, место на сайте - какой баннер, на какой платформе и в каком месте был показан\n",
        "- баннер, страна, время - в какой стране и в какое время дня конкретный баннер был выведен при данном показе (таким образом учитываем различные таймзоны)\n",
        "- день недели, баннер - какой баннер был показан в определенное время дня\n",
        "- показы кампании, страна, баннер - сколько раз юзер из определенной страны видел кампанию, к которой принадлежит показанный ему баннер\n",
        "- баннер, страна - какой баннер в какой стране показывается\n",
        "- баннер, место на сайте - какой баннер в каком месте сайта показывается\n",
        "- день недели - просто в какой день недели был произведен показ\n",
        "4. Уберем лишние столбцы\n",
        "5. Отделим предикторы от отклика\n",
        "6. Изменим типы данных предикторов\n"
      ]
    },
    {
      "cell_type": "code",
      "metadata": {
        "id": "SM8du9rxOwsF"
      },
      "source": [
        "def feature_engineering(df):\n",
        "    df.loc[df.campaign_clicks > 23, \"campaign_clicks\"] = 24\n",
        "\n",
        "    df[\"dayoftheweek\"] = df[\"date_time\"].dt.dayofweek\n",
        "    df['hour'] = df[\"date_time\"].dt.hour\n",
        "\n",
        "    df['banner_os_zone'] = (df['banner_id'].astype('str') + '_' + df['os_id'].astype('str') + '_' + df['zone_id'].astype('str')).astype('category')\n",
        "    df['banner_country_time'] = (df['banner_id'].astype('str') + '_' + df['country_id'].astype('str') + '_' + df['hour'].astype('str')).astype('category')\n",
        "    df['banner_weekday'] = (df['banner_id'].astype('str') + '_' + df['dayoftheweek'].astype('str')).astype('category')\n",
        "    df['campaign_shows_country_banner'] = (df['campaign_clicks'].astype('str') + '_' + df['country_id'].astype('str') + '_' + df['banner_id'].astype('str')).astype('category')\n",
        "    df['banner_country'] = (df['banner_id'].astype('str') + '_' + df['country_id'].astype('str')).astype('category')\n",
        "    df['banner_zone'] = (df['banner_id'].astype('str') + '_' + df['zone_id'].astype('str')).astype('category')\n",
        "    df[\"dayoftheweek\"] = df[\"dayoftheweek\"].astype(\"category\")\n",
        "\n",
        "    df = df.drop([\"date_time\", \"zone_id\", \"banner_id\", \"os_id\", \"country_id\", \"hour\", \"campaign_clicks\"], axis=1)\n",
        "    \n",
        "\n",
        "    y = df[\"clicks\"].values\n",
        "    df = df.drop([\"clicks\"], axis=1)\n",
        "\n",
        "    categorical_feature_mask = df.dtypes == \"category\"\n",
        "    categorical_cols = df.columns[categorical_feature_mask].tolist()\n",
        "    return df, y, categorical_cols\n",
        "\n",
        "\n",
        "df, y, categorical_cols = feature_engineering(df)"
      ],
      "execution_count": 5,
      "outputs": []
    },
    {
      "cell_type": "code",
      "metadata": {
        "colab": {
          "base_uri": "https://localhost:8080/"
        },
        "id": "a7c2COMdZkqc",
        "outputId": "c2e5acdd-4947-4c0c-fa9f-f72ef327a93f"
      },
      "source": [
        "df.shape, y.shape"
      ],
      "execution_count": 6,
      "outputs": [
        {
          "output_type": "execute_result",
          "data": {
            "text/plain": [
              "((13692494, 7), (13692494,))"
            ]
          },
          "metadata": {},
          "execution_count": 6
        }
      ]
    },
    {
      "cell_type": "code",
      "metadata": {
        "colab": {
          "base_uri": "https://localhost:8080/",
          "height": 204
        },
        "id": "_GdsJvR9xzNu",
        "outputId": "2dcb0527-fff8-4794-e6e9-670e7d397315"
      },
      "source": [
        "df.head()"
      ],
      "execution_count": 7,
      "outputs": [
        {
          "output_type": "execute_result",
          "data": {
            "text/html": [
              "<div>\n",
              "<style scoped>\n",
              "    .dataframe tbody tr th:only-of-type {\n",
              "        vertical-align: middle;\n",
              "    }\n",
              "\n",
              "    .dataframe tbody tr th {\n",
              "        vertical-align: top;\n",
              "    }\n",
              "\n",
              "    .dataframe thead th {\n",
              "        text-align: right;\n",
              "    }\n",
              "</style>\n",
              "<table border=\"1\" class=\"dataframe\">\n",
              "  <thead>\n",
              "    <tr style=\"text-align: right;\">\n",
              "      <th></th>\n",
              "      <th>dayoftheweek</th>\n",
              "      <th>banner_os_zone</th>\n",
              "      <th>banner_country_time</th>\n",
              "      <th>banner_weekday</th>\n",
              "      <th>campaign_shows_country_banner</th>\n",
              "      <th>banner_country</th>\n",
              "      <th>banner_zone</th>\n",
              "    </tr>\n",
              "  </thead>\n",
              "  <tbody>\n",
              "    <tr>\n",
              "      <th>1390198</th>\n",
              "      <td>2</td>\n",
              "      <td>596_0_30</td>\n",
              "      <td>596_7_0</td>\n",
              "      <td>596_2</td>\n",
              "      <td>0_7_596</td>\n",
              "      <td>596_7</td>\n",
              "      <td>596_30</td>\n",
              "    </tr>\n",
              "    <tr>\n",
              "      <th>5041415</th>\n",
              "      <td>6</td>\n",
              "      <td>29_3_41</td>\n",
              "      <td>29_0_0</td>\n",
              "      <td>29_6</td>\n",
              "      <td>1_0_29</td>\n",
              "      <td>29_0</td>\n",
              "      <td>29_41</td>\n",
              "    </tr>\n",
              "    <tr>\n",
              "      <th>1442602</th>\n",
              "      <td>6</td>\n",
              "      <td>188_2_1</td>\n",
              "      <td>188_15_0</td>\n",
              "      <td>188_6</td>\n",
              "      <td>2_15_188</td>\n",
              "      <td>188_15</td>\n",
              "      <td>188_1</td>\n",
              "    </tr>\n",
              "    <tr>\n",
              "      <th>7232498</th>\n",
              "      <td>6</td>\n",
              "      <td>52_2_17</td>\n",
              "      <td>52_5_0</td>\n",
              "      <td>52_6</td>\n",
              "      <td>2_5_52</td>\n",
              "      <td>52_5</td>\n",
              "      <td>52_17</td>\n",
              "    </tr>\n",
              "    <tr>\n",
              "      <th>14938691</th>\n",
              "      <td>6</td>\n",
              "      <td>73_4_47</td>\n",
              "      <td>73_13_0</td>\n",
              "      <td>73_6</td>\n",
              "      <td>1_13_73</td>\n",
              "      <td>73_13</td>\n",
              "      <td>73_47</td>\n",
              "    </tr>\n",
              "  </tbody>\n",
              "</table>\n",
              "</div>"
            ],
            "text/plain": [
              "         dayoftheweek banner_os_zone  ... banner_country banner_zone\n",
              "1390198             2       596_0_30  ...          596_7      596_30\n",
              "5041415             6        29_3_41  ...           29_0       29_41\n",
              "1442602             6        188_2_1  ...         188_15       188_1\n",
              "7232498             6        52_2_17  ...           52_5       52_17\n",
              "14938691            6        73_4_47  ...          73_13       73_47\n",
              "\n",
              "[5 rows x 7 columns]"
            ]
          },
          "metadata": {},
          "execution_count": 7
        }
      ]
    },
    {
      "cell_type": "markdown",
      "metadata": {
        "id": "uVehzfX81vjm"
      },
      "source": [
        "Произведем one-hot encoding всех наших фичей. Будем фитить класс OneHotEncoder из sklearn, чтобы потом получить те же столбцы и на тестовом сете, при этом установим sparse=True, чтобы на выходе получить sparse матрицу в формате csr для более эффективной работы с данными"
      ]
    },
    {
      "cell_type": "code",
      "metadata": {
        "colab": {
          "base_uri": "https://localhost:8080/"
        },
        "id": "6pJIEwOKO7bS",
        "outputId": "07bbf839-561b-4d8a-c537-43c1ea271ff7"
      },
      "source": [
        "from sklearn.preprocessing import OneHotEncoder\n",
        "\n",
        "\n",
        "ohe = OneHotEncoder(handle_unknown='ignore', sparse = True)\n",
        "ohe.fit(df[categorical_cols])\n",
        "df = ohe.transform(df[categorical_cols])\n",
        "df"
      ],
      "execution_count": 8,
      "outputs": [
        {
          "output_type": "execute_result",
          "data": {
            "text/plain": [
              "<13692494x594281 sparse matrix of type '<class 'numpy.float64'>'\n",
              "\twith 95847458 stored elements in Compressed Sparse Row format>"
            ]
          },
          "metadata": {},
          "execution_count": 8
        }
      ]
    },
    {
      "cell_type": "markdown",
      "metadata": {
        "id": "TigQ5Cge2yau"
      },
      "source": [
        "# Кросс-валидация и обучение\n",
        "\n",
        "Обучать будем логистическую регрессию с оптимизатором liblinear и l2 регуляризацией. Чтобы подобрать гиперпараметр регуляризации, проведем кросс-валидацию с разбиением на 3 подмножества, используя TimeSeriesSplit, чтобы тестовые данные всегда были позже по времени, чем обучающие. После того, как подберем гиперпараметр, обучим модель на целой тренировочной выборке"
      ]
    },
    {
      "cell_type": "code",
      "metadata": {
        "colab": {
          "base_uri": "https://localhost:8080/"
        },
        "id": "0KNRjMHYeIsE",
        "outputId": "0fb8eba5-a089-4d87-f108-c2e9d3a40c9d"
      },
      "source": [
        "from sklearn.model_selection import TimeSeriesSplit, GridSearchCV\n",
        "from sklearn.linear_model import LogisticRegression\n",
        "from joblib import dump\n",
        "\n",
        "\n",
        "model = LogisticRegression(random_state=42, penalty=\"l2\", solver=\"liblinear\")\n",
        "param_search = {'C' : [0.0001, 0.001, 0.01, 0.1]}\n",
        "\n",
        "splits = TimeSeriesSplit(n_splits=3)\n",
        "gsearch = GridSearchCV(estimator=model, cv=splits,\n",
        "                        param_grid=param_search, verbose=2, scoring=\"neg_log_loss\")\n",
        "gsearch.fit(df, y)\n",
        "\n",
        "print(gsearch.cv_results_)\n",
        "\n",
        "best_model = gsearch.best_estimator_\n",
        "print(\"Best score: {} \\nBest params: {}\".format(gsearch.best_score_, gsearch.best_params_))\n",
        "\n",
        "dump(best_model, 'new_model.joblib')\n",
        "\n",
        "best_model.fit(df, y)\n",
        "dump(best_model, 'fit_model_new.joblib') "
      ],
      "execution_count": 9,
      "outputs": [
        {
          "output_type": "stream",
          "name": "stdout",
          "text": [
            "Fitting 3 folds for each of 4 candidates, totalling 12 fits\n",
            "[CV] C=0.0001 ........................................................\n"
          ]
        },
        {
          "output_type": "stream",
          "name": "stderr",
          "text": [
            "[Parallel(n_jobs=1)]: Using backend SequentialBackend with 1 concurrent workers.\n"
          ]
        },
        {
          "output_type": "stream",
          "name": "stdout",
          "text": [
            "[CV] ......................................... C=0.0001, total=  11.6s\n",
            "[CV] C=0.0001 ........................................................\n"
          ]
        },
        {
          "output_type": "stream",
          "name": "stderr",
          "text": [
            "[Parallel(n_jobs=1)]: Done   1 out of   1 | elapsed:   11.6s remaining:    0.0s\n"
          ]
        },
        {
          "output_type": "stream",
          "name": "stdout",
          "text": [
            "[CV] ......................................... C=0.0001, total=  21.3s\n",
            "[CV] C=0.0001 ........................................................\n",
            "[CV] ......................................... C=0.0001, total=  33.7s\n",
            "[CV] C=0.001 .........................................................\n",
            "[CV] .......................................... C=0.001, total=  15.3s\n",
            "[CV] C=0.001 .........................................................\n",
            "[CV] .......................................... C=0.001, total=  30.8s\n",
            "[CV] C=0.001 .........................................................\n",
            "[CV] .......................................... C=0.001, total=  54.1s\n",
            "[CV] C=0.01 ..........................................................\n",
            "[CV] ........................................... C=0.01, total=  24.8s\n",
            "[CV] C=0.01 ..........................................................\n",
            "[CV] ........................................... C=0.01, total= 1.0min\n",
            "[CV] C=0.01 ..........................................................\n",
            "[CV] ........................................... C=0.01, total= 2.0min\n",
            "[CV] C=0.1 ...........................................................\n",
            "[CV] ............................................ C=0.1, total=  58.3s\n",
            "[CV] C=0.1 ...........................................................\n",
            "[CV] ............................................ C=0.1, total= 2.0min\n",
            "[CV] C=0.1 ...........................................................\n",
            "[CV] ............................................ C=0.1, total= 4.1min\n"
          ]
        },
        {
          "output_type": "stream",
          "name": "stderr",
          "text": [
            "[Parallel(n_jobs=1)]: Done  12 out of  12 | elapsed: 13.3min finished\n"
          ]
        },
        {
          "output_type": "stream",
          "name": "stdout",
          "text": [
            "{'mean_fit_time': array([ 20.8639756 ,  32.06320659,  66.5434037 , 141.14885084]), 'std_fit_time': array([ 8.99441466, 15.85470065, 37.80323862, 78.18100022]), 'mean_score_time': array([1.3237234 , 1.31984194, 1.36007158, 1.36810867]), 'std_score_time': array([0.0757119 , 0.11266217, 0.12722772, 0.10244281]), 'param_C': masked_array(data=[0.0001, 0.001, 0.01, 0.1],\n",
            "             mask=[False, False, False, False],\n",
            "       fill_value='?',\n",
            "            dtype=object), 'params': [{'C': 0.0001}, {'C': 0.001}, {'C': 0.01}, {'C': 0.1}], 'split0_test_score': array([-0.11536068, -0.09956258, -0.0954665 , -0.09387765]), 'split1_test_score': array([-0.12455319, -0.11881404, -0.11599626, -0.11485974]), 'split2_test_score': array([-0.16212776, -0.15617695, -0.15000648, -0.14715517]), 'mean_test_score': array([-0.13401388, -0.12485119, -0.12048975, -0.11863085]), 'std_test_score': array([0.02023065, 0.02350365, 0.02249142, 0.02191331]), 'rank_test_score': array([4, 3, 2, 1], dtype=int32)}\n",
            "Best score: -0.11863084971321532 \n",
            "Best params: {'C': 0.1}\n"
          ]
        },
        {
          "output_type": "execute_result",
          "data": {
            "text/plain": [
              "['fit_model_new.joblib']"
            ]
          },
          "metadata": {},
          "execution_count": 9
        }
      ]
    },
    {
      "cell_type": "markdown",
      "metadata": {
        "id": "UQ5U3UoX4mLL"
      },
      "source": [
        "# Трансформация тестового множества, получение предсказаний и оценка Logloss"
      ]
    },
    {
      "cell_type": "code",
      "metadata": {
        "colab": {
          "base_uri": "https://localhost:8080/"
        },
        "id": "2pAycRGrupCH",
        "outputId": "4f7059e2-9b8e-42c9-90a4-ecd695849bcd"
      },
      "source": [
        "df = df_test\n",
        "df, y, categorical_cols = feature_engineering(df)\n",
        "\n",
        "df = ohe.transform(df[categorical_cols])\n",
        "df"
      ],
      "execution_count": 10,
      "outputs": [
        {
          "output_type": "execute_result",
          "data": {
            "text/plain": [
              "<2128978x594281 sparse matrix of type '<class 'numpy.float64'>'\n",
              "\twith 9654195 stored elements in Compressed Sparse Row format>"
            ]
          },
          "metadata": {},
          "execution_count": 10
        }
      ]
    },
    {
      "cell_type": "code",
      "metadata": {
        "colab": {
          "base_uri": "https://localhost:8080/"
        },
        "id": "XI4MCP845uEl",
        "outputId": "0b9df53c-da10-47ac-9056-60a8dd6d9c4d"
      },
      "source": [
        "from sklearn.metrics import log_loss\n",
        "\n",
        "\n",
        "predictions = best_model.predict_proba(df)\n",
        "log_loss(y, predictions)"
      ],
      "execution_count": 11,
      "outputs": [
        {
          "output_type": "execute_result",
          "data": {
            "text/plain": [
              "0.1347992130474668"
            ]
          },
          "metadata": {},
          "execution_count": 11
        }
      ]
    },
    {
      "cell_type": "markdown",
      "metadata": {
        "id": "vYSyGLmTAQ9T"
      },
      "source": [
        "Сравним logloss нашей модели на тесте с логлоссом случайного угадывания на этом же множестве с учетом несбалансированности классов.\n",
        "\n",
        "Посчитаем соотношение классов на тесте:"
      ]
    },
    {
      "cell_type": "code",
      "metadata": {
        "colab": {
          "base_uri": "https://localhost:8080/"
        },
        "id": "Pmr2zwDH80AE",
        "outputId": "6a40d43a-5ff2-4843-dd31-1ebc0f06a764"
      },
      "source": [
        "pd.Series(y).value_counts(normalize=True)"
      ],
      "execution_count": 19,
      "outputs": [
        {
          "output_type": "execute_result",
          "data": {
            "text/plain": [
              "0    0.964602\n",
              "1    0.035398\n",
              "dtype: float64"
            ]
          },
          "metadata": {},
          "execution_count": 19
        }
      ]
    },
    {
      "cell_type": "markdown",
      "metadata": {
        "id": "iJx-0WaAAd3h"
      },
      "source": [
        "И количество объектов:"
      ]
    },
    {
      "cell_type": "code",
      "metadata": {
        "colab": {
          "base_uri": "https://localhost:8080/"
        },
        "id": "i0O0BqaS8-Pe",
        "outputId": "1b4bc6c0-83e4-4a89-a9e6-6bff8ffe3111"
      },
      "source": [
        "len(y)"
      ],
      "execution_count": 20,
      "outputs": [
        {
          "output_type": "execute_result",
          "data": {
            "text/plain": [
              "2128978"
            ]
          },
          "metadata": {},
          "execution_count": 20
        }
      ]
    },
    {
      "cell_type": "markdown",
      "metadata": {
        "id": "lFabv_5rBGBq"
      },
      "source": [
        "Logloss случайного угадывания на тест сете:"
      ]
    },
    {
      "cell_type": "code",
      "metadata": {
        "id": "_LFO2PrTZrZW",
        "colab": {
          "base_uri": "https://localhost:8080/"
        },
        "outputId": "904cb3af-f7e3-4a38-e473-74c711e62629"
      },
      "source": [
        "def random_guess_log_loss(class_ratio, objects_number=10000):\n",
        "    actuals=[]\n",
        "    for i,val in enumerate(class_ratio):\n",
        "        actuals.extend([i for x in range(round(val*objects_number))])\n",
        "    preds=[]\n",
        "    for i in range(objects_number):\n",
        "        preds+=[class_ratio]\n",
        "\n",
        "    return (log_loss(actuals, preds))\n",
        "\n",
        "random_guess_log_loss([0.035398, 0.964602], objects_number=2128978)"
      ],
      "execution_count": 30,
      "outputs": [
        {
          "output_type": "execute_result",
          "data": {
            "text/plain": [
              "0.15303289904980513"
            ]
          },
          "metadata": {},
          "execution_count": 30
        }
      ]
    },
    {
      "cell_type": "markdown",
      "metadata": {
        "id": "Dl9kGyQ5BKvN"
      },
      "source": [
        "Как видим, logloss нашей модели лучше случайного угадывания"
      ]
    },
    {
      "cell_type": "code",
      "metadata": {
        "colab": {
          "base_uri": "https://localhost:8080/"
        },
        "id": "nxhQ2sQP9W9m",
        "outputId": "d4d9a980-5b7d-4e12-fd30-657631ad2a49"
      },
      "source": [
        "log_loss(y, y)"
      ],
      "execution_count": 32,
      "outputs": [
        {
          "output_type": "execute_result",
          "data": {
            "text/plain": [
              "9.99200722162641e-16"
            ]
          },
          "metadata": {},
          "execution_count": 32
        }
      ]
    },
    {
      "cell_type": "code",
      "metadata": {
        "id": "y831LNKuCETq"
      },
      "source": [
        ""
      ],
      "execution_count": null,
      "outputs": []
    }
  ]
}