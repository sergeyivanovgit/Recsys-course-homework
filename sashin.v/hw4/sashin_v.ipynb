{
  "nbformat": 4,
  "nbformat_minor": 0,
  "metadata": {
    "colab": {
      "name": "sashin.v.ipynb",
      "provenance": [],
      "collapsed_sections": []
    },
    "kernelspec": {
      "name": "python3",
      "display_name": "Python 3"
    },
    "language_info": {
      "name": "python"
    }
  },
  "cells": [
    {
      "cell_type": "markdown",
      "metadata": {
        "id": "view-in-github"
      },
      "source": [
        "<a href=\"https://colab.research.google.com/github/vladimir-sashin/Recsys-course-homework/blob/master/RecSysLab1.ipynb\" target=\"_parent\"><img src=\"https://colab.research.google.com/assets/colab-badge.svg\" alt=\"Open In Colab\"/></a>"
      ]
    },
    {
      "cell_type": "code",
      "metadata": {
        "colab": {
          "base_uri": "https://localhost:8080/"
        },
        "id": "rT0ueWyBOtja",
        "outputId": "4a241651-f866-4adc-98b7-712afd911a64"
      },
      "source": [
        "!gdown --id 1Em-UZriSKRwCPahc5yLaaPPE3eESaa7S"
      ],
      "execution_count": 1,
      "outputs": [
        {
          "output_type": "stream",
          "name": "stdout",
          "text": [
            "Downloading...\n",
            "From: https://drive.google.com/uc?id=1Em-UZriSKRwCPahc5yLaaPPE3eESaa7S\n",
            "To: /content/data.csv\n",
            "100% 2.47G/2.47G [00:26<00:00, 93.3MB/s]\n"
          ]
        }
      ]
    },
    {
      "cell_type": "code",
      "metadata": {
        "id": "RKIZdic7OuTO"
      },
      "source": [
        "import matplotlib.pyplot as plt\n",
        "import numpy as np\n",
        "import pandas as pd\n",
        "import sklearn\n",
        "import seaborn as sns\n",
        "from IPython.display import display"
      ],
      "execution_count": 1,
      "outputs": []
    },
    {
      "cell_type": "code",
      "metadata": {
        "colab": {
          "base_uri": "https://localhost:8080/",
          "height": 313
        },
        "id": "Rx0XpaR0sj-P",
        "outputId": "d3c08b0b-44e3-418f-c1fe-e4664e4bf59d"
      },
      "source": [
        "df = pd.read_csv(\"data.csv\")\n",
        "df.head()"
      ],
      "execution_count": 2,
      "outputs": [
        {
          "output_type": "execute_result",
          "data": {
            "text/html": [
              "<div>\n",
              "<style scoped>\n",
              "    .dataframe tbody tr th:only-of-type {\n",
              "        vertical-align: middle;\n",
              "    }\n",
              "\n",
              "    .dataframe tbody tr th {\n",
              "        vertical-align: top;\n",
              "    }\n",
              "\n",
              "    .dataframe thead th {\n",
              "        text-align: right;\n",
              "    }\n",
              "</style>\n",
              "<table border=\"1\" class=\"dataframe\">\n",
              "  <thead>\n",
              "    <tr style=\"text-align: right;\">\n",
              "      <th></th>\n",
              "      <th>date_time</th>\n",
              "      <th>zone_id</th>\n",
              "      <th>banner_id</th>\n",
              "      <th>oaid_hash</th>\n",
              "      <th>campaign_clicks</th>\n",
              "      <th>os_id</th>\n",
              "      <th>country_id</th>\n",
              "      <th>banner_id0</th>\n",
              "      <th>rate0</th>\n",
              "      <th>g0</th>\n",
              "      <th>coeff_sum0</th>\n",
              "      <th>banner_id1</th>\n",
              "      <th>rate1</th>\n",
              "      <th>g1</th>\n",
              "      <th>coeff_sum1</th>\n",
              "      <th>impressions</th>\n",
              "      <th>clicks</th>\n",
              "    </tr>\n",
              "  </thead>\n",
              "  <tbody>\n",
              "    <tr>\n",
              "      <th>0</th>\n",
              "      <td>2021-09-27 00:01:30.000000</td>\n",
              "      <td>0</td>\n",
              "      <td>0</td>\n",
              "      <td>5664530014561852622</td>\n",
              "      <td>0</td>\n",
              "      <td>0</td>\n",
              "      <td>0</td>\n",
              "      <td>1240</td>\n",
              "      <td>0.067</td>\n",
              "      <td>0.035016</td>\n",
              "      <td>-7.268846</td>\n",
              "      <td>0</td>\n",
              "      <td>0.010</td>\n",
              "      <td>0.049516</td>\n",
              "      <td>-5.369901</td>\n",
              "      <td>1</td>\n",
              "      <td>1</td>\n",
              "    </tr>\n",
              "    <tr>\n",
              "      <th>1</th>\n",
              "      <td>2021-09-26 22:54:49.000000</td>\n",
              "      <td>1</td>\n",
              "      <td>1</td>\n",
              "      <td>5186611064559013950</td>\n",
              "      <td>0</td>\n",
              "      <td>0</td>\n",
              "      <td>1</td>\n",
              "      <td>1</td>\n",
              "      <td>0.002</td>\n",
              "      <td>0.054298</td>\n",
              "      <td>-2.657477</td>\n",
              "      <td>269</td>\n",
              "      <td>0.004</td>\n",
              "      <td>0.031942</td>\n",
              "      <td>-4.449220</td>\n",
              "      <td>1</td>\n",
              "      <td>1</td>\n",
              "    </tr>\n",
              "    <tr>\n",
              "      <th>2</th>\n",
              "      <td>2021-09-26 23:57:20.000000</td>\n",
              "      <td>2</td>\n",
              "      <td>2</td>\n",
              "      <td>2215519569292448030</td>\n",
              "      <td>3</td>\n",
              "      <td>0</td>\n",
              "      <td>0</td>\n",
              "      <td>2</td>\n",
              "      <td>0.014</td>\n",
              "      <td>0.014096</td>\n",
              "      <td>-3.824875</td>\n",
              "      <td>21</td>\n",
              "      <td>0.014</td>\n",
              "      <td>0.014906</td>\n",
              "      <td>-3.939309</td>\n",
              "      <td>1</td>\n",
              "      <td>1</td>\n",
              "    </tr>\n",
              "    <tr>\n",
              "      <th>3</th>\n",
              "      <td>2021-09-27 00:04:30.000000</td>\n",
              "      <td>3</td>\n",
              "      <td>3</td>\n",
              "      <td>6262169206735077204</td>\n",
              "      <td>0</td>\n",
              "      <td>1</td>\n",
              "      <td>1</td>\n",
              "      <td>3</td>\n",
              "      <td>0.012</td>\n",
              "      <td>0.015232</td>\n",
              "      <td>-3.461357</td>\n",
              "      <td>99</td>\n",
              "      <td>0.006</td>\n",
              "      <td>0.050671</td>\n",
              "      <td>-3.418403</td>\n",
              "      <td>1</td>\n",
              "      <td>1</td>\n",
              "    </tr>\n",
              "    <tr>\n",
              "      <th>4</th>\n",
              "      <td>2021-09-27 00:06:21.000000</td>\n",
              "      <td>4</td>\n",
              "      <td>4</td>\n",
              "      <td>4778985830203613115</td>\n",
              "      <td>0</td>\n",
              "      <td>1</td>\n",
              "      <td>0</td>\n",
              "      <td>4</td>\n",
              "      <td>0.019</td>\n",
              "      <td>0.051265</td>\n",
              "      <td>-4.009026</td>\n",
              "      <td>11464230</td>\n",
              "      <td>6.790</td>\n",
              "      <td>0.032005</td>\n",
              "      <td>-2.828797</td>\n",
              "      <td>1</td>\n",
              "      <td>1</td>\n",
              "    </tr>\n",
              "  </tbody>\n",
              "</table>\n",
              "</div>"
            ],
            "text/plain": [
              "                    date_time  zone_id  ...  impressions  clicks\n",
              "0  2021-09-27 00:01:30.000000        0  ...            1       1\n",
              "1  2021-09-26 22:54:49.000000        1  ...            1       1\n",
              "2  2021-09-26 23:57:20.000000        2  ...            1       1\n",
              "3  2021-09-27 00:04:30.000000        3  ...            1       1\n",
              "4  2021-09-27 00:06:21.000000        4  ...            1       1\n",
              "\n",
              "[5 rows x 17 columns]"
            ]
          },
          "metadata": {},
          "execution_count": 2
        }
      ]
    },
    {
      "cell_type": "markdown",
      "metadata": {
        "id": "_PTUNxDu0UCB"
      },
      "source": [
        "# Подготовка данных"
      ]
    },
    {
      "cell_type": "markdown",
      "metadata": {
        "id": "mWo0oQcfuTxH"
      },
      "source": [
        "Произведем предобработку данных:\n",
        "\n",
        "- Отсортируем датасет по дате/времени и разобъем данные на train и test сеты. Test - показы рекламы в последний день, в которых banner_id == banner_id0, train - все остальные.\n",
        "- Оставим в них только те столбцы, которые нужны для обучения модели и получения предсказаний\n",
        "- Cоздадим второе тестовое множество, в котором banner_id сделаем равным banner_id1\n",
        "- Создадим отдельный датафрейм со столбцами \"coeff_sum0\", \"g0\", \"coeff_sum1\", \"g1\" для последнего дня наблюдений, который пригодится при подсчете pi_0 и pi_1"
      ]
    },
    {
      "cell_type": "code",
      "metadata": {
        "id": "jKAKqgfSt02s"
      },
      "source": [
        "df[\"date_time\"] = pd.to_datetime(df.date_time)\n",
        "df = df.sort_values(\"date_time\")\n",
        "max_date = df[\"date_time\"].iloc[-1].date()\n",
        "df.drop(index=df.iloc[:1, :].index.tolist(), inplace=True)\n",
        "\n",
        "df_test = df[(df['date_time'].dt.date == max_date) & (df[\"banner_id\"] == df[\"banner_id0\"])].copy()\n",
        "df_for_pi = df_test[[\"coeff_sum0\", \"g0\", \"coeff_sum1\", \"g1\"]].copy()\n",
        "\n",
        "df_test_for_2nd_banner = df_test.copy()\n",
        "df_test_for_2nd_banner[\"banner_id\"] = df_test_for_2nd_banner[\"banner_id1\"]\n",
        "cols_to_drop = [\"oaid_hash\", \"banner_id0\", \"banner_id1\", \"rate0\", \"rate1\", \"g0\",\n",
        "              \"g1\", \"coeff_sum0\", \"coeff_sum1\", \"impressions\", \"campaign_clicks\"]\n",
        "df_test, df_test_for_2nd_banner = df_test.drop(cols_to_drop, axis=1), df_test_for_2nd_banner.drop(cols_to_drop, axis=1)\n",
        "\n",
        "\n",
        "df = df[(df['date_time'].dt.date < max_date)]\n",
        "df = df.drop([\"oaid_hash\", \"banner_id0\", \"banner_id1\", \"rate0\", \"rate1\", \"g0\",\n",
        "              \"g1\", \"coeff_sum0\", \"coeff_sum1\", \"impressions\", \"campaign_clicks\"], axis=1)"
      ],
      "execution_count": 3,
      "outputs": []
    },
    {
      "cell_type": "code",
      "source": [
        "df_for_pi"
      ],
      "metadata": {
        "colab": {
          "base_uri": "https://localhost:8080/",
          "height": 423
        },
        "id": "R4v8WRDUAuqt",
        "outputId": "4e1ce055-1312-4d44-d245-ed7cf5a7ece3"
      },
      "execution_count": 4,
      "outputs": [
        {
          "output_type": "execute_result",
          "data": {
            "text/html": [
              "<div>\n",
              "<style scoped>\n",
              "    .dataframe tbody tr th:only-of-type {\n",
              "        vertical-align: middle;\n",
              "    }\n",
              "\n",
              "    .dataframe tbody tr th {\n",
              "        vertical-align: top;\n",
              "    }\n",
              "\n",
              "    .dataframe thead th {\n",
              "        text-align: right;\n",
              "    }\n",
              "</style>\n",
              "<table border=\"1\" class=\"dataframe\">\n",
              "  <thead>\n",
              "    <tr style=\"text-align: right;\">\n",
              "      <th></th>\n",
              "      <th>coeff_sum0</th>\n",
              "      <th>g0</th>\n",
              "      <th>coeff_sum1</th>\n",
              "      <th>g1</th>\n",
              "    </tr>\n",
              "  </thead>\n",
              "  <tbody>\n",
              "    <tr>\n",
              "      <th>14196412</th>\n",
              "      <td>-6.356145</td>\n",
              "      <td>0.011367</td>\n",
              "      <td>-6.355855</td>\n",
              "      <td>0.011368</td>\n",
              "    </tr>\n",
              "    <tr>\n",
              "      <th>8706638</th>\n",
              "      <td>-3.107591</td>\n",
              "      <td>0.063288</td>\n",
              "      <td>-3.091600</td>\n",
              "      <td>0.041912</td>\n",
              "    </tr>\n",
              "    <tr>\n",
              "      <th>13000378</th>\n",
              "      <td>-3.023266</td>\n",
              "      <td>0.042959</td>\n",
              "      <td>-3.060019</td>\n",
              "      <td>0.042071</td>\n",
              "    </tr>\n",
              "    <tr>\n",
              "      <th>9767447</th>\n",
              "      <td>-4.665202</td>\n",
              "      <td>0.051014</td>\n",
              "      <td>-4.988883</td>\n",
              "      <td>0.014532</td>\n",
              "    </tr>\n",
              "    <tr>\n",
              "      <th>9054327</th>\n",
              "      <td>-3.672826</td>\n",
              "      <td>0.157651</td>\n",
              "      <td>-3.676580</td>\n",
              "      <td>0.167411</td>\n",
              "    </tr>\n",
              "    <tr>\n",
              "      <th>...</th>\n",
              "      <td>...</td>\n",
              "      <td>...</td>\n",
              "      <td>...</td>\n",
              "      <td>...</td>\n",
              "    </tr>\n",
              "    <tr>\n",
              "      <th>11510884</th>\n",
              "      <td>-6.085725</td>\n",
              "      <td>0.009155</td>\n",
              "      <td>-2.452728</td>\n",
              "      <td>0.081177</td>\n",
              "    </tr>\n",
              "    <tr>\n",
              "      <th>10139863</th>\n",
              "      <td>-3.791884</td>\n",
              "      <td>0.038556</td>\n",
              "      <td>-3.749882</td>\n",
              "      <td>0.026928</td>\n",
              "    </tr>\n",
              "    <tr>\n",
              "      <th>5597133</th>\n",
              "      <td>-4.641030</td>\n",
              "      <td>0.023820</td>\n",
              "      <td>-2.737213</td>\n",
              "      <td>0.010748</td>\n",
              "    </tr>\n",
              "    <tr>\n",
              "      <th>8660907</th>\n",
              "      <td>-5.617197</td>\n",
              "      <td>0.027977</td>\n",
              "      <td>-5.616952</td>\n",
              "      <td>0.027988</td>\n",
              "    </tr>\n",
              "    <tr>\n",
              "      <th>2991997</th>\n",
              "      <td>-3.052530</td>\n",
              "      <td>0.017499</td>\n",
              "      <td>-3.173799</td>\n",
              "      <td>0.029316</td>\n",
              "    </tr>\n",
              "  </tbody>\n",
              "</table>\n",
              "<p>1890562 rows × 4 columns</p>\n",
              "</div>"
            ],
            "text/plain": [
              "          coeff_sum0        g0  coeff_sum1        g1\n",
              "14196412   -6.356145  0.011367   -6.355855  0.011368\n",
              "8706638    -3.107591  0.063288   -3.091600  0.041912\n",
              "13000378   -3.023266  0.042959   -3.060019  0.042071\n",
              "9767447    -4.665202  0.051014   -4.988883  0.014532\n",
              "9054327    -3.672826  0.157651   -3.676580  0.167411\n",
              "...              ...       ...         ...       ...\n",
              "11510884   -6.085725  0.009155   -2.452728  0.081177\n",
              "10139863   -3.791884  0.038556   -3.749882  0.026928\n",
              "5597133    -4.641030  0.023820   -2.737213  0.010748\n",
              "8660907    -5.617197  0.027977   -5.616952  0.027988\n",
              "2991997    -3.052530  0.017499   -3.173799  0.029316\n",
              "\n",
              "[1890562 rows x 4 columns]"
            ]
          },
          "metadata": {},
          "execution_count": 4
        }
      ]
    },
    {
      "cell_type": "markdown",
      "metadata": {
        "id": "8XGxUcPDuKg6"
      },
      "source": [
        "# Feature engineering\n",
        "\n",
        "1. Количество предшествующих показов той же кампании удалим, в отличие от первой работы\n",
        "2. Из даты и времени показа вытащим две фичи - день недели и час\n",
        "3. Сконструируем следующие интеракции, то есть создадим новые признаки показа из существующих путем их объединения:\n",
        "- баннер, ОС, место на сайте - какой баннер, на какой платформе и в каком месте был показан\n",
        "- баннер, страна, время - в какой стране и в какое время дня конкретный баннер был выведен при данном показе (таким образом учитываем различные таймзоны)\n",
        "- день недели, баннер - какой баннер был показан в определенное время дня\n",
        "- баннер, страна - какой баннер в какой стране показывается\n",
        "- баннер, место на сайте - какой баннер в каком месте сайта показывается\n",
        "- день недели - просто в какой день недели был произведен показ\n",
        "4. Уберем лишние столбцы\n",
        "5. Отделим предикторы от отклика\n",
        "6. Изменим типы данных предикторов\n"
      ]
    },
    {
      "cell_type": "code",
      "metadata": {
        "id": "SM8du9rxOwsF"
      },
      "source": [
        "def feature_engineering(df):\n",
        "\n",
        "    df[\"dayoftheweek\"] = df[\"date_time\"].dt.dayofweek\n",
        "    df['hour'] = df[\"date_time\"].dt.hour\n",
        "\n",
        "    df['banner_os_zone'] = (df['banner_id'].astype('str') + '_' + df['os_id'].astype('str') + '_' + df['zone_id'].astype('str')).astype('category')\n",
        "    df['banner_country_time'] = (df['banner_id'].astype('str') + '_' + df['country_id'].astype('str') + '_' + df['hour'].astype('str')).astype('category')\n",
        "    df['banner_weekday'] = (df['banner_id'].astype('str') + '_' + df['dayoftheweek'].astype('str')).astype('category')\n",
        "    df['banner_country'] = (df['banner_id'].astype('str') + '_' + df['country_id'].astype('str')).astype('category')\n",
        "    df['banner_zone'] = (df['banner_id'].astype('str') + '_' + df['zone_id'].astype('str')).astype('category')\n",
        "    df[\"dayoftheweek\"] = df[\"dayoftheweek\"].astype(\"category\")\n",
        "\n",
        "    df = df.drop([\"date_time\", \"zone_id\", \"banner_id\", \"os_id\", \"country_id\", \"hour\"], axis=1)\n",
        "    \n",
        "\n",
        "    y = df[\"clicks\"].values\n",
        "    df = df.drop([\"clicks\"], axis=1)\n",
        "\n",
        "    categorical_feature_mask = df.dtypes == \"category\"\n",
        "    categorical_cols = df.columns[categorical_feature_mask].tolist()\n",
        "    return df, y, categorical_cols\n",
        "\n",
        "\n",
        "df, y, categorical_cols = feature_engineering(df)"
      ],
      "execution_count": 5,
      "outputs": []
    },
    {
      "cell_type": "code",
      "metadata": {
        "colab": {
          "base_uri": "https://localhost:8080/"
        },
        "id": "a7c2COMdZkqc",
        "outputId": "0e85392e-6ec6-48c7-acee-728985285898"
      },
      "source": [
        "df.shape, y.shape"
      ],
      "execution_count": 6,
      "outputs": [
        {
          "output_type": "execute_result",
          "data": {
            "text/plain": [
              "((13692493, 6), (13692493,))"
            ]
          },
          "metadata": {},
          "execution_count": 6
        }
      ]
    },
    {
      "cell_type": "code",
      "metadata": {
        "colab": {
          "base_uri": "https://localhost:8080/",
          "height": 206
        },
        "id": "_GdsJvR9xzNu",
        "outputId": "8c149dc8-d5a1-447b-da45-757a083f9d87"
      },
      "source": [
        "df.head()"
      ],
      "execution_count": 7,
      "outputs": [
        {
          "output_type": "execute_result",
          "data": {
            "text/html": [
              "<div>\n",
              "<style scoped>\n",
              "    .dataframe tbody tr th:only-of-type {\n",
              "        vertical-align: middle;\n",
              "    }\n",
              "\n",
              "    .dataframe tbody tr th {\n",
              "        vertical-align: top;\n",
              "    }\n",
              "\n",
              "    .dataframe thead th {\n",
              "        text-align: right;\n",
              "    }\n",
              "</style>\n",
              "<table border=\"1\" class=\"dataframe\">\n",
              "  <thead>\n",
              "    <tr style=\"text-align: right;\">\n",
              "      <th></th>\n",
              "      <th>dayoftheweek</th>\n",
              "      <th>banner_os_zone</th>\n",
              "      <th>banner_country_time</th>\n",
              "      <th>banner_weekday</th>\n",
              "      <th>banner_country</th>\n",
              "      <th>banner_zone</th>\n",
              "    </tr>\n",
              "  </thead>\n",
              "  <tbody>\n",
              "    <tr>\n",
              "      <th>5041415</th>\n",
              "      <td>6</td>\n",
              "      <td>29_3_41</td>\n",
              "      <td>29_0_0</td>\n",
              "      <td>29_6</td>\n",
              "      <td>29_0</td>\n",
              "      <td>29_41</td>\n",
              "    </tr>\n",
              "    <tr>\n",
              "      <th>1442602</th>\n",
              "      <td>6</td>\n",
              "      <td>188_2_1</td>\n",
              "      <td>188_15_0</td>\n",
              "      <td>188_6</td>\n",
              "      <td>188_15</td>\n",
              "      <td>188_1</td>\n",
              "    </tr>\n",
              "    <tr>\n",
              "      <th>7232498</th>\n",
              "      <td>6</td>\n",
              "      <td>52_2_17</td>\n",
              "      <td>52_5_0</td>\n",
              "      <td>52_6</td>\n",
              "      <td>52_5</td>\n",
              "      <td>52_17</td>\n",
              "    </tr>\n",
              "    <tr>\n",
              "      <th>14938691</th>\n",
              "      <td>6</td>\n",
              "      <td>73_4_47</td>\n",
              "      <td>73_13_0</td>\n",
              "      <td>73_6</td>\n",
              "      <td>73_13</td>\n",
              "      <td>73_47</td>\n",
              "    </tr>\n",
              "    <tr>\n",
              "      <th>11536774</th>\n",
              "      <td>6</td>\n",
              "      <td>266_0_48</td>\n",
              "      <td>266_1_0</td>\n",
              "      <td>266_6</td>\n",
              "      <td>266_1</td>\n",
              "      <td>266_48</td>\n",
              "    </tr>\n",
              "  </tbody>\n",
              "</table>\n",
              "</div>"
            ],
            "text/plain": [
              "         dayoftheweek banner_os_zone  ... banner_country banner_zone\n",
              "5041415             6        29_3_41  ...           29_0       29_41\n",
              "1442602             6        188_2_1  ...         188_15       188_1\n",
              "7232498             6        52_2_17  ...           52_5       52_17\n",
              "14938691            6        73_4_47  ...          73_13       73_47\n",
              "11536774            6       266_0_48  ...          266_1      266_48\n",
              "\n",
              "[5 rows x 6 columns]"
            ]
          },
          "metadata": {},
          "execution_count": 7
        }
      ]
    },
    {
      "cell_type": "markdown",
      "metadata": {
        "id": "uVehzfX81vjm"
      },
      "source": [
        "Произведем one-hot encoding всех наших фичей. Будем фитить класс OneHotEncoder из sklearn, чтобы потом получить те же столбцы и на тестовом сете, при этом установим sparse=True, чтобы на выходе получить sparse матрицу в формате csr для более эффективной работы с данными"
      ]
    },
    {
      "cell_type": "code",
      "metadata": {
        "colab": {
          "base_uri": "https://localhost:8080/"
        },
        "id": "6pJIEwOKO7bS",
        "outputId": "0f61f667-79af-4c8d-ec66-cd677dae5020"
      },
      "source": [
        "from sklearn.preprocessing import OneHotEncoder\n",
        "\n",
        "\n",
        "ohe = OneHotEncoder(handle_unknown='ignore', sparse = True)\n",
        "ohe.fit(df[categorical_cols])\n",
        "df = ohe.transform(df[categorical_cols])\n",
        "df"
      ],
      "execution_count": 8,
      "outputs": [
        {
          "output_type": "execute_result",
          "data": {
            "text/plain": [
              "<13692493x563791 sparse matrix of type '<class 'numpy.float64'>'\n",
              "\twith 82154958 stored elements in Compressed Sparse Row format>"
            ]
          },
          "metadata": {},
          "execution_count": 8
        }
      ]
    },
    {
      "cell_type": "markdown",
      "metadata": {
        "id": "TigQ5Cge2yau"
      },
      "source": [
        "# Обучение модели\n",
        "\n",
        "Обучать будем логистическую регрессию с оптимизатором liblinear и l2 регуляризацией. Чтобы подобрать гиперпараметр регуляризации, проведем кросс-валидацию с разбиением на 3 подмножества, используя TimeSeriesSplit, чтобы тестовые данные всегда были позже по времени, чем обучающие. После того, как подберем гиперпараметр, обучим модель на целой тренировочной выборке"
      ]
    },
    {
      "cell_type": "code",
      "metadata": {
        "colab": {
          "base_uri": "https://localhost:8080/"
        },
        "id": "0KNRjMHYeIsE",
        "outputId": "521887e8-4115-4284-cde9-8c93731bba9c"
      },
      "source": [
        "from sklearn.model_selection import TimeSeriesSplit, GridSearchCV\n",
        "from sklearn.linear_model import LogisticRegression\n",
        "from joblib import dump\n",
        "\n",
        "\n",
        "model = LogisticRegression(random_state=42, penalty=\"l2\", solver=\"liblinear\")\n",
        "param_search = {'C' : [0.0001, 0.001, 0.01, 0.1]}\n",
        "\n",
        "splits = TimeSeriesSplit(n_splits=3)\n",
        "gsearch = GridSearchCV(estimator=model, cv=splits,\n",
        "                        param_grid=param_search, verbose=2, scoring=\"neg_log_loss\")\n",
        "gsearch.fit(df, y)\n",
        "\n",
        "print(gsearch.cv_results_)\n",
        "\n",
        "best_model = gsearch.best_estimator_\n",
        "print(\"Best score: {} \\nBest params: {}\".format(gsearch.best_score_, gsearch.best_params_))\n",
        "\n",
        "best_model.fit(df, y)\n",
        "dump(best_model, 'fit_model_new.joblib') "
      ],
      "execution_count": 11,
      "outputs": [
        {
          "output_type": "stream",
          "name": "stdout",
          "text": [
            "Fitting 3 folds for each of 4 candidates, totalling 12 fits\n",
            "[CV] END ...........................................C=0.0001; total time=  10.9s\n",
            "[CV] END ...........................................C=0.0001; total time=  20.7s\n",
            "[CV] END ...........................................C=0.0001; total time=  29.6s\n",
            "[CV] END ............................................C=0.001; total time=  14.0s\n",
            "[CV] END ............................................C=0.001; total time=  26.8s\n",
            "[CV] END ............................................C=0.001; total time=  49.2s\n",
            "[CV] END .............................................C=0.01; total time=  22.0s\n",
            "[CV] END .............................................C=0.01; total time=  55.4s\n",
            "[CV] END .............................................C=0.01; total time= 1.5min\n",
            "[CV] END ..............................................C=0.1; total time=  56.1s\n",
            "[CV] END ..............................................C=0.1; total time= 2.0min\n",
            "[CV] END ..............................................C=0.1; total time= 3.3min\n",
            "{'mean_fit_time': array([ 19.04489207,  28.65349746,  55.40402722, 123.27647225]), 'std_fit_time': array([ 7.62119273, 14.4165095 , 28.85033626, 57.47556024]), 'mean_score_time': array([1.35361735, 1.3681252 , 1.36297313, 1.34780455]), 'std_score_time': array([0.08293925, 0.1341719 , 0.13515501, 0.09273966]), 'param_C': masked_array(data=[0.0001, 0.001, 0.01, 0.1],\n",
            "             mask=[False, False, False, False],\n",
            "       fill_value='?',\n",
            "            dtype=object), 'params': [{'C': 0.0001}, {'C': 0.001}, {'C': 0.01}, {'C': 0.1}], 'split0_test_score': array([-0.11538474, -0.09977179, -0.09570922, -0.09408571]), 'split1_test_score': array([-0.12486613, -0.11936486, -0.1163732 , -0.11511225]), 'split2_test_score': array([-0.16270558, -0.15707578, -0.15051427, -0.14715641]), 'mean_test_score': array([-0.13431882, -0.12540414, -0.12086556, -0.11878479]), 'std_test_score': array([0.02044228, 0.02378083, 0.02259844, 0.02182109]), 'rank_test_score': array([4, 3, 2, 1], dtype=int32)}\n",
            "Best score: -0.11878479018278532 \n",
            "Best params: {'C': 0.1}\n"
          ]
        },
        {
          "output_type": "execute_result",
          "data": {
            "text/plain": [
              "['fit_model_new.joblib']"
            ]
          },
          "metadata": {},
          "execution_count": 11
        }
      ]
    },
    {
      "cell_type": "markdown",
      "metadata": {
        "id": "UQ5U3UoX4mLL"
      },
      "source": [
        "# Получение предсказаний, оценка Logloss, расчет pi_0, pi_1 и CIPS"
      ]
    },
    {
      "cell_type": "markdown",
      "source": [
        "Сначала получим предикты на последний день и посчитаем logloss"
      ],
      "metadata": {
        "id": "etgKHfjxqZiI"
      }
    },
    {
      "cell_type": "code",
      "metadata": {
        "colab": {
          "base_uri": "https://localhost:8080/"
        },
        "id": "2pAycRGrupCH",
        "outputId": "be113eab-f9d7-4e5d-b753-6bb11f4099c9"
      },
      "source": [
        "df = df_test\n",
        "df, y, categorical_cols = feature_engineering(df)\n",
        "\n",
        "df = ohe.transform(df[categorical_cols])\n",
        "df"
      ],
      "execution_count": 12,
      "outputs": [
        {
          "output_type": "execute_result",
          "data": {
            "text/plain": [
              "<1890562x563791 sparse matrix of type '<class 'numpy.float64'>'\n",
              "\twith 7024937 stored elements in Compressed Sparse Row format>"
            ]
          },
          "metadata": {},
          "execution_count": 12
        }
      ]
    },
    {
      "cell_type": "code",
      "source": [
        "from sklearn.metrics import log_loss\n",
        "\n",
        "\n",
        "predictions = best_model.predict_proba(df)\n",
        "log_loss(y, predictions)"
      ],
      "metadata": {
        "colab": {
          "base_uri": "https://localhost:8080/"
        },
        "id": "8ovzGOWjx0U2",
        "outputId": "a1811ea9-5cb8-45aa-a8d0-6768e6ea48ef"
      },
      "execution_count": 13,
      "outputs": [
        {
          "output_type": "execute_result",
          "data": {
            "text/plain": [
              "0.1355446808589051"
            ]
          },
          "metadata": {},
          "execution_count": 13
        }
      ]
    },
    {
      "cell_type": "markdown",
      "source": [
        "Посчитаем coeff_sum0_new"
      ],
      "metadata": {
        "id": "51Ateqleq5R8"
      }
    },
    {
      "cell_type": "code",
      "source": [
        "from scipy.special import logit\n",
        "\n",
        "\n",
        "coeff_sum0_new = logit(np.array(predictions)[:, 1])\n",
        "coeff_sum0_new"
      ],
      "metadata": {
        "colab": {
          "base_uri": "https://localhost:8080/"
        },
        "id": "4QadD6iQ3yBd",
        "outputId": "c60b642c-3314-430f-cf65-f112738b2e00"
      },
      "execution_count": 14,
      "outputs": [
        {
          "output_type": "execute_result",
          "data": {
            "text/plain": [
              "array([-8.12395368, -2.91527584, -2.74824109, ..., -4.15173616,\n",
              "       -6.8919276 , -2.36502429])"
            ]
          },
          "metadata": {},
          "execution_count": 14
        }
      ]
    },
    {
      "cell_type": "markdown",
      "source": [
        "Посчитаем coeff_sum1_new"
      ],
      "metadata": {
        "id": "1662ayPWrQih"
      }
    },
    {
      "cell_type": "code",
      "source": [
        "df, y, categorical_cols = feature_engineering(df_test_for_2nd_banner)\n",
        "\n",
        "df = ohe.transform(df[categorical_cols])\n",
        "df"
      ],
      "metadata": {
        "colab": {
          "base_uri": "https://localhost:8080/"
        },
        "id": "dF5vFmqd5k8y",
        "outputId": "09816b67-2bff-4285-ccd7-891037f38dd3"
      },
      "execution_count": 15,
      "outputs": [
        {
          "output_type": "execute_result",
          "data": {
            "text/plain": [
              "<1890562x563791 sparse matrix of type '<class 'numpy.float64'>'\n",
              "\twith 5293078 stored elements in Compressed Sparse Row format>"
            ]
          },
          "metadata": {},
          "execution_count": 15
        }
      ]
    },
    {
      "cell_type": "code",
      "source": [
        "predictions = best_model.predict_proba(df)\n",
        "coeff_sum1_new = logit(np.array(predictions)[:, 1])\n",
        "coeff_sum1_new"
      ],
      "metadata": {
        "colab": {
          "base_uri": "https://localhost:8080/"
        },
        "id": "GskqHRgJ4kG8",
        "outputId": "623fa507-5d19-44a3-c950-f6d880730729"
      },
      "execution_count": 16,
      "outputs": [
        {
          "output_type": "execute_result",
          "data": {
            "text/plain": [
              "array([-8.12496008, -2.97585613, -2.64966454, ..., -3.21605559,\n",
              "       -6.8909006 , -2.34892925])"
            ]
          },
          "metadata": {},
          "execution_count": 16
        }
      ]
    },
    {
      "cell_type": "markdown",
      "source": [
        "Считаем pi_0 и pi_1"
      ],
      "metadata": {
        "id": "s6FlxjJVrat5"
      }
    },
    {
      "cell_type": "code",
      "source": [
        "from scipy.stats import norm\n",
        "\n",
        "\n",
        "def count_pi(mean_1, mean_2, std_1, std_2):\n",
        "    mean = mean_1 - mean_2\n",
        "    std = np.sqrt(std_1 ** 2 + std_2 ** 2)\n",
        "    return 1 - norm.cdf((0 - mean) / std, loc=0, scale=1)\n",
        "\n",
        "\n",
        "pi_0 = count_pi(df_for_pi[\"coeff_sum0\"], df_for_pi[\"coeff_sum1\"], df_for_pi[\"g0\"], df_for_pi[\"g1\"])\n",
        "pi_1 = count_pi(coeff_sum0_new, coeff_sum1_new, df_for_pi[\"g0\"], df_for_pi[\"g1\"])\n",
        "\n",
        "len(pi_0), len(pi_1)"
      ],
      "metadata": {
        "colab": {
          "base_uri": "https://localhost:8080/"
        },
        "id": "HdjmdJlag46h",
        "outputId": "5eaa082f-b687-4be5-a545-51bb8a4e682e"
      },
      "execution_count": 17,
      "outputs": [
        {
          "output_type": "execute_result",
          "data": {
            "text/plain": [
              "(1890562, 1890562)"
            ]
          },
          "metadata": {},
          "execution_count": 17
        }
      ]
    },
    {
      "cell_type": "code",
      "source": [
        "pi_0"
      ],
      "metadata": {
        "colab": {
          "base_uri": "https://localhost:8080/"
        },
        "id": "YKAfTZ2Ca_PS",
        "outputId": "0df0857a-1b81-40f4-946e-0dd265ab5b72"
      },
      "execution_count": 18,
      "outputs": [
        {
          "output_type": "execute_result",
          "data": {
            "text/plain": [
              "array([0.49278185, 0.41657691, 0.72948166, ..., 0.        , 0.4975297 ,\n",
              "       0.99980879])"
            ]
          },
          "metadata": {},
          "execution_count": 18
        }
      ]
    },
    {
      "cell_type": "code",
      "source": [
        "pi_1"
      ],
      "metadata": {
        "colab": {
          "base_uri": "https://localhost:8080/"
        },
        "id": "mMUgGJuEZhKy",
        "outputId": "b29e4aca-fb9b-4db8-8d19-a95f455fa730"
      },
      "execution_count": 19,
      "outputs": [
        {
          "output_type": "execute_result",
          "data": {
            "text/plain": [
              "array([0.524958  , 0.78758862, 0.05056191, ..., 0.        , 0.48964777,\n",
              "       0.31867045])"
            ]
          },
          "metadata": {},
          "execution_count": 19
        }
      ]
    },
    {
      "cell_type": "markdown",
      "source": [
        "Считаем CIPS"
      ],
      "metadata": {
        "id": "Zxy8rCVvrfVb"
      }
    },
    {
      "cell_type": "code",
      "source": [
        "def cips(pi_0, pi_1, rewards, lambd):\n",
        "    with np.errstate(all='ignore'):\n",
        "        return 1 / len(pi_0) * np.sum(np.minimum(np.nan_to_num(pi_0 / pi_1, lambd), lambd) * rewards)"
      ],
      "metadata": {
        "id": "Z-ETNkZ5MOjT"
      },
      "execution_count": 20,
      "outputs": []
    },
    {
      "cell_type": "code",
      "source": [
        "cips(pi_0, pi_1, y, 10)"
      ],
      "metadata": {
        "colab": {
          "base_uri": "https://localhost:8080/"
        },
        "id": "rjtITPrtZdQ2",
        "outputId": "fc17daf1-aa85-4bcd-81dd-093c4cd053bd"
      },
      "execution_count": 21,
      "outputs": [
        {
          "output_type": "execute_result",
          "data": {
            "text/plain": [
              "0.0797509546788766"
            ]
          },
          "metadata": {},
          "execution_count": 21
        }
      ]
    },
    {
      "cell_type": "code",
      "metadata": {
        "id": "y831LNKuCETq"
      },
      "source": [
        ""
      ],
      "execution_count": null,
      "outputs": []
    }
  ]
}