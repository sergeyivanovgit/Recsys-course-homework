{
 "cells": [
  {
   "cell_type": "code",
   "execution_count": null,
   "metadata": {},
   "outputs": [],
   "source": [
    "!pip install category_encoders"
   ]
  },
  {
   "cell_type": "code",
   "execution_count": 1,
   "metadata": {
    "tags": []
   },
   "outputs": [],
   "source": [
    "import warnings\n",
    "warnings.filterwarnings('ignore')\n",
    "\n",
    "import numpy as np\n",
    "import pandas as pd\n",
    "from category_encoders.one_hot import OneHotEncoder\n",
    "from category_encoders.target_encoder import TargetEncoder\n",
    "from sklearn.linear_model import LogisticRegression\n",
    "from sklearn.metrics import log_loss"
   ]
  },
  {
   "cell_type": "code",
   "execution_count": 2,
   "metadata": {
    "collapsed": false,
    "jupyter": {
     "outputs_hidden": false
    },
    "pycharm": {
     "name": "#%%\n"
    }
   },
   "outputs": [
    {
     "data": {
      "text/html": [
       "<div>\n",
       "<style scoped>\n",
       "    .dataframe tbody tr th:only-of-type {\n",
       "        vertical-align: middle;\n",
       "    }\n",
       "\n",
       "    .dataframe tbody tr th {\n",
       "        vertical-align: top;\n",
       "    }\n",
       "\n",
       "    .dataframe thead th {\n",
       "        text-align: right;\n",
       "    }\n",
       "</style>\n",
       "<table border=\"1\" class=\"dataframe\">\n",
       "  <thead>\n",
       "    <tr style=\"text-align: right;\">\n",
       "      <th></th>\n",
       "      <th>date_time</th>\n",
       "      <th>zone_id</th>\n",
       "      <th>banner_id</th>\n",
       "      <th>campaign_clicks</th>\n",
       "      <th>os_id</th>\n",
       "      <th>country_id</th>\n",
       "      <th>clicks</th>\n",
       "    </tr>\n",
       "  </thead>\n",
       "  <tbody>\n",
       "    <tr>\n",
       "      <th>0</th>\n",
       "      <td>2021-09-27 00:01:30</td>\n",
       "      <td>0</td>\n",
       "      <td>0</td>\n",
       "      <td>0</td>\n",
       "      <td>0</td>\n",
       "      <td>0</td>\n",
       "      <td>1</td>\n",
       "    </tr>\n",
       "    <tr>\n",
       "      <th>1</th>\n",
       "      <td>2021-09-26 22:54:49</td>\n",
       "      <td>1</td>\n",
       "      <td>1</td>\n",
       "      <td>0</td>\n",
       "      <td>0</td>\n",
       "      <td>1</td>\n",
       "      <td>1</td>\n",
       "    </tr>\n",
       "    <tr>\n",
       "      <th>2</th>\n",
       "      <td>2021-09-26 23:57:20</td>\n",
       "      <td>2</td>\n",
       "      <td>2</td>\n",
       "      <td>3</td>\n",
       "      <td>0</td>\n",
       "      <td>0</td>\n",
       "      <td>1</td>\n",
       "    </tr>\n",
       "    <tr>\n",
       "      <th>3</th>\n",
       "      <td>2021-09-27 00:04:30</td>\n",
       "      <td>3</td>\n",
       "      <td>3</td>\n",
       "      <td>0</td>\n",
       "      <td>1</td>\n",
       "      <td>1</td>\n",
       "      <td>1</td>\n",
       "    </tr>\n",
       "    <tr>\n",
       "      <th>4</th>\n",
       "      <td>2021-09-27 00:06:21</td>\n",
       "      <td>4</td>\n",
       "      <td>4</td>\n",
       "      <td>0</td>\n",
       "      <td>1</td>\n",
       "      <td>0</td>\n",
       "      <td>1</td>\n",
       "    </tr>\n",
       "  </tbody>\n",
       "</table>\n",
       "</div>"
      ],
      "text/plain": [
       "            date_time zone_id banner_id  campaign_clicks os_id country_id  \\\n",
       "0 2021-09-27 00:01:30       0         0                0     0          0   \n",
       "1 2021-09-26 22:54:49       1         1                0     0          1   \n",
       "2 2021-09-26 23:57:20       2         2                3     0          0   \n",
       "3 2021-09-27 00:04:30       3         3                0     1          1   \n",
       "4 2021-09-27 00:06:21       4         4                0     1          0   \n",
       "\n",
       "   clicks  \n",
       "0       1  \n",
       "1       1  \n",
       "2       1  \n",
       "3       1  \n",
       "4       1  "
      ]
     },
     "execution_count": 2,
     "metadata": {},
     "output_type": "execute_result"
    }
   ],
   "source": [
    "data=pd.read_csv('data.csv', usecols=['date_time','zone_id','banner_id',\n",
    "                                        'campaign_clicks','os_id','country_id',\n",
    "                                        'clicks'], parse_dates=['date_time'], \n",
    "                                        dtype={'zone_id':str,'banner_id':str,\n",
    "                                                'os_id':str,'country_id':str,'clicks':int})\n",
    "data.head()"
   ]
  },
  {
   "cell_type": "code",
   "execution_count": 3,
   "metadata": {},
   "outputs": [
    {
     "data": {
      "text/plain": [
       "0    0.973312\n",
       "1    0.026688\n",
       "Name: clicks, dtype: float64"
      ]
     },
     "execution_count": 3,
     "metadata": {},
     "output_type": "execute_result"
    }
   ],
   "source": [
    "data.clicks.value_counts(normalize=True)"
   ]
  },
  {
   "cell_type": "code",
   "execution_count": 4,
   "metadata": {},
   "outputs": [
    {
     "data": {
      "text/plain": [
       "array([datetime.date(2021, 9, 1), datetime.date(2021, 9, 26),\n",
       "       datetime.date(2021, 9, 27), datetime.date(2021, 9, 28),\n",
       "       datetime.date(2021, 9, 29), datetime.date(2021, 9, 30),\n",
       "       datetime.date(2021, 10, 1), datetime.date(2021, 10, 2)],\n",
       "      dtype=object)"
      ]
     },
     "execution_count": 4,
     "metadata": {},
     "output_type": "execute_result"
    }
   ],
   "source": [
    "data = data.set_index('date_time').sort_index()\n",
    "np.unique(data.index.date)"
   ]
  },
  {
   "cell_type": "code",
   "execution_count": 5,
   "metadata": {
    "collapsed": false,
    "jupyter": {
     "outputs_hidden": false
    },
    "pycharm": {
     "name": "#%%\n"
    }
   },
   "outputs": [],
   "source": [
    "def split_transform_data(data: pd.DataFrame, smooth=1):\n",
    "    X_train = data.loc[:'2021-09-30'].copy()\n",
    "    X_valid = data.loc['2021-10-01'].copy()\n",
    "    X_test = data.loc['2021-10-02'].copy()\n",
    "    \n",
    "    one_hot = OneHotEncoder().fit(X_train[['os_id','country_id']])\n",
    "    target = TargetEncoder(smoothing=smooth).fit(X_train[['zone_id','banner_id']], X_train['clicks'])\n",
    "    \n",
    "    def feature_engineering(data: pd.DataFrame) -> pd.DataFrame:\n",
    "        data['hour'] = data.index.hour\n",
    "        data[['zone_id','banner_id']] = target.transform(data[['zone_id','banner_id']])\n",
    "        return pd.concat([data.drop(columns=['os_id','country_id']), \n",
    "                          one_hot.transform(data[['os_id','country_id']])], axis=1)\n",
    "\n",
    "    X_train = feature_engineering(X_train)\n",
    "    X_valid = feature_engineering(X_valid)\n",
    "    X_test = feature_engineering(X_test)\n",
    "    \n",
    "    return X_train, X_valid, X_test"
   ]
  },
  {
   "cell_type": "code",
   "execution_count": 6,
   "metadata": {
    "collapsed": false,
    "jupyter": {
     "outputs_hidden": false
    },
    "pycharm": {
     "name": "#%%\n"
    }
   },
   "outputs": [],
   "source": [
    "def create_model(data: pd.DataFrame, smooth=1, **kwargs):\n",
    "    X_train, X_valid, X_test = split_transform_data(data, smooth)\n",
    "    X, y = X_train.drop(columns='clicks').values, X_train.clicks.values\n",
    "    model = LogisticRegression(**kwargs).fit(X, y)\n",
    "    return model, X_train, X_valid, X_test"
   ]
  },
  {
   "cell_type": "code",
   "execution_count": 7,
   "metadata": {
    "collapsed": false,
    "jupyter": {
     "outputs_hidden": false
    },
    "pycharm": {
     "name": "#%%\n"
    }
   },
   "outputs": [
    {
     "name": "stdout",
     "output_type": "stream",
     "text": [
      "Params: smooth=1 \n",
      "validation score: 0.16658134775772626\n",
      "\n",
      "\n",
      "Params: smooth=3 \n",
      "validation score: 0.16687538095334495\n",
      "\n",
      "\n",
      "Params: smooth=5 \n",
      "validation score: 0.1681042530650715\n",
      "\n",
      "\n",
      "Params: smooth=1 max_iter=300\n",
      "validation score: 0.1650812450711003\n",
      "\n",
      "\n",
      "Params: smooth=1 max_iter=500\n",
      "validation score: 0.1651759413651248\n",
      "\n",
      "\n",
      "Params: smooth=1 C=3\n",
      "validation score: 0.16535681950093653\n",
      "\n",
      "\n",
      "Params: smooth=1 C=5\n",
      "validation score: 0.16619088344426566\n",
      "\n",
      "\n",
      "Params: smooth=1 C=3 max_iter=300\n",
      "validation score: 0.16514746004543288\n",
      "\n",
      "\n"
     ]
    }
   ],
   "source": [
    "def cv(data: pd.DataFrame, smooth=1, **kwargs):\n",
    "    print(f'Params: smooth={smooth} {\" \".join(f\"{key}={value}\" for key, value in kwargs.items())}')\n",
    "    model, X_train, X_valid, X_test = create_model(data, smooth, **kwargs)\n",
    "    valid_score = log_loss(X_valid.clicks.values, model.predict_proba(X_valid.drop(columns='clicks').values))\n",
    "    test_score = log_loss(X_test.clicks.values, model.predict_proba(X_test.drop(columns='clicks').values))\n",
    "    print(f'validation score: {valid_score}')\n",
    "    print('\\n')\n",
    "    \n",
    "cv(data)\n",
    "cv(data, smooth=3)\n",
    "cv(data, smooth=5)\n",
    "cv(data, max_iter=300)\n",
    "cv(data, max_iter=500)\n",
    "cv(data, C=3)\n",
    "cv(data, C=5)\n",
    "cv(data, C=3, max_iter=300)"
   ]
  },
  {
   "cell_type": "code",
   "execution_count": 8,
   "metadata": {},
   "outputs": [
    {
     "name": "stdout",
     "output_type": "stream",
     "text": [
      "Params: max_iter=300\n",
      "test score: 0.14498839732100124\n",
      "\n",
      "\n"
     ]
    }
   ],
   "source": [
    "def test(data: pd.DataFrame, **kwargs):\n",
    "    print(f'Params: {\" \".join(f\"{key}={value}\" for key, value in kwargs.items())}')\n",
    "    model, X_train, X_valid, X_test = create_model(data, **kwargs)\n",
    "    valid_score = log_loss(X_valid.clicks.values, model.predict_proba(X_valid.drop(columns='clicks').values))\n",
    "    test_score = log_loss(X_test.clicks.values, model.predict_proba(X_test.drop(columns='clicks').values))\n",
    "    print(f'test score: {test_score}')\n",
    "    \n",
    "test(data, max_iter=300)"
   ]
  },
  {
   "cell_type": "code",
   "execution_count": null,
   "metadata": {},
   "outputs": [],
   "source": []
  }
 ],
 "metadata": {
  "kernelspec": {
   "display_name": "Python 3 (ipykernel)",
   "language": "python",
   "name": "python3"
  },
  "language_info": {
   "codemirror_mode": {
    "name": "ipython",
    "version": 3
   },
   "file_extension": ".py",
   "mimetype": "text/x-python",
   "name": "python",
   "nbconvert_exporter": "python",
   "pygments_lexer": "ipython3",
   "version": "3.8.8"
  }
 },
 "nbformat": 4,
 "nbformat_minor": 4
}
