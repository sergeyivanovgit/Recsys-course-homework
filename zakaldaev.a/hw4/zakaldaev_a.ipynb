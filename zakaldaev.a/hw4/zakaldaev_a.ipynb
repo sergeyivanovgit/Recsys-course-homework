{
 "cells": [
  {
   "cell_type": "code",
   "execution_count": 1,
   "id": "51250842",
   "metadata": {},
   "outputs": [],
   "source": [
    "import warnings\n",
    "warnings.filterwarnings('ignore')\n",
    "warnings.simplefilter('ignore')\n",
    "\n",
    "import numpy as np\n",
    "import pandas as pd\n",
    "from scipy.stats import norm\n",
    "from scipy.special import logit\n",
    "\n",
    "from category_encoders.one_hot import OneHotEncoder\n",
    "from category_encoders.target_encoder import TargetEncoder\n",
    "from sklearn.linear_model import LogisticRegression"
   ]
  },
  {
   "cell_type": "markdown",
   "id": "88084b49",
   "metadata": {},
   "source": [
    "### Вычиcление $\\pi_0$ и $\\pi_1$ "
   ]
  },
  {
   "cell_type": "code",
   "execution_count": 2,
   "id": "4e5cce59",
   "metadata": {},
   "outputs": [
    {
     "data": {
      "text/html": [
       "<div>\n",
       "<style scoped>\n",
       "    .dataframe tbody tr th:only-of-type {\n",
       "        vertical-align: middle;\n",
       "    }\n",
       "\n",
       "    .dataframe tbody tr th {\n",
       "        vertical-align: top;\n",
       "    }\n",
       "\n",
       "    .dataframe thead th {\n",
       "        text-align: right;\n",
       "    }\n",
       "</style>\n",
       "<table border=\"1\" class=\"dataframe\">\n",
       "  <thead>\n",
       "    <tr style=\"text-align: right;\">\n",
       "      <th></th>\n",
       "      <th>date_time</th>\n",
       "      <th>zone_id</th>\n",
       "      <th>banner_id</th>\n",
       "      <th>campaign_clicks</th>\n",
       "      <th>os_id</th>\n",
       "      <th>country_id</th>\n",
       "      <th>banner_id0</th>\n",
       "      <th>rate0</th>\n",
       "      <th>g0</th>\n",
       "      <th>coeff_sum0</th>\n",
       "      <th>banner_id1</th>\n",
       "      <th>rate1</th>\n",
       "      <th>g1</th>\n",
       "      <th>coeff_sum1</th>\n",
       "      <th>clicks</th>\n",
       "    </tr>\n",
       "  </thead>\n",
       "  <tbody>\n",
       "    <tr>\n",
       "      <th>0</th>\n",
       "      <td>2021-09-27 00:01:30</td>\n",
       "      <td>0</td>\n",
       "      <td>0</td>\n",
       "      <td>0</td>\n",
       "      <td>0</td>\n",
       "      <td>0</td>\n",
       "      <td>1240</td>\n",
       "      <td>0.067</td>\n",
       "      <td>0.035016</td>\n",
       "      <td>-7.268846</td>\n",
       "      <td>0</td>\n",
       "      <td>0.010</td>\n",
       "      <td>0.049516</td>\n",
       "      <td>-5.369901</td>\n",
       "      <td>1</td>\n",
       "    </tr>\n",
       "    <tr>\n",
       "      <th>1</th>\n",
       "      <td>2021-09-26 22:54:49</td>\n",
       "      <td>1</td>\n",
       "      <td>1</td>\n",
       "      <td>0</td>\n",
       "      <td>0</td>\n",
       "      <td>1</td>\n",
       "      <td>1</td>\n",
       "      <td>0.002</td>\n",
       "      <td>0.054298</td>\n",
       "      <td>-2.657477</td>\n",
       "      <td>269</td>\n",
       "      <td>0.004</td>\n",
       "      <td>0.031942</td>\n",
       "      <td>-4.449220</td>\n",
       "      <td>1</td>\n",
       "    </tr>\n",
       "    <tr>\n",
       "      <th>2</th>\n",
       "      <td>2021-09-26 23:57:20</td>\n",
       "      <td>2</td>\n",
       "      <td>2</td>\n",
       "      <td>3</td>\n",
       "      <td>0</td>\n",
       "      <td>0</td>\n",
       "      <td>2</td>\n",
       "      <td>0.014</td>\n",
       "      <td>0.014096</td>\n",
       "      <td>-3.824875</td>\n",
       "      <td>21</td>\n",
       "      <td>0.014</td>\n",
       "      <td>0.014906</td>\n",
       "      <td>-3.939309</td>\n",
       "      <td>1</td>\n",
       "    </tr>\n",
       "    <tr>\n",
       "      <th>3</th>\n",
       "      <td>2021-09-27 00:04:30</td>\n",
       "      <td>3</td>\n",
       "      <td>3</td>\n",
       "      <td>0</td>\n",
       "      <td>1</td>\n",
       "      <td>1</td>\n",
       "      <td>3</td>\n",
       "      <td>0.012</td>\n",
       "      <td>0.015232</td>\n",
       "      <td>-3.461357</td>\n",
       "      <td>99</td>\n",
       "      <td>0.006</td>\n",
       "      <td>0.050671</td>\n",
       "      <td>-3.418403</td>\n",
       "      <td>1</td>\n",
       "    </tr>\n",
       "    <tr>\n",
       "      <th>4</th>\n",
       "      <td>2021-09-27 00:06:21</td>\n",
       "      <td>4</td>\n",
       "      <td>4</td>\n",
       "      <td>0</td>\n",
       "      <td>1</td>\n",
       "      <td>0</td>\n",
       "      <td>4</td>\n",
       "      <td>0.019</td>\n",
       "      <td>0.051265</td>\n",
       "      <td>-4.009026</td>\n",
       "      <td>11464230</td>\n",
       "      <td>6.790</td>\n",
       "      <td>0.032005</td>\n",
       "      <td>-2.828797</td>\n",
       "      <td>1</td>\n",
       "    </tr>\n",
       "  </tbody>\n",
       "</table>\n",
       "</div>"
      ],
      "text/plain": [
       "            date_time zone_id banner_id  campaign_clicks os_id country_id  \\\n",
       "0 2021-09-27 00:01:30       0         0                0     0          0   \n",
       "1 2021-09-26 22:54:49       1         1                0     0          1   \n",
       "2 2021-09-26 23:57:20       2         2                3     0          0   \n",
       "3 2021-09-27 00:04:30       3         3                0     1          1   \n",
       "4 2021-09-27 00:06:21       4         4                0     1          0   \n",
       "\n",
       "  banner_id0  rate0        g0  coeff_sum0 banner_id1  rate1        g1  \\\n",
       "0       1240  0.067  0.035016   -7.268846          0  0.010  0.049516   \n",
       "1          1  0.002  0.054298   -2.657477        269  0.004  0.031942   \n",
       "2          2  0.014  0.014096   -3.824875         21  0.014  0.014906   \n",
       "3          3  0.012  0.015232   -3.461357         99  0.006  0.050671   \n",
       "4          4  0.019  0.051265   -4.009026   11464230  6.790  0.032005   \n",
       "\n",
       "   coeff_sum1  clicks  \n",
       "0   -5.369901       1  \n",
       "1   -4.449220       1  \n",
       "2   -3.939309       1  \n",
       "3   -3.418403       1  \n",
       "4   -2.828797       1  "
      ]
     },
     "execution_count": 2,
     "metadata": {},
     "output_type": "execute_result"
    }
   ],
   "source": [
    "df = pd.read_csv('data.csv', usecols=['date_time','zone_id','banner_id',\n",
    "                                        'campaign_clicks','os_id','country_id',\n",
    "                                        'banner_id0','rate0','g0','coeff_sum0',\n",
    "                                        'banner_id1','rate1','g1','coeff_sum1',\n",
    "                                        'clicks'], parse_dates=['date_time'], \n",
    "                 \n",
    "                                        dtype={'zone_id':str,'banner_id':str,'banner_id0':str,'banner_id1':str,\n",
    "                                                'os_id':str,'country_id':str,'clicks':int})\n",
    "df.head()"
   ]
  },
  {
   "cell_type": "code",
   "execution_count": 3,
   "id": "1167d9c4",
   "metadata": {},
   "outputs": [],
   "source": [
    "df = df.set_index('date_time')\n",
    "\n",
    "train = df.loc[:'2021-10-01'].copy()\n",
    "test0 = df.loc['2021-10-02'].copy()\n",
    "test0 = test0[test0.banner_id == test0.banner_id0]\n",
    "test1 = test0.copy()\n",
    "test1.banner_id = test1.banner_id1\n",
    "\n",
    "df = df.loc['2021-10-02'].copy()\n",
    "df = df[df.banner_id == df.banner_id0]\n",
    "\n",
    "one_hot = OneHotEncoder().fit(train[['os_id','country_id']])\n",
    "target = TargetEncoder().fit(train[['zone_id','banner_id']], train['clicks'])\n",
    "\n",
    "def feature_engineering(data: pd.DataFrame) -> pd.DataFrame:\n",
    "    data['hour'] = data.index.hour\n",
    "    data[['zone_id','banner_id']] = target.transform(data[['zone_id','banner_id']])\n",
    "    return pd.concat([data[['hour','zone_id','banner_id','clicks']], \n",
    "                      one_hot.transform(data[['os_id','country_id']])], axis=1)\n",
    "\n",
    "train = feature_engineering(train)\n",
    "X_train, y_train = train.drop(columns='clicks').values, train.clicks.values\n",
    "\n",
    "model = LogisticRegression(max_iter=300).fit(X_train, y_train)\n",
    "\n",
    "test0 = feature_engineering(test0)\n",
    "X_test0 = test0.drop(columns='clicks').values\n",
    "test0_pred = logit(model.predict_proba(X_test0)[:,1])\n",
    "\n",
    "test1 = feature_engineering(test1)\n",
    "X_test1 = test1.drop(columns='clicks').values\n",
    "test1_pred = logit(model.predict_proba(X_test1)[:,1])"
   ]
  },
  {
   "cell_type": "code",
   "execution_count": 4,
   "id": "1570a961",
   "metadata": {},
   "outputs": [],
   "source": [
    "E = df.coeff_sum0 - df.coeff_sum1\n",
    "D = np.sqrt(df.g0**2 + df.g1**2)\n",
    "pi_0 = norm.sf(0, E, D)"
   ]
  },
  {
   "cell_type": "code",
   "execution_count": 5,
   "id": "abc2f88c",
   "metadata": {},
   "outputs": [
    {
     "data": {
      "text/plain": [
       "array([1.   , 1.   , 0.   , ..., 0.   , 0.485, 0.495])"
      ]
     },
     "execution_count": 5,
     "metadata": {},
     "output_type": "execute_result"
    }
   ],
   "source": [
    "pi_0.round(3)"
   ]
  },
  {
   "cell_type": "code",
   "execution_count": 6,
   "id": "3652505c",
   "metadata": {},
   "outputs": [],
   "source": [
    "E = test0_pred - test1_pred\n",
    "pi_1 = norm.sf(0, E, D)"
   ]
  },
  {
   "cell_type": "code",
   "execution_count": 7,
   "id": "9a973d57",
   "metadata": {},
   "outputs": [
    {
     "data": {
      "text/plain": [
       "array([0.998, 1.   , 0.788, ..., 0.015, 0.654, 0.5  ])"
      ]
     },
     "execution_count": 7,
     "metadata": {},
     "output_type": "execute_result"
    }
   ],
   "source": [
    "pi_1.round(3)"
   ]
  },
  {
   "cell_type": "markdown",
   "id": "46651551",
   "metadata": {},
   "source": [
    "### Рассчет CIPS"
   ]
  },
  {
   "cell_type": "code",
   "execution_count": 8,
   "id": "e9022b23-fd03-4df1-b44e-39d96606d8a9",
   "metadata": {},
   "outputs": [
    {
     "data": {
      "text/plain": [
       "0.07617955653069858"
      ]
     },
     "execution_count": 8,
     "metadata": {},
     "output_type": "execute_result"
    }
   ],
   "source": [
    "l = 10\n",
    "\n",
    "def cips(pi_0, pi_1):\n",
    "    return (df.clicks.values * np.minimum(np.nan_to_num(pi_1/pi_0), l)).sum()/df.shape[0]\n",
    "\n",
    "cips(pi_0, pi_1)"
   ]
  },
  {
   "cell_type": "markdown",
   "id": "2675443f-16a8-4d56-a507-5873fffa5f97",
   "metadata": {},
   "source": [
    "### Оптимизация регуляризации\n",
    "Максимизизуем CIPS"
   ]
  },
  {
   "cell_type": "code",
   "execution_count": 9,
   "id": "f6a94aaa-0552-4904-8898-e7bd3fe24050",
   "metadata": {},
   "outputs": [
    {
     "name": "stdout",
     "output_type": "stream",
     "text": [
      "Fitting with reg coef: 0.5\n",
      "CIPS score: 0.07627148335876843\n",
      "\n",
      "Fitting with reg coef: 1.0\n",
      "CIPS score: 0.07617955653069858\n",
      "\n",
      "Fitting with reg coef: 1.5\n",
      "CIPS score: 0.07635101042247992\n",
      "\n",
      "Fitting with reg coef: 2.0\n",
      "CIPS score: 0.0762508382038136\n",
      "\n",
      "Fitting with reg coef: 2.5\n",
      "CIPS score: 0.0762213526337213\n",
      "\n",
      "Fitting with reg coef: 3.0\n",
      "CIPS score: 0.07627470265935617\n",
      "\n",
      "Fitting with reg coef: 3.5\n",
      "CIPS score: 0.07626234108080153\n",
      "\n"
     ]
    }
   ],
   "source": [
    "for reg_coef in np.arange(0.5, 4, 0.5):\n",
    "    print(f'Fitting with reg coef: {reg_coef}')\n",
    "\n",
    "    model = LogisticRegression(max_iter=300, C=reg_coef).fit(X_train, y_train)\n",
    "    test0_pred = logit(model.predict_proba(X_test0)[:,1])\n",
    "    test1_pred = logit(model.predict_proba(X_test1)[:,1])\n",
    "    \n",
    "    E = test0_pred - test1_pred\n",
    "    pi_1 = norm.sf(0, E, D)\n",
    "    score = cips(pi_0, pi_1)\n",
    "    print(f'CIPS score: {score}\\n')"
   ]
  },
  {
   "cell_type": "markdown",
   "id": "fadf7e13-37a6-429c-9717-b613bd765788",
   "metadata": {},
   "source": [
    "Наилучшая регуляризация C=1.5"
   ]
  },
  {
   "cell_type": "code",
   "execution_count": null,
   "id": "bebf25ad-cbdb-42c1-9cd2-a095994a1a5e",
   "metadata": {},
   "outputs": [],
   "source": []
  }
 ],
 "metadata": {
  "kernelspec": {
   "display_name": "Python 3 (ipykernel)",
   "language": "python",
   "name": "python3"
  },
  "language_info": {
   "codemirror_mode": {
    "name": "ipython",
    "version": 3
   },
   "file_extension": ".py",
   "mimetype": "text/x-python",
   "name": "python",
   "nbconvert_exporter": "python",
   "pygments_lexer": "ipython3",
   "version": "3.9.7"
  }
 },
 "nbformat": 4,
 "nbformat_minor": 5
}
