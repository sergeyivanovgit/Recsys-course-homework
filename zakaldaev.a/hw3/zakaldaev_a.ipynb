{
 "cells": [
  {
   "cell_type": "code",
   "execution_count": 11,
   "id": "7db92112-989e-4ec1-ae52-2fa2c5131213",
   "metadata": {},
   "outputs": [],
   "source": [
    "import numpy as np\n",
    "import pandas as pd\n",
    "import xlearn as xl"
   ]
  },
  {
   "cell_type": "code",
   "execution_count": 2,
   "id": "1aac1d21-9737-47f9-be70-31d9eb3e512f",
   "metadata": {},
   "outputs": [
    {
     "data": {
      "text/html": [
       "<div>\n",
       "<style scoped>\n",
       "    .dataframe tbody tr th:only-of-type {\n",
       "        vertical-align: middle;\n",
       "    }\n",
       "\n",
       "    .dataframe tbody tr th {\n",
       "        vertical-align: top;\n",
       "    }\n",
       "\n",
       "    .dataframe thead th {\n",
       "        text-align: right;\n",
       "    }\n",
       "</style>\n",
       "<table border=\"1\" class=\"dataframe\">\n",
       "  <thead>\n",
       "    <tr style=\"text-align: right;\">\n",
       "      <th></th>\n",
       "      <th>date_time</th>\n",
       "      <th>zone_id</th>\n",
       "      <th>banner_id</th>\n",
       "      <th>oaid_hash</th>\n",
       "      <th>campaign_clicks</th>\n",
       "      <th>os_id</th>\n",
       "      <th>country_id</th>\n",
       "      <th>clicks</th>\n",
       "    </tr>\n",
       "  </thead>\n",
       "  <tbody>\n",
       "    <tr>\n",
       "      <th>0</th>\n",
       "      <td>2021-09-27 00:01:30</td>\n",
       "      <td>0</td>\n",
       "      <td>0</td>\n",
       "      <td>5664530014561852622</td>\n",
       "      <td>0</td>\n",
       "      <td>0</td>\n",
       "      <td>0</td>\n",
       "      <td>1</td>\n",
       "    </tr>\n",
       "    <tr>\n",
       "      <th>1</th>\n",
       "      <td>2021-09-26 22:54:49</td>\n",
       "      <td>1</td>\n",
       "      <td>1</td>\n",
       "      <td>5186611064559013950</td>\n",
       "      <td>0</td>\n",
       "      <td>0</td>\n",
       "      <td>1</td>\n",
       "      <td>1</td>\n",
       "    </tr>\n",
       "    <tr>\n",
       "      <th>2</th>\n",
       "      <td>2021-09-26 23:57:20</td>\n",
       "      <td>2</td>\n",
       "      <td>2</td>\n",
       "      <td>2215519569292448030</td>\n",
       "      <td>3</td>\n",
       "      <td>0</td>\n",
       "      <td>0</td>\n",
       "      <td>1</td>\n",
       "    </tr>\n",
       "    <tr>\n",
       "      <th>3</th>\n",
       "      <td>2021-09-27 00:04:30</td>\n",
       "      <td>3</td>\n",
       "      <td>3</td>\n",
       "      <td>6262169206735077204</td>\n",
       "      <td>0</td>\n",
       "      <td>1</td>\n",
       "      <td>1</td>\n",
       "      <td>1</td>\n",
       "    </tr>\n",
       "    <tr>\n",
       "      <th>4</th>\n",
       "      <td>2021-09-27 00:06:21</td>\n",
       "      <td>4</td>\n",
       "      <td>4</td>\n",
       "      <td>4778985830203613115</td>\n",
       "      <td>0</td>\n",
       "      <td>1</td>\n",
       "      <td>0</td>\n",
       "      <td>1</td>\n",
       "    </tr>\n",
       "  </tbody>\n",
       "</table>\n",
       "</div>"
      ],
      "text/plain": [
       "            date_time zone_id banner_id            oaid_hash  campaign_clicks  \\\n",
       "0 2021-09-27 00:01:30       0         0  5664530014561852622                0   \n",
       "1 2021-09-26 22:54:49       1         1  5186611064559013950                0   \n",
       "2 2021-09-26 23:57:20       2         2  2215519569292448030                3   \n",
       "3 2021-09-27 00:04:30       3         3  6262169206735077204                0   \n",
       "4 2021-09-27 00:06:21       4         4  4778985830203613115                0   \n",
       "\n",
       "  os_id country_id  clicks  \n",
       "0     0          0       1  \n",
       "1     0          1       1  \n",
       "2     0          0       1  \n",
       "3     1          1       1  \n",
       "4     1          0       1  "
      ]
     },
     "execution_count": 2,
     "metadata": {},
     "output_type": "execute_result"
    }
   ],
   "source": [
    "df = pd.read_csv('data.csv', usecols=['date_time','zone_id','banner_id','oaid_hash',\n",
    "                                      'campaign_clicks','os_id','country_id','clicks'], \n",
    "                 dtype={'zone_id':str,'banner_id':str,'oaid_hash':str,'os_id':str,'country_id':str,'clicks':int},\n",
    "                 parse_dates=['date_time'],)\n",
    "df.head()"
   ]
  },
  {
   "cell_type": "code",
   "execution_count": 3,
   "id": "00d2ae0b-26d0-4efa-b28f-f61aa23ebad0",
   "metadata": {},
   "outputs": [],
   "source": [
    "df = df.set_index('date_time')"
   ]
  },
  {
   "cell_type": "code",
   "execution_count": 18,
   "id": "b46d1d73-5a50-4028-8990-50858cb1cf50",
   "metadata": {},
   "outputs": [],
   "source": [
    "train = df.loc[:'2021-09-30'].copy()\n",
    "val = df.loc['2021-10-01'].copy()\n",
    "test = df.loc['2021-10-02'].copy()"
   ]
  },
  {
   "cell_type": "markdown",
   "id": "70f98a87-abe0-4624-b542-2992e51a2dea",
   "metadata": {
    "tags": []
   },
   "source": [
    "## Преобразование данных в формат libffm"
   ]
  },
  {
   "cell_type": "code",
   "execution_count": 17,
   "id": "86c94614-1ac7-4162-9668-2a91700851c3",
   "metadata": {},
   "outputs": [],
   "source": [
    "TARGET = ['clicks']\n",
    "NUMERICAL_FEATURES = ['campaign_clicks']\n",
    "CATEGORICAL_FEATURES = ['zone_id','banner_id','oaid_hash','os_id','country_id']\n",
    "ALL_FEATURES = ['zone_id','banner_id','oaid_hash','campaign_clicks','os_id','country_id']\n",
    "NUM_THREADS = 4"
   ]
  },
  {
   "cell_type": "code",
   "execution_count": 21,
   "id": "e5992c03-522f-4801-9ad8-e4c4a937e60e",
   "metadata": {},
   "outputs": [
    {
     "name": "stdout",
     "output_type": "stream",
     "text": [
      "convert_to_ffm - START\n",
      "UPDATING CATDICT: numeric field - campaign_clicks\n",
      "UPDATING CATDICT: categorical field - zone_id\n",
      "UPDATING CATDICT: categorical field - banner_id\n",
      "UPDATING CATDICT: categorical field - oaid_hash\n",
      "UPDATING CATDICT: categorical field - os_id\n",
      "UPDATING CATDICT: categorical field - country_id\n",
      "convert_to_ffm - START\n",
      "convert_to_ffm - START\n"
     ]
    }
   ],
   "source": [
    "import json\n",
    "import math\n",
    "\n",
    "def _convert_to_ffm(path, df, type, target, numerics, categories, features, encoder):\n",
    "    # Flagging categorical and numerical fields\n",
    "    print('convert_to_ffm - START')\n",
    "    for x in numerics:\n",
    "        if(x not in encoder['catdict']):\n",
    "            print(f'UPDATING CATDICT: numeric field - {x}')\n",
    "            encoder['catdict'][x] = 0\n",
    "    for x in categories:\n",
    "        if(x not in encoder['catdict']):\n",
    "            print(f'UPDATING CATDICT: categorical field - {x}')\n",
    "            encoder['catdict'][x] = 1\n",
    "\n",
    "    nrows = df.shape[0]\n",
    "    with open(path + str(type) + \"_ffm.txt\", \"w\") as text_file:\n",
    "\n",
    "        # Looping over rows to convert each row to libffm format\n",
    "        for n, r in enumerate(range(nrows)):\n",
    "            datastring = \"\"\n",
    "            datarow = df.iloc[r].to_dict()\n",
    "            datastring += str(int(datarow[target]))  # Set Target Variable here\n",
    "\n",
    "            # For numerical fields, we are creating a dummy field here\n",
    "            for i, x in enumerate(encoder['catdict'].keys()):\n",
    "                if(encoder['catdict'][x] == 0):\n",
    "                    # Not adding numerical values that are nan\n",
    "                    if math.isnan(datarow[x]) is not True:\n",
    "                        datastring = datastring + \" \"+str(i)+\":\" + str(i)+\":\" + str(datarow[x])\n",
    "                else:\n",
    "\n",
    "                    # For a new field appearing in a training example\n",
    "                    if(x not in encoder['catcodes']):\n",
    "                        # print(f'UPDATING CATCODES: categorical field - {x}')\n",
    "                        encoder['catcodes'][x] = {}\n",
    "                        encoder['currentcode'] += 1\n",
    "                        # print(f'UPDATING CATCODES: categorical value for field {x} - {datarow[x]}')\n",
    "                        encoder['catcodes'][x][datarow[x]] = encoder['currentcode']  # encoding the feature\n",
    "\n",
    "                    # For already encoded fields\n",
    "                    elif(datarow[x] not in encoder['catcodes'][x]):\n",
    "                        encoder['currentcode'] += 1\n",
    "                        # print(f'UPDATING CATCODES: categorical value for field {x} - {datarow[x]}')\n",
    "                        encoder['catcodes'][x][datarow[x]] = encoder['currentcode']  # encoding the feature\n",
    "\n",
    "                    code = encoder['catcodes'][x][datarow[x]]\n",
    "                    datastring = datastring + \" \"+str(i)+\":\" + str(int(code))+\":1\"\n",
    "\n",
    "            datastring += '\\n'\n",
    "            text_file.write(datastring)\n",
    "\n",
    "    # print('Encoder Summary:')\n",
    "    # print(json.dumps(encoder, indent=4))\n",
    "    return encoder\n",
    "\n",
    "encoder = {\"currentcode\": len(NUMERICAL_FEATURES),\n",
    "           \"catdict\": {},\n",
    "           \"catcodes\": {}}\n",
    "\n",
    "encoder = _convert_to_ffm('', train, 'train', TARGET[0],\n",
    "                          NUMERICAL_FEATURES,\n",
    "                          CATEGORICAL_FEATURES,\n",
    "                          ALL_FEATURES,\n",
    "                          encoder)\n",
    "\n",
    "encoder = _convert_to_ffm('', val, 'val', TARGET[0],\n",
    "                          NUMERICAL_FEATURES,\n",
    "                          CATEGORICAL_FEATURES,\n",
    "                          ALL_FEATURES,\n",
    "                          encoder)\n",
    "\n",
    "encoder = _convert_to_ffm('', test, 'test', TARGET[0],\n",
    "                          NUMERICAL_FEATURES,\n",
    "                          CATEGORICAL_FEATURES,\n",
    "                          ALL_FEATURES,\n",
    "                          encoder)"
   ]
  },
  {
   "cell_type": "markdown",
   "id": "d4cfb78c-c03e-4054-a4a4-17fdd45472c5",
   "metadata": {},
   "source": [
    "## Построение модели"
   ]
  },
  {
   "cell_type": "code",
   "execution_count": 22,
   "id": "429fdf40-5c38-4dfb-ac1e-cf136934e363",
   "metadata": {},
   "outputs": [],
   "source": [
    "ffm_model = xl.create_ffm()\n",
    "ffm_model.setTrain(\"train_ffm.txt\")\n",
    "ffm_model.setValidate(\"val_ffm.txt\")\n",
    "param = {'task': 'binary',\n",
    "         'lr': 0.2,\n",
    "         'lambda': 0.002,\n",
    "         'metric': 'auc'}\n",
    "ffm_model.fit(param, 'model.out')"
   ]
  },
  {
   "cell_type": "raw",
   "id": "b2e2b91c-dfeb-48db-b06f-29e6c99d0d62",
   "metadata": {},
   "source": [
    "[------------] xLearn uses 16 threads for training task.\n",
    "[ ACTION     ] Read Problem ...\n",
    "[------------] First check if the text file has been already converted to binary format.\n",
    "[------------] Binary file (train_ffm.txt.bin) NOT found. Convert text file to binary file.\n",
    "[------------] First check if the text file has been already converted to binary format.\n",
    "[------------] Binary file (val_ffm.txt.bin) NOT found. Convert text file to binary file.\n",
    "[------------] Number of Feature: 5665364\n",
    "[------------] Number of Field: 6\n",
    "[------------] Time cost for reading problem: 18.25 (sec)\n",
    "[ ACTION     ] Initialize model ...\n",
    "[------------] Model size: 1.06 GB\n",
    "[------------] Time cost for model initial: 0.81 (sec)\n",
    "[ ACTION     ] Start to train ...\n",
    "[------------] Epoch      Train log_loss       Test log_loss            Test AUC     Time cost (sec)\n",
    "[   10%      ]     1            0.100593            0.157636            0.780214                3.38\n",
    "[   20%      ]     2            0.098328            0.156722            0.782409                3.38\n",
    "[   30%      ]     3            0.096624            0.155723            0.786260                3.48\n",
    "[   40%      ]     4            0.095071            0.154909            0.788056                3.38\n",
    "[   50%      ]     5            0.093591            0.154274            0.790751                3.27\n",
    "[   60%      ]     6            0.092142            0.153952            0.792329                3.31\n",
    "[   70%      ]     7            0.090718            0.153694            0.793716                3.42\n",
    "[   80%      ]     8            0.089304            0.153228            0.796116                3.34\n",
    "[   90%      ]     9            0.087899            0.153057            0.796671                3.34\n",
    "[  100%      ]    10            0.086543            0.152691            0.798526                3.33\n",
    "[ ACTION     ] Start to save model ...\n",
    "[------------] Model file: model.out\n",
    "[------------] Time cost for saving model: 1.17 (sec)\n",
    "[ ACTION     ] Finish training\n",
    "[ ACTION     ] Clear the xLearn environment ...\n",
    "[------------] Total time cost: 55.56 (sec)"
   ]
  },
  {
   "cell_type": "code",
   "execution_count": 23,
   "id": "09d5e425-e239-44a1-8c61-22feeb4139a4",
   "metadata": {},
   "outputs": [],
   "source": [
    "ffm_model.setTest(\"test_ffm.txt\")\n",
    "ffm_model.setSigmoid()\n",
    "ffm_model.predict(\"model.out\", \"predictions.txt\")"
   ]
  },
  {
   "cell_type": "raw",
   "id": "9ed8552e-55c9-49cb-8223-ab7f680fbba4",
   "metadata": {},
   "source": [
    "[------------] xLearn uses 16 threads for prediction task.\n",
    "[ ACTION     ] Load model ...\n",
    "[------------] Load model from model.out\n",
    "[------------] Loss function: cross-entropy\n",
    "[------------] Score function: ffm\n",
    "[------------] Number of Feature: 5665364\n",
    "[------------] Number of K: 4\n",
    "[------------] Number of field: 6\n",
    "[------------] Time cost for loading model: 1.28 (sec)\n",
    "[ ACTION     ] Read Problem ...\n",
    "[------------] First check if the text file has been already converted to binary format.\n",
    "[------------] Binary file (test_ffm.txt.bin) NOT found. Convert text file to binary file.\n",
    "[------------] Time cost for reading problem: 1.98 (sec)\n",
    "[ ACTION     ] Start to predict ...\n",
    "[------------] The test loss is: 0.138107\n",
    "[ ACTION     ] Clear the xLearn environment ...\n",
    "[------------] Total time cost: 4.19 (sec)"
   ]
  },
  {
   "cell_type": "markdown",
   "id": "7ee50bbb-48ba-461a-9cbd-1f39d9a22c7b",
   "metadata": {},
   "source": [
    "Получили более точный результат test loss: 0.138107   \n",
    "по сравнению с линейной моделью test loss: 0.144988"
   ]
  },
  {
   "cell_type": "code",
   "execution_count": null,
   "id": "8d3bfe2b-a950-45ee-bd59-418c7c9b8df2",
   "metadata": {},
   "outputs": [],
   "source": []
  }
 ],
 "metadata": {
  "kernelspec": {
   "display_name": "Python 3",
   "language": "python",
   "name": "python3"
  },
  "language_info": {
   "codemirror_mode": {
    "name": "ipython",
    "version": 3
   },
   "file_extension": ".py",
   "mimetype": "text/x-python",
   "name": "python",
   "nbconvert_exporter": "python",
   "pygments_lexer": "ipython3",
   "version": "3.6.13"
  }
 },
 "nbformat": 4,
 "nbformat_minor": 5
}
