{
 "cells": [
  {
   "cell_type": "code",
   "execution_count": 1,
   "outputs": [],
   "source": [
    "# !pip install pandas xlearn numpy scikit-learn tqdm  # in case you don't have some libraries required to run the code"
   ],
   "metadata": {
    "collapsed": false,
    "pycharm": {
     "name": "#%%\n"
    }
   }
  },
  {
   "cell_type": "code",
   "execution_count": 2,
   "outputs": [],
   "source": [
    "import warnings\n",
    "\n",
    "warnings.filterwarnings('ignore')\n",
    "\n",
    "from utils import *\n",
    "\n",
    "import pandas as pd\n",
    "from tqdm.auto import tqdm\n",
    "\n",
    "tqdm.pandas()"
   ],
   "metadata": {
    "collapsed": false,
    "pycharm": {
     "name": "#%%\n"
    }
   }
  },
  {
   "cell_type": "markdown",
   "source": [
    "## Загрузка данных\n",
    "\n",
    "Загрузим данные – только необходимые столбцы для решения задачи.\n",
    "\n",
    "Проанализировал данные с [pandas-profiling](https://github.com/pandas-profiling/pandas-profiling) (но репорт в репозиторий загружать не стал).\n"
   ],
   "metadata": {
    "collapsed": false,
    "pycharm": {
     "name": "#%% md\n"
    }
   }
  },
  {
   "cell_type": "code",
   "execution_count": 17,
   "outputs": [
    {
     "data": {
      "text/plain": "                     zone_id  banner_id            oaid_hash  campaign_clicks  \\\ndate_time                                                                       \n2021-09-01 00:02:49       30        596  5236744527665721365                0   \n2021-09-26 00:00:00       41         29  1834033519797437404                1   \n2021-09-26 00:00:00        1        188  7416450538971744701                2   \n2021-09-26 00:00:00       17         52  1832228443297591417                2   \n2021-09-26 00:00:00       47         73  4180077124914749282                1   \n\n                     os_id  country_id  clicks  \ndate_time                                       \n2021-09-01 00:02:49      0           7       0  \n2021-09-26 00:00:00      3           0       0  \n2021-09-26 00:00:00      2          15       0  \n2021-09-26 00:00:00      2           5       0  \n2021-09-26 00:00:00      4          13       0  ",
      "text/html": "<div>\n<style scoped>\n    .dataframe tbody tr th:only-of-type {\n        vertical-align: middle;\n    }\n\n    .dataframe tbody tr th {\n        vertical-align: top;\n    }\n\n    .dataframe thead th {\n        text-align: right;\n    }\n</style>\n<table border=\"1\" class=\"dataframe\">\n  <thead>\n    <tr style=\"text-align: right;\">\n      <th></th>\n      <th>zone_id</th>\n      <th>banner_id</th>\n      <th>oaid_hash</th>\n      <th>campaign_clicks</th>\n      <th>os_id</th>\n      <th>country_id</th>\n      <th>clicks</th>\n    </tr>\n    <tr>\n      <th>date_time</th>\n      <th></th>\n      <th></th>\n      <th></th>\n      <th></th>\n      <th></th>\n      <th></th>\n      <th></th>\n    </tr>\n  </thead>\n  <tbody>\n    <tr>\n      <th>2021-09-01 00:02:49</th>\n      <td>30</td>\n      <td>596</td>\n      <td>5236744527665721365</td>\n      <td>0</td>\n      <td>0</td>\n      <td>7</td>\n      <td>0</td>\n    </tr>\n    <tr>\n      <th>2021-09-26 00:00:00</th>\n      <td>41</td>\n      <td>29</td>\n      <td>1834033519797437404</td>\n      <td>1</td>\n      <td>3</td>\n      <td>0</td>\n      <td>0</td>\n    </tr>\n    <tr>\n      <th>2021-09-26 00:00:00</th>\n      <td>1</td>\n      <td>188</td>\n      <td>7416450538971744701</td>\n      <td>2</td>\n      <td>2</td>\n      <td>15</td>\n      <td>0</td>\n    </tr>\n    <tr>\n      <th>2021-09-26 00:00:00</th>\n      <td>17</td>\n      <td>52</td>\n      <td>1832228443297591417</td>\n      <td>2</td>\n      <td>2</td>\n      <td>5</td>\n      <td>0</td>\n    </tr>\n    <tr>\n      <th>2021-09-26 00:00:00</th>\n      <td>47</td>\n      <td>73</td>\n      <td>4180077124914749282</td>\n      <td>1</td>\n      <td>4</td>\n      <td>13</td>\n      <td>0</td>\n    </tr>\n  </tbody>\n</table>\n</div>"
     },
     "execution_count": 17,
     "metadata": {},
     "output_type": "execute_result"
    }
   ],
   "source": [
    "types = {\n",
    "    'os_id': int,\n",
    "    'country_id': int,\n",
    "    'campaign_clicks': int,\n",
    "    'clicks': int,\n",
    "    'oaid_hash': str,\n",
    "    'zone_id': int,\n",
    "    'banner_id': int\n",
    "}\n",
    "columns = ['date_time', *types.keys()]\n",
    "df = pd.read_csv(\n",
    "    '../data/data.csv',\n",
    "    dtype=types,\n",
    "    usecols=columns,\n",
    "    parse_dates=[columns[0]]\n",
    ")\n",
    "df = df.set_index(columns[0]).sort_index()\n",
    "df.head()"
   ],
   "metadata": {
    "collapsed": false,
    "pycharm": {
     "name": "#%%\n"
    }
   }
  },
  {
   "cell_type": "markdown",
   "source": [
    "## Предобработка данных\n",
    "\n",
    "Подготовим данные к тренировке и тестированию (сразу все для упрощения)."
   ],
   "metadata": {
    "collapsed": false,
    "pycharm": {
     "name": "#%% md\n"
    }
   }
  },
  {
   "cell_type": "code",
   "execution_count": 18,
   "outputs": [
    {
     "data": {
      "text/plain": "  0%|          | 0/15821472 [00:00<?, ?it/s]",
      "application/vnd.jupyter.widget-view+json": {
       "version_major": 2,
       "version_minor": 0,
       "model_id": "b074990c3e11494893fcc72eb9bf0584"
      }
     },
     "metadata": {},
     "output_type": "display_data"
    },
    {
     "data": {
      "text/plain": "                      zone_id  banner_id  oaid_hash  campaign_clicks  os_id  \\\ndate_time                                                                     \n2021-09-01 00:02:49  0.021640        596    3320628                0      0   \n2021-09-26 00:00:00  0.007788         29     653046                1      3   \n2021-09-26 00:00:00  0.040499        188    5030974                2      2   \n2021-09-26 00:00:00  0.027959         52     651670                2      2   \n2021-09-26 00:00:00  0.017774         73    2491428                1      4   \n\n                     country_id  clicks  hour  weekday  weekend  \\\ndate_time                                                         \n2021-09-01 00:02:49           7       0     0        2        0   \n2021-09-26 00:00:00           0       0     0        6        1   \n2021-09-26 00:00:00          15       0     0        6        1   \n2021-09-26 00:00:00           5       0     0        6        1   \n2021-09-26 00:00:00          13       0     0        6        1   \n\n                     daytime_Early Morning  daytime_Eve  daytime_Late Night  \\\ndate_time                                                                     \n2021-09-01 00:02:49                      0            0                   1   \n2021-09-26 00:00:00                      0            0                   1   \n2021-09-26 00:00:00                      0            0                   1   \n2021-09-26 00:00:00                      0            0                   1   \n2021-09-26 00:00:00                      0            0                   1   \n\n                     daytime_Morning  daytime_Night  daytime_Noon  \ndate_time                                                          \n2021-09-01 00:02:49                0              0             0  \n2021-09-26 00:00:00                0              0             0  \n2021-09-26 00:00:00                0              0             0  \n2021-09-26 00:00:00                0              0             0  \n2021-09-26 00:00:00                0              0             0  ",
      "text/html": "<div>\n<style scoped>\n    .dataframe tbody tr th:only-of-type {\n        vertical-align: middle;\n    }\n\n    .dataframe tbody tr th {\n        vertical-align: top;\n    }\n\n    .dataframe thead th {\n        text-align: right;\n    }\n</style>\n<table border=\"1\" class=\"dataframe\">\n  <thead>\n    <tr style=\"text-align: right;\">\n      <th></th>\n      <th>zone_id</th>\n      <th>banner_id</th>\n      <th>oaid_hash</th>\n      <th>campaign_clicks</th>\n      <th>os_id</th>\n      <th>country_id</th>\n      <th>clicks</th>\n      <th>hour</th>\n      <th>weekday</th>\n      <th>weekend</th>\n      <th>daytime_Early Morning</th>\n      <th>daytime_Eve</th>\n      <th>daytime_Late Night</th>\n      <th>daytime_Morning</th>\n      <th>daytime_Night</th>\n      <th>daytime_Noon</th>\n    </tr>\n    <tr>\n      <th>date_time</th>\n      <th></th>\n      <th></th>\n      <th></th>\n      <th></th>\n      <th></th>\n      <th></th>\n      <th></th>\n      <th></th>\n      <th></th>\n      <th></th>\n      <th></th>\n      <th></th>\n      <th></th>\n      <th></th>\n      <th></th>\n      <th></th>\n    </tr>\n  </thead>\n  <tbody>\n    <tr>\n      <th>2021-09-01 00:02:49</th>\n      <td>0.021640</td>\n      <td>596</td>\n      <td>3320628</td>\n      <td>0</td>\n      <td>0</td>\n      <td>7</td>\n      <td>0</td>\n      <td>0</td>\n      <td>2</td>\n      <td>0</td>\n      <td>0</td>\n      <td>0</td>\n      <td>1</td>\n      <td>0</td>\n      <td>0</td>\n      <td>0</td>\n    </tr>\n    <tr>\n      <th>2021-09-26 00:00:00</th>\n      <td>0.007788</td>\n      <td>29</td>\n      <td>653046</td>\n      <td>1</td>\n      <td>3</td>\n      <td>0</td>\n      <td>0</td>\n      <td>0</td>\n      <td>6</td>\n      <td>1</td>\n      <td>0</td>\n      <td>0</td>\n      <td>1</td>\n      <td>0</td>\n      <td>0</td>\n      <td>0</td>\n    </tr>\n    <tr>\n      <th>2021-09-26 00:00:00</th>\n      <td>0.040499</td>\n      <td>188</td>\n      <td>5030974</td>\n      <td>2</td>\n      <td>2</td>\n      <td>15</td>\n      <td>0</td>\n      <td>0</td>\n      <td>6</td>\n      <td>1</td>\n      <td>0</td>\n      <td>0</td>\n      <td>1</td>\n      <td>0</td>\n      <td>0</td>\n      <td>0</td>\n    </tr>\n    <tr>\n      <th>2021-09-26 00:00:00</th>\n      <td>0.027959</td>\n      <td>52</td>\n      <td>651670</td>\n      <td>2</td>\n      <td>2</td>\n      <td>5</td>\n      <td>0</td>\n      <td>0</td>\n      <td>6</td>\n      <td>1</td>\n      <td>0</td>\n      <td>0</td>\n      <td>1</td>\n      <td>0</td>\n      <td>0</td>\n      <td>0</td>\n    </tr>\n    <tr>\n      <th>2021-09-26 00:00:00</th>\n      <td>0.017774</td>\n      <td>73</td>\n      <td>2491428</td>\n      <td>1</td>\n      <td>4</td>\n      <td>13</td>\n      <td>0</td>\n      <td>0</td>\n      <td>6</td>\n      <td>1</td>\n      <td>0</td>\n      <td>0</td>\n      <td>1</td>\n      <td>0</td>\n      <td>0</td>\n      <td>0</td>\n    </tr>\n  </tbody>\n</table>\n</div>"
     },
     "execution_count": 18,
     "metadata": {},
     "output_type": "execute_result"
    }
   ],
   "source": [
    "data = feature_engineering(df, zone_id=(df.groupby(\"zone_id\").clicks.mean()).to_dict())\n",
    "oaid_max = max(data.oaid_hash)\n",
    "data.head()"
   ],
   "metadata": {
    "collapsed": false,
    "pycharm": {
     "name": "#%%\n"
    }
   }
  },
  {
   "cell_type": "code",
   "execution_count": null,
   "outputs": [
    {
     "name": "stdout",
     "output_type": "stream",
     "text": []
    }
   ],
   "source": [
    "df_train = data.loc[:'2021-09-30']\n",
    "df_test = data.loc['2021-10-01']\n",
    "train, test = (\n",
    "    data.loc[:'2021-10-01'].copy(),\n",
    "    data.loc['2021-10-02'].copy()\n",
    ")"
   ],
   "metadata": {
    "collapsed": false,
    "pycharm": {
     "name": "#%%\n",
     "is_executing": true
    }
   }
  },
  {
   "cell_type": "code",
   "execution_count": null,
   "outputs": [],
   "source": [
    "GOAL = \"clicks\"\n",
    "NUMERICAL_FEATURES = [\"campaign_clicks\"]\n",
    "CATEGORICAL_FEATURES = [\n",
    "    feature for feature in data.columns if feature != \"campaign_clicks\"\n",
    "]\n",
    "ALL_FEATURES = data.columns\n",
    "NUM_THREADS = 16\n",
    "\n",
    "encoder = {\n",
    "    \"currentcode\": len(\n",
    "        NUMERICAL_FEATURES\n",
    "    ),  # Unique index for each numerical field or categorical variables\n",
    "    \"catdict\": {},  # Dictionary that stores numerical and categorical variables\n",
    "    \"catcodes\": {},\n",
    "}  # Dictionary that stores index for each categorical variables per categorical field\n",
    "\n",
    "encoder = convert_to_ffm(\n",
    "    \"../data/\",\n",
    "    df_train,\n",
    "    \"train\",\n",
    "    GOAL,\n",
    "    NUMERICAL_FEATURES,\n",
    "    CATEGORICAL_FEATURES,\n",
    "    ALL_FEATURES,\n",
    "    encoder,\n",
    ")\n",
    "\n",
    "encoder = convert_to_ffm(\n",
    "    \"../data/\",\n",
    "    df_test,\n",
    "    \"val\",\n",
    "    GOAL,\n",
    "    NUMERICAL_FEATURES,\n",
    "    CATEGORICAL_FEATURES,\n",
    "    ALL_FEATURES,\n",
    "    encoder,\n",
    ")\n",
    "\n",
    "encoder = convert_to_ffm(\n",
    "    \"../data/\",\n",
    "    test,\n",
    "    \"test\",\n",
    "    GOAL,\n",
    "    NUMERICAL_FEATURES,\n",
    "    CATEGORICAL_FEATURES,\n",
    "    ALL_FEATURES,\n",
    "    encoder,\n",
    ")"
   ],
   "metadata": {
    "collapsed": false,
    "pycharm": {
     "name": "#%%\n"
    }
   }
  },
  {
   "cell_type": "markdown",
   "source": [
    "## Подбор гиперпараметров\n",
    "\n",
    "Подберем параметр размерности для модели – и валидироваться будем на предпоследнем дне (а последний день нужен для финального теста по условию).\n",
    "\n",
    "XLearn \"из коробки\" умеет считать скор на валидации – посмотрим в его логи."
   ],
   "metadata": {
    "collapsed": false
   }
  },
  {
   "cell_type": "code",
   "execution_count": 10,
   "outputs": [
    {
     "data": {
      "text/plain": "  0%|          | 0/4 [00:00<?, ?it/s]",
      "application/vnd.jupyter.widget-view+json": {
       "version_major": 2,
       "version_minor": 0,
       "model_id": "f247400529774641ab20a569ea6a09ea"
      }
     },
     "metadata": {},
     "output_type": "display_data"
    },
    {
     "name": "stdout",
     "output_type": "stream",
     "text": [
      "\u001B[32m\u001B[1m----------------------------------------------------------------------------------------------\n",
      "           _\n",
      "          | |\n",
      "     __  _| |     ___  __ _ _ __ _ __\n",
      "     \\ \\/ / |    / _ \\/ _` | '__| '_ \\ \n",
      "      >  <| |___|  __/ (_| | |  | | | |\n",
      "     /_/\\_\\_____/\\___|\\__,_|_|  |_| |_|\n",
      "\n",
      "        xLearn   -- 0.40 Version --\n",
      "----------------------------------------------------------------------------------------------\n",
      "\n",
      "\u001B[39m\u001B[0m\u001B[32m[------------] \u001B[0mxLearn uses 16 threads for training task.\n",
      "\u001B[32m\u001B[1m[ ACTION     ] Read Problem ...\u001B[0m\n",
      "\u001B[32m[------------] \u001B[0mFirst check if the text file has been already converted to binary format.\n",
      "\u001B[32m[------------] \u001B[0mBinary file (../data/train_ffm.txt.bin) found. Skip converting text to binary.\n",
      "\u001B[32m[------------] \u001B[0mFirst check if the text file has been already converted to binary format.\n",
      "\u001B[32m[------------] \u001B[0mBinary file (../data/val_ffm.txt.bin) found. Skip converting text to binary.\n",
      "\u001B[32m[------------] \u001B[0mNumber of Feature: 5662980\n",
      "\u001B[32m[------------] \u001B[0mNumber of Field: 16\n",
      "\u001B[32m[------------] \u001B[0mTime cost for reading problem: 29.75 (sec)\n",
      "\u001B[32m\u001B[1m[ ACTION     ] Initialize model ...\u001B[0m\n",
      "\u001B[32m[------------] \u001B[0mModel size: 2.74 GB\n",
      "\u001B[32m[------------] \u001B[0mTime cost for model initial: 2.57 (sec)\n",
      "\u001B[32m\u001B[1m[ ACTION     ] Start to train ...\u001B[0m\n",
      "\u001B[32m[------------]\u001B[0m Epoch      Train log_loss       Test log_loss       Test Accuarcy     Time cost (sec)\n",
      "\u001B[32m[ \u001B[0m  10%\u001B[32m      ]\u001B[0m     1            0.005699            0.007378            0.999362               19.27\n",
      "\u001B[32m[ \u001B[0m  20%\u001B[32m      ]\u001B[0m     2            0.005551            0.007385            0.999329               22.08\n",
      "\u001B[32m[ \u001B[0m  30%\u001B[32m      ]\u001B[0m     3            0.005505            0.007224            0.999384               22.40\n",
      "\u001B[32m[ \u001B[0m  40%\u001B[32m      ]\u001B[0m     4            0.005473            0.007340            0.999351               24.50\n",
      "\u001B[32m[ \u001B[0m  50%\u001B[32m      ]\u001B[0m     5            0.005450            0.007359            0.999337               29.01\n",
      "\u001B[32m[ \u001B[0m  60%\u001B[32m      ]\u001B[0m     6            0.005430            0.007516            0.999335               27.03\n",
      "\u001B[32m\u001B[1m[ ACTION     ] Early-stopping at epoch 3, best Accuarcy: 0.999384\u001B[0m\n",
      "\u001B[32m\u001B[1m[ ACTION     ] Start to save model ...\u001B[0m\n",
      "\u001B[32m[------------] \u001B[0mModel file: ./model.out\n",
      "\u001B[32m[------------] \u001B[0mTime cost for saving model: 6.23 (sec)\n",
      "\u001B[32m\u001B[1m[ ACTION     ] Finish training\u001B[0m\n",
      "\u001B[32m\u001B[1m[ ACTION     ] Clear the xLearn environment ...\u001B[0m\n",
      "\u001B[32m\u001B[1m[------------] Total time cost: 191.63 (sec)\u001B[0m\n",
      "\u001B[32m\u001B[1m----------------------------------------------------------------------------------------------\n",
      "           _\n",
      "          | |\n",
      "     __  _| |     ___  __ _ _ __ _ __\n",
      "     \\ \\/ / |    / _ \\/ _` | '__| '_ \\ \n",
      "      >  <| |___|  __/ (_| | |  | | | |\n",
      "     /_/\\_\\_____/\\___|\\__,_|_|  |_| |_|\n",
      "\n",
      "        xLearn   -- 0.40 Version --\n",
      "----------------------------------------------------------------------------------------------\n",
      "\n",
      "\u001B[39m\u001B[0m\u001B[32m[------------] \u001B[0mxLearn uses 16 threads for training task.\n",
      "\u001B[32m\u001B[1m[ ACTION     ] Read Problem ...\u001B[0m\n",
      "\u001B[32m[------------] \u001B[0mFirst check if the text file has been already converted to binary format.\n",
      "\u001B[32m[------------] \u001B[0mBinary file (../data/train_ffm.txt.bin) found. Skip converting text to binary.\n",
      "\u001B[32m[------------] \u001B[0mFirst check if the text file has been already converted to binary format.\n",
      "\u001B[32m[------------] \u001B[0mBinary file (../data/val_ffm.txt.bin) found. Skip converting text to binary.\n",
      "\u001B[32m[------------] \u001B[0mNumber of Feature: 5662980\n",
      "\u001B[32m[------------] \u001B[0mNumber of Field: 16\n",
      "\u001B[32m[------------] \u001B[0mTime cost for reading problem: 23.43 (sec)\n",
      "\u001B[32m\u001B[1m[ ACTION     ] Initialize model ...\u001B[0m\n",
      "\u001B[32m[------------] \u001B[0mModel size: 2.74 GB\n",
      "\u001B[32m[------------] \u001B[0mTime cost for model initial: 2.92 (sec)\n",
      "\u001B[32m\u001B[1m[ ACTION     ] Start to train ...\u001B[0m\n",
      "\u001B[32m[------------]\u001B[0m Epoch      Train log_loss       Test log_loss       Test Accuarcy     Time cost (sec)\n",
      "\u001B[32m[ \u001B[0m  10%\u001B[32m      ]\u001B[0m     1            0.005698            0.007320            0.999365               19.20\n",
      "\u001B[32m[ \u001B[0m  20%\u001B[32m      ]\u001B[0m     2            0.005549            0.007266            0.999326               21.86\n",
      "\u001B[32m[ \u001B[0m  30%\u001B[32m      ]\u001B[0m     3            0.005502            0.007379            0.999326               29.65\n",
      "\u001B[32m[ \u001B[0m  40%\u001B[32m      ]\u001B[0m     4            0.005471            0.007426            0.999322               34.87\n",
      "\u001B[32m[ \u001B[0m  50%\u001B[32m      ]\u001B[0m     5            0.005451            0.007410            0.999326               32.84\n",
      "\u001B[32m[ \u001B[0m  60%\u001B[32m      ]\u001B[0m     6            0.005427            0.007606            0.999315               37.49\n",
      "\u001B[32m[ \u001B[0m  70%\u001B[32m      ]\u001B[0m     7            0.005408            0.007503            0.999338               29.62\n",
      "\u001B[32m[ \u001B[0m  80%\u001B[32m      ]\u001B[0m     8            0.005393            0.007737            0.999308               30.39\n",
      "\u001B[32m[ \u001B[0m  90%\u001B[32m      ]\u001B[0m     9            0.005376            0.007668            0.999345               35.19\n",
      "\u001B[32m[ \u001B[0m 100%\u001B[32m      ]\u001B[0m    10            0.005365            0.007915            0.999297               31.99\n",
      "\u001B[32m\u001B[1m[ ACTION     ] Early-stopping at epoch 1, best Accuarcy: 0.999365\u001B[0m\n",
      "\u001B[32m\u001B[1m[ ACTION     ] Start to save model ...\u001B[0m\n",
      "\u001B[32m[------------] \u001B[0mModel file: ./model.out\n",
      "\u001B[32m[------------] \u001B[0mTime cost for saving model: 5.69 (sec)\n",
      "\u001B[32m\u001B[1m[ ACTION     ] Finish training\u001B[0m\n",
      "\u001B[32m\u001B[1m[ ACTION     ] Clear the xLearn environment ...\u001B[0m\n",
      "\u001B[32m\u001B[1m[------------] Total time cost: 345.52 (sec)\u001B[0m\n",
      "\u001B[32m\u001B[1m----------------------------------------------------------------------------------------------\n",
      "           _\n",
      "          | |\n",
      "     __  _| |     ___  __ _ _ __ _ __\n",
      "     \\ \\/ / |    / _ \\/ _` | '__| '_ \\ \n",
      "      >  <| |___|  __/ (_| | |  | | | |\n",
      "     /_/\\_\\_____/\\___|\\__,_|_|  |_| |_|\n",
      "\n",
      "        xLearn   -- 0.40 Version --\n",
      "----------------------------------------------------------------------------------------------\n",
      "\n",
      "\u001B[39m\u001B[0m\u001B[32m[------------] \u001B[0mxLearn uses 16 threads for training task.\n",
      "\u001B[32m\u001B[1m[ ACTION     ] Read Problem ...\u001B[0m\n",
      "\u001B[32m[------------] \u001B[0mFirst check if the text file has been already converted to binary format.\n",
      "\u001B[32m[------------] \u001B[0mBinary file (../data/train_ffm.txt.bin) found. Skip converting text to binary.\n",
      "\u001B[32m[------------] \u001B[0mFirst check if the text file has been already converted to binary format.\n",
      "\u001B[32m[------------] \u001B[0mBinary file (../data/val_ffm.txt.bin) found. Skip converting text to binary.\n",
      "\u001B[32m[------------] \u001B[0mNumber of Feature: 5662980\n",
      "\u001B[32m[------------] \u001B[0mNumber of Field: 16\n",
      "\u001B[32m[------------] \u001B[0mTime cost for reading problem: 26.42 (sec)\n",
      "\u001B[32m\u001B[1m[ ACTION     ] Initialize model ...\u001B[0m\n",
      "\u001B[32m[------------] \u001B[0mModel size: 5.44 GB\n",
      "\u001B[32m[------------] \u001B[0mTime cost for model initial: 5.71 (sec)\n",
      "\u001B[32m\u001B[1m[ ACTION     ] Start to train ...\u001B[0m\n",
      "\u001B[32m[------------]\u001B[0m Epoch      Train log_loss       Test log_loss       Test Accuarcy     Time cost (sec)\n",
      "\u001B[32m[ \u001B[0m  10%\u001B[32m      ]\u001B[0m     1            0.005702            0.007271            0.999374               29.23\n",
      "\u001B[32m[ \u001B[0m  20%\u001B[32m      ]\u001B[0m     2            0.005554            0.007428            0.999314               46.53\n",
      "\u001B[32m[ \u001B[0m  30%\u001B[32m      ]\u001B[0m     3            0.005507            0.007263            0.999370               48.69\n",
      "\u001B[32m[ \u001B[0m  40%\u001B[32m      ]\u001B[0m     4            0.005474            0.007439            0.999334               47.05\n",
      "\u001B[32m[ \u001B[0m  50%\u001B[32m      ]\u001B[0m     5            0.005453            0.007311            0.999359               47.56\n",
      "\u001B[32m[ \u001B[0m  60%\u001B[32m      ]\u001B[0m     6            0.005432            0.007612            0.999300               48.82\n",
      "\u001B[32m[ \u001B[0m  70%\u001B[32m      ]\u001B[0m     7            0.005414            0.007352            0.999344               47.09\n",
      "\u001B[32m[ \u001B[0m  80%\u001B[32m      ]\u001B[0m     8            0.005398            0.007626            0.999301               47.85\n",
      "\u001B[32m[ \u001B[0m  90%\u001B[32m      ]\u001B[0m     9            0.005386            0.007640            0.999303               48.97\n",
      "\u001B[32m[ \u001B[0m 100%\u001B[32m      ]\u001B[0m    10            0.005368            0.007866            0.999321               49.85\n",
      "\u001B[32m\u001B[1m[ ACTION     ] Early-stopping at epoch 1, best Accuarcy: 0.999374\u001B[0m\n",
      "\u001B[32m\u001B[1m[ ACTION     ] Start to save model ...\u001B[0m\n",
      "\u001B[32m[------------] \u001B[0mModel file: ./model.out\n",
      "\u001B[32m[------------] \u001B[0mTime cost for saving model: 9.64 (sec)\n",
      "\u001B[32m\u001B[1m[ ACTION     ] Finish training\u001B[0m\n",
      "\u001B[32m\u001B[1m[ ACTION     ] Clear the xLearn environment ...\u001B[0m\n",
      "\u001B[32m\u001B[1m[------------] Total time cost: 524.34 (sec)\u001B[0m\n",
      "\u001B[32m\u001B[1m----------------------------------------------------------------------------------------------\n",
      "           _\n",
      "          | |\n",
      "     __  _| |     ___  __ _ _ __ _ __\n",
      "     \\ \\/ / |    / _ \\/ _` | '__| '_ \\ \n",
      "      >  <| |___|  __/ (_| | |  | | | |\n",
      "     /_/\\_\\_____/\\___|\\__,_|_|  |_| |_|\n",
      "\n",
      "        xLearn   -- 0.40 Version --\n",
      "----------------------------------------------------------------------------------------------\n",
      "\n",
      "\u001B[39m\u001B[0m\u001B[32m[------------] \u001B[0mxLearn uses 16 threads for training task.\n",
      "\u001B[32m\u001B[1m[ ACTION     ] Read Problem ...\u001B[0m\n",
      "\u001B[32m[------------] \u001B[0mFirst check if the text file has been already converted to binary format.\n",
      "\u001B[32m[------------] \u001B[0mBinary file (../data/train_ffm.txt.bin) found. Skip converting text to binary.\n",
      "\u001B[32m[------------] \u001B[0mFirst check if the text file has been already converted to binary format.\n",
      "\u001B[32m[------------] \u001B[0mBinary file (../data/val_ffm.txt.bin) found. Skip converting text to binary.\n",
      "\u001B[32m[------------] \u001B[0mNumber of Feature: 5662980\n",
      "\u001B[32m[------------] \u001B[0mNumber of Field: 16\n",
      "\u001B[32m[------------] \u001B[0mTime cost for reading problem: 26.49 (sec)\n",
      "\u001B[32m\u001B[1m[ ACTION     ] Initialize model ...\u001B[0m\n",
      "\u001B[32m[------------] \u001B[0mModel size: 5.44 GB\n",
      "\u001B[32m[------------] \u001B[0mTime cost for model initial: 4.85 (sec)\n",
      "\u001B[32m\u001B[1m[ ACTION     ] Start to train ...\u001B[0m\n",
      "\u001B[32m[------------]\u001B[0m Epoch      Train log_loss       Test log_loss       Test Accuarcy     Time cost (sec)\n",
      "\u001B[32m[ \u001B[0m  10%\u001B[32m      ]\u001B[0m     1            0.005700            0.007384            0.999378               26.22\n",
      "\u001B[32m[ \u001B[0m  20%\u001B[32m      ]\u001B[0m     2            0.005558            0.007331            0.999373               40.52\n",
      "\u001B[32m[ \u001B[0m  30%\u001B[32m      ]\u001B[0m     3            0.005516            0.007275            0.999345               53.78\n",
      "\u001B[32m\u001B[1m[ ACTION     ] Early-stopping at epoch 1, best Accuarcy: 0.999378\u001B[0m\n",
      "\u001B[32m\u001B[1m[ ACTION     ] Start to save model ...\u001B[0m\n",
      "\u001B[32m[------------] \u001B[0mModel file: ./model.out\n",
      "\u001B[32m[------------] \u001B[0mTime cost for saving model: 9.58 (sec)\n",
      "\u001B[32m\u001B[1m[ ACTION     ] Finish training\u001B[0m\n",
      "\u001B[32m\u001B[1m[ ACTION     ] Clear the xLearn environment ...\u001B[0m\n",
      "\u001B[32m\u001B[1m[------------] Total time cost: 170.15 (sec)\u001B[0m\n"
     ]
    }
   ],
   "source": [
    "for k in tqdm((2, 4, 6, 8)):\n",
    "    create_model(k=k)"
   ],
   "metadata": {
    "collapsed": false,
    "pycharm": {
     "name": "#%%\n"
    }
   }
  },
  {
   "cell_type": "markdown",
   "source": [
    "## Тренировка и тестирование\n",
    "\n",
    "Данные готовы, параметры подобраны – теперь тренируем новую модель на всех доступных для тренировки данных и тестируем ее."
   ],
   "metadata": {
    "collapsed": false,
    "pycharm": {
     "name": "#%% md\n"
    }
   }
  },
  {
   "cell_type": "code",
   "execution_count": 11,
   "outputs": [
    {
     "name": "stdout",
     "output_type": "stream",
     "text": [
      "\u001B[32m\u001B[1m----------------------------------------------------------------------------------------------\n",
      "           _\n",
      "          | |\n",
      "     __  _| |     ___  __ _ _ __ _ __\n",
      "     \\ \\/ / |    / _ \\/ _` | '__| '_ \\ \n",
      "      >  <| |___|  __/ (_| | |  | | | |\n",
      "     /_/\\_\\_____/\\___|\\__,_|_|  |_| |_|\n",
      "\n",
      "        xLearn   -- 0.40 Version --\n",
      "----------------------------------------------------------------------------------------------\n",
      "\n",
      "\u001B[39m\u001B[0m\u001B[32m[------------] \u001B[0mxLearn uses 16 threads for training task.\n",
      "\u001B[32m\u001B[1m[ ACTION     ] Read Problem ...\u001B[0m\n",
      "\u001B[32m[------------] \u001B[0mFirst check if the text file has been already converted to binary format.\n",
      "\u001B[32m[------------] \u001B[0mBinary file (../data/train_ffm.txt.bin) found. Skip converting text to binary.\n",
      "\u001B[32m[------------] \u001B[0mFirst check if the text file has been already converted to binary format.\n",
      "\u001B[32m[------------] \u001B[0mBinary file (../data/val_ffm.txt.bin) found. Skip converting text to binary.\n",
      "\u001B[32m[------------] \u001B[0mNumber of Feature: 5662980\n",
      "\u001B[32m[------------] \u001B[0mNumber of Field: 16\n",
      "\u001B[32m[------------] \u001B[0mTime cost for reading problem: 33.45 (sec)\n",
      "\u001B[32m\u001B[1m[ ACTION     ] Initialize model ...\u001B[0m\n",
      "\u001B[32m[------------] \u001B[0mModel size: 5.44 GB\n",
      "\u001B[32m[------------] \u001B[0mTime cost for model initial: 6.90 (sec)\n",
      "\u001B[32m\u001B[1m[ ACTION     ] Start to train ...\u001B[0m\n",
      "\u001B[32m[------------]\u001B[0m Epoch      Train log_loss       Test log_loss       Test Accuarcy     Time cost (sec)\n",
      "\u001B[32m[ \u001B[0m  10%\u001B[32m      ]\u001B[0m     1            0.005707            0.007354            0.999376               28.07\n",
      "\u001B[32m[ \u001B[0m  20%\u001B[32m      ]\u001B[0m     2            0.005561            0.007393            0.999346               32.44\n",
      "\u001B[32m[ \u001B[0m  30%\u001B[32m      ]\u001B[0m     3            0.005515            0.007445            0.999300               44.54\n",
      "\u001B[32m\u001B[1m[ ACTION     ] Early-stopping at epoch 1, best Accuarcy: 0.999376\u001B[0m\n",
      "\u001B[32m\u001B[1m[ ACTION     ] Start to save model ...\u001B[0m\n",
      "\u001B[32m[------------] \u001B[0mModel file: ./model.out\n",
      "\u001B[32m[------------] \u001B[0mTime cost for saving model: 12.17 (sec)\n",
      "\u001B[32m\u001B[1m[ ACTION     ] Finish training\u001B[0m\n",
      "\u001B[32m\u001B[1m[ ACTION     ] Clear the xLearn environment ...\u001B[0m\n",
      "\u001B[32m\u001B[1m[------------] Total time cost: 170.45 (sec)\u001B[0m\n",
      "\u001B[32m\u001B[1m----------------------------------------------------------------------------------------------\n",
      "           _\n",
      "          | |\n",
      "     __  _| |     ___  __ _ _ __ _ __\n",
      "     \\ \\/ / |    / _ \\/ _` | '__| '_ \\ \n",
      "      >  <| |___|  __/ (_| | |  | | | |\n",
      "     /_/\\_\\_____/\\___|\\__,_|_|  |_| |_|\n",
      "\n",
      "        xLearn   -- 0.40 Version --\n",
      "----------------------------------------------------------------------------------------------\n",
      "\n",
      "\u001B[39m\u001B[0m\u001B[32m[------------] \u001B[0mxLearn uses 16 threads for prediction task.\n",
      "\u001B[32m\u001B[1m[ ACTION     ] Load model ...\u001B[0m\n",
      "\u001B[32m[------------] \u001B[0mLoad model from model.out\n",
      "\u001B[32m[------------] \u001B[0mLoss function: cross-entropy\n",
      "\u001B[32m[------------] \u001B[0mScore function: ffm\n",
      "\u001B[32m[------------] \u001B[0mNumber of Feature: 5662980\n",
      "\u001B[32m[------------] \u001B[0mNumber of K: 8\n",
      "\u001B[32m[------------] \u001B[0mNumber of field: 16\n",
      "\u001B[32m[------------] \u001B[0mTime cost for loading model: 3.78 (sec)\n",
      "\u001B[32m\u001B[1m[ ACTION     ] Read Problem ...\u001B[0m\n",
      "\u001B[32m[------------] \u001B[0mFirst check if the text file has been already converted to binary format.\n",
      "\u001B[32m[------------] \u001B[0mBinary file (../data/test_ffm.txt.bin) NOT found. Convert text file to binary file.\n",
      "\u001B[32m[------------] \u001B[0mTime cost for reading problem: 10.31 (sec)\n",
      "\u001B[32m\u001B[1m[ ACTION     ] Start to predict ...\u001B[0m\n",
      "\u001B[32m[------------] \u001B[0mThe test loss is: 0.007778\n",
      "\u001B[32m\u001B[1m[ ACTION     ] Clear the xLearn environment ...\u001B[0m\n",
      "\u001B[32m\u001B[1m[------------] Total time cost: 15.25 (sec)\u001B[0m\n"
     ]
    }
   ],
   "source": [
    "model = create_model(k=8)\n",
    "model.setTest(\"../data/test_ffm.txt\")\n",
    "model.setSign()\n",
    "model.predict(\"model.out\", \"output.txt\")"
   ],
   "metadata": {
    "collapsed": false,
    "pycharm": {
     "name": "#%%\n"
    }
   }
  },
  {
   "cell_type": "markdown",
   "source": [
    "Достигнутый результат (по логам) – `The test loss is: 0.007778`. Результат получился значительно лучше результатов прошлой работы [прошлой работы](https://github.com/tiulpin/Recsys-course-homework/blob/tiulpin/hw1/tiulpin.v/hw1/tiulpin_v.ipynb):\n",
    "- `0.1549` – baseline\n",
    "- `0.1481` – LogReg"
   ],
   "metadata": {
    "collapsed": false,
    "pycharm": {
     "name": "#%% md\n"
    }
   }
  }
 ],
 "metadata": {
  "kernelspec": {
   "display_name": "Python 3",
   "language": "python",
   "name": "python3"
  },
  "language_info": {
   "codemirror_mode": {
    "name": "ipython",
    "version": 2
   },
   "file_extension": ".py",
   "mimetype": "text/x-python",
   "name": "python",
   "nbconvert_exporter": "python",
   "pygments_lexer": "ipython2",
   "version": "2.7.6"
  }
 },
 "nbformat": 4,
 "nbformat_minor": 0
}