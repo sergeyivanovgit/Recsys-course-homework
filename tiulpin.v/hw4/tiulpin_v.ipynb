{
 "cells": [
  {
   "cell_type": "code",
   "execution_count": 3,
   "outputs": [],
   "source": [
    "# !pip install -r requirements.txt # in case you don't have some libraries required to run the code"
   ],
   "metadata": {
    "collapsed": false,
    "pycharm": {
     "name": "#%%\n"
    }
   }
  },
  {
   "cell_type": "code",
   "execution_count": 4,
   "outputs": [],
   "source": [
    "import warnings\n",
    "warnings.filterwarnings('ignore')\n",
    "\n",
    "from utils import *\n",
    "\n",
    "import pandas as pd\n",
    "from tqdm.auto import tqdm\n",
    "from category_encoders.one_hot import OneHotEncoder\n",
    "from category_encoders.target_encoder import TargetEncoder\n",
    "from scipy.special import logit\n",
    "\n",
    "tqdm.pandas()"
   ],
   "metadata": {
    "collapsed": false,
    "pycharm": {
     "name": "#%%\n"
    }
   }
  },
  {
   "cell_type": "markdown",
   "source": [
    "Загрузим данные из первого задания (на этот раз чуть больше колонок) и переиспользуем модель из первого задания"
   ],
   "metadata": {
    "collapsed": false,
    "pycharm": {
     "name": "#%% md\n"
    }
   }
  },
  {
   "cell_type": "code",
   "execution_count": 5,
   "outputs": [
    {
     "data": {
      "text/plain": "                    zone_id banner_id os_id country_id banner_id0  rate0  \\\ndate_time                                                                  \n2021-09-01 00:02:49      30       596     0          7        596  0.050   \n2021-09-26 00:00:00      41        29     3          0         29  0.002   \n2021-09-26 00:00:00       1       188     2         15        188  0.008   \n2021-09-26 00:00:00      17        52     2          5         52  0.008   \n2021-09-26 00:00:00      47        73     4         13         73  0.008   \n\n                           g0  coeff_sum0 banner_id1  rate1        g1  \\\ndate_time                                                               \n2021-09-01 00:02:49  0.064560   -4.312062        603  0.050  0.056510   \n2021-09-26 00:00:00  0.016386   -4.736584          6  0.002  0.020875   \n2021-09-26 00:00:00  0.014186   -3.811444   11754925  0.330  0.012351   \n2021-09-26 00:00:00  0.013550   -4.317590         41  0.004  0.067812   \n2021-09-26 00:00:00  0.120974   -2.382508       1040  0.008  0.157515   \n\n                     coeff_sum1  clicks  \ndate_time                                \n2021-09-01 00:02:49   -4.370191       0  \n2021-09-26 00:00:00   -4.898257       0  \n2021-09-26 00:00:00   -2.106896       0  \n2021-09-26 00:00:00   -3.739501       0  \n2021-09-26 00:00:00   -3.037939       0  ",
      "text/html": "<div>\n<style scoped>\n    .dataframe tbody tr th:only-of-type {\n        vertical-align: middle;\n    }\n\n    .dataframe tbody tr th {\n        vertical-align: top;\n    }\n\n    .dataframe thead th {\n        text-align: right;\n    }\n</style>\n<table border=\"1\" class=\"dataframe\">\n  <thead>\n    <tr style=\"text-align: right;\">\n      <th></th>\n      <th>zone_id</th>\n      <th>banner_id</th>\n      <th>os_id</th>\n      <th>country_id</th>\n      <th>banner_id0</th>\n      <th>rate0</th>\n      <th>g0</th>\n      <th>coeff_sum0</th>\n      <th>banner_id1</th>\n      <th>rate1</th>\n      <th>g1</th>\n      <th>coeff_sum1</th>\n      <th>clicks</th>\n    </tr>\n    <tr>\n      <th>date_time</th>\n      <th></th>\n      <th></th>\n      <th></th>\n      <th></th>\n      <th></th>\n      <th></th>\n      <th></th>\n      <th></th>\n      <th></th>\n      <th></th>\n      <th></th>\n      <th></th>\n      <th></th>\n    </tr>\n  </thead>\n  <tbody>\n    <tr>\n      <th>2021-09-01 00:02:49</th>\n      <td>30</td>\n      <td>596</td>\n      <td>0</td>\n      <td>7</td>\n      <td>596</td>\n      <td>0.050</td>\n      <td>0.064560</td>\n      <td>-4.312062</td>\n      <td>603</td>\n      <td>0.050</td>\n      <td>0.056510</td>\n      <td>-4.370191</td>\n      <td>0</td>\n    </tr>\n    <tr>\n      <th>2021-09-26 00:00:00</th>\n      <td>41</td>\n      <td>29</td>\n      <td>3</td>\n      <td>0</td>\n      <td>29</td>\n      <td>0.002</td>\n      <td>0.016386</td>\n      <td>-4.736584</td>\n      <td>6</td>\n      <td>0.002</td>\n      <td>0.020875</td>\n      <td>-4.898257</td>\n      <td>0</td>\n    </tr>\n    <tr>\n      <th>2021-09-26 00:00:00</th>\n      <td>1</td>\n      <td>188</td>\n      <td>2</td>\n      <td>15</td>\n      <td>188</td>\n      <td>0.008</td>\n      <td>0.014186</td>\n      <td>-3.811444</td>\n      <td>11754925</td>\n      <td>0.330</td>\n      <td>0.012351</td>\n      <td>-2.106896</td>\n      <td>0</td>\n    </tr>\n    <tr>\n      <th>2021-09-26 00:00:00</th>\n      <td>17</td>\n      <td>52</td>\n      <td>2</td>\n      <td>5</td>\n      <td>52</td>\n      <td>0.008</td>\n      <td>0.013550</td>\n      <td>-4.317590</td>\n      <td>41</td>\n      <td>0.004</td>\n      <td>0.067812</td>\n      <td>-3.739501</td>\n      <td>0</td>\n    </tr>\n    <tr>\n      <th>2021-09-26 00:00:00</th>\n      <td>47</td>\n      <td>73</td>\n      <td>4</td>\n      <td>13</td>\n      <td>73</td>\n      <td>0.008</td>\n      <td>0.120974</td>\n      <td>-2.382508</td>\n      <td>1040</td>\n      <td>0.008</td>\n      <td>0.157515</td>\n      <td>-3.037939</td>\n      <td>0</td>\n    </tr>\n  </tbody>\n</table>\n</div>"
     },
     "execution_count": 5,
     "metadata": {},
     "output_type": "execute_result"
    }
   ],
   "source": [
    "types = {\n",
    "    'os_id': str,\n",
    "    'country_id': str,\n",
    "    'zone_id': str,\n",
    "    # 'campaign_clicks': int, – not required in this h/w\n",
    "    'clicks': int,\n",
    "    'banner_id': str,\n",
    "    'banner_id0': str,\n",
    "    'rate0': float,\n",
    "    'g0': float,\n",
    "    'coeff_sum0': float,\n",
    "    'banner_id1': str,\n",
    "    'rate1': float,\n",
    "    'g1': float,\n",
    "    'coeff_sum1': float\n",
    "}\n",
    "columns = ['date_time', *types.keys()]\n",
    "df = pd.read_csv(\n",
    "    '../data/data.csv',\n",
    "    dtype=types,\n",
    "    usecols=columns,\n",
    "    parse_dates=[columns[0]]\n",
    ")\n",
    "df = df.set_index(columns[0]).sort_index()\n",
    "df.head()"
   ],
   "metadata": {
    "collapsed": false,
    "pycharm": {
     "name": "#%%\n"
    }
   }
  },
  {
   "cell_type": "code",
   "execution_count": 6,
   "outputs": [
    {
     "data": {
      "text/plain": "                     hour   zone_id  banner_id  clicks  weekday  os_id_1  \\\ndate_time                                                                  \n2021-09-01 00:02:49     0  0.021063   0.017529       0        2        1   \n2021-09-26 00:00:00     0  0.007601   0.024826       0        6        0   \n2021-09-26 00:00:00     0  0.038422   0.013548       0        6        0   \n2021-09-26 00:00:00     0  0.027595   0.020776       0        6        0   \n2021-09-26 00:00:00     0  0.018115   0.091559       0        6        0   \n\n                     os_id_2  os_id_3  os_id_4  os_id_5  ...  country_id_8  \\\ndate_time                                                ...                 \n2021-09-01 00:02:49        0        0        0        0  ...             0   \n2021-09-26 00:00:00        1        0        0        0  ...             0   \n2021-09-26 00:00:00        0        1        0        0  ...             0   \n2021-09-26 00:00:00        0        1        0        0  ...             0   \n2021-09-26 00:00:00        0        0        1        0  ...             0   \n\n                     country_id_9  country_id_10  country_id_11  \\\ndate_time                                                         \n2021-09-01 00:02:49             0              0              0   \n2021-09-26 00:00:00             0              0              0   \n2021-09-26 00:00:00             0              0              0   \n2021-09-26 00:00:00             0              0              0   \n2021-09-26 00:00:00             0              0              0   \n\n                     country_id_12  country_id_13  country_id_14  \\\ndate_time                                                          \n2021-09-01 00:02:49              0              0              0   \n2021-09-26 00:00:00              0              0              0   \n2021-09-26 00:00:00              0              0              0   \n2021-09-26 00:00:00              0              0              0   \n2021-09-26 00:00:00              0              0              0   \n\n                     country_id_15  country_id_16  country_id_17  \ndate_time                                                         \n2021-09-01 00:02:49              0              0              0  \n2021-09-26 00:00:00              0              0              0  \n2021-09-26 00:00:00              0              0              0  \n2021-09-26 00:00:00              0              0              0  \n2021-09-26 00:00:00              0              0              0  \n\n[5 rows x 33 columns]",
      "text/html": "<div>\n<style scoped>\n    .dataframe tbody tr th:only-of-type {\n        vertical-align: middle;\n    }\n\n    .dataframe tbody tr th {\n        vertical-align: top;\n    }\n\n    .dataframe thead th {\n        text-align: right;\n    }\n</style>\n<table border=\"1\" class=\"dataframe\">\n  <thead>\n    <tr style=\"text-align: right;\">\n      <th></th>\n      <th>hour</th>\n      <th>zone_id</th>\n      <th>banner_id</th>\n      <th>clicks</th>\n      <th>weekday</th>\n      <th>os_id_1</th>\n      <th>os_id_2</th>\n      <th>os_id_3</th>\n      <th>os_id_4</th>\n      <th>os_id_5</th>\n      <th>...</th>\n      <th>country_id_8</th>\n      <th>country_id_9</th>\n      <th>country_id_10</th>\n      <th>country_id_11</th>\n      <th>country_id_12</th>\n      <th>country_id_13</th>\n      <th>country_id_14</th>\n      <th>country_id_15</th>\n      <th>country_id_16</th>\n      <th>country_id_17</th>\n    </tr>\n    <tr>\n      <th>date_time</th>\n      <th></th>\n      <th></th>\n      <th></th>\n      <th></th>\n      <th></th>\n      <th></th>\n      <th></th>\n      <th></th>\n      <th></th>\n      <th></th>\n      <th></th>\n      <th></th>\n      <th></th>\n      <th></th>\n      <th></th>\n      <th></th>\n      <th></th>\n      <th></th>\n      <th></th>\n      <th></th>\n      <th></th>\n    </tr>\n  </thead>\n  <tbody>\n    <tr>\n      <th>2021-09-01 00:02:49</th>\n      <td>0</td>\n      <td>0.021063</td>\n      <td>0.017529</td>\n      <td>0</td>\n      <td>2</td>\n      <td>1</td>\n      <td>0</td>\n      <td>0</td>\n      <td>0</td>\n      <td>0</td>\n      <td>...</td>\n      <td>0</td>\n      <td>0</td>\n      <td>0</td>\n      <td>0</td>\n      <td>0</td>\n      <td>0</td>\n      <td>0</td>\n      <td>0</td>\n      <td>0</td>\n      <td>0</td>\n    </tr>\n    <tr>\n      <th>2021-09-26 00:00:00</th>\n      <td>0</td>\n      <td>0.007601</td>\n      <td>0.024826</td>\n      <td>0</td>\n      <td>6</td>\n      <td>0</td>\n      <td>1</td>\n      <td>0</td>\n      <td>0</td>\n      <td>0</td>\n      <td>...</td>\n      <td>0</td>\n      <td>0</td>\n      <td>0</td>\n      <td>0</td>\n      <td>0</td>\n      <td>0</td>\n      <td>0</td>\n      <td>0</td>\n      <td>0</td>\n      <td>0</td>\n    </tr>\n    <tr>\n      <th>2021-09-26 00:00:00</th>\n      <td>0</td>\n      <td>0.038422</td>\n      <td>0.013548</td>\n      <td>0</td>\n      <td>6</td>\n      <td>0</td>\n      <td>0</td>\n      <td>1</td>\n      <td>0</td>\n      <td>0</td>\n      <td>...</td>\n      <td>0</td>\n      <td>0</td>\n      <td>0</td>\n      <td>0</td>\n      <td>0</td>\n      <td>0</td>\n      <td>0</td>\n      <td>0</td>\n      <td>0</td>\n      <td>0</td>\n    </tr>\n    <tr>\n      <th>2021-09-26 00:00:00</th>\n      <td>0</td>\n      <td>0.027595</td>\n      <td>0.020776</td>\n      <td>0</td>\n      <td>6</td>\n      <td>0</td>\n      <td>0</td>\n      <td>1</td>\n      <td>0</td>\n      <td>0</td>\n      <td>...</td>\n      <td>0</td>\n      <td>0</td>\n      <td>0</td>\n      <td>0</td>\n      <td>0</td>\n      <td>0</td>\n      <td>0</td>\n      <td>0</td>\n      <td>0</td>\n      <td>0</td>\n    </tr>\n    <tr>\n      <th>2021-09-26 00:00:00</th>\n      <td>0</td>\n      <td>0.018115</td>\n      <td>0.091559</td>\n      <td>0</td>\n      <td>6</td>\n      <td>0</td>\n      <td>0</td>\n      <td>0</td>\n      <td>1</td>\n      <td>0</td>\n      <td>...</td>\n      <td>0</td>\n      <td>0</td>\n      <td>0</td>\n      <td>0</td>\n      <td>0</td>\n      <td>0</td>\n      <td>0</td>\n      <td>0</td>\n      <td>0</td>\n      <td>0</td>\n    </tr>\n  </tbody>\n</table>\n<p>5 rows × 33 columns</p>\n</div>"
     },
     "execution_count": 6,
     "metadata": {},
     "output_type": "execute_result"
    }
   ],
   "source": [
    "train, test0 = (\n",
    "    df.loc[:'2021-10-01'].copy(),\n",
    "    df.loc['2021-10-02'].copy()\n",
    ")\n",
    "ohe, target = (\n",
    "    OneHotEncoder().fit(train[['os_id','country_id']]),\n",
    "    TargetEncoder().fit(train[['zone_id','banner_id']], train.clicks)\n",
    ")\n",
    "train = feature_engineering(train, ohe, target)\n",
    "train.head()"
   ],
   "metadata": {
    "collapsed": false,
    "pycharm": {
     "name": "#%%\n"
    }
   }
  },
  {
   "cell_type": "code",
   "execution_count": 7,
   "outputs": [],
   "source": [
    "model = create_model(train, c=1.0)"
   ],
   "metadata": {
    "collapsed": false,
    "pycharm": {
     "name": "#%%\n"
    }
   }
  },
  {
   "cell_type": "markdown",
   "source": [
    "Посчитаем pi_0, pi_1"
   ],
   "metadata": {
    "collapsed": false,
    "pycharm": {
     "name": "#%% md\n"
    }
   }
  },
  {
   "cell_type": "code",
   "execution_count": 8,
   "outputs": [],
   "source": [
    "test0 = test0[test0.banner_id == test0.banner_id0]\n",
    "test1 = test0.copy()\n",
    "d = np.sqrt(test0.g0 ** 2 + test0.g1 ** 2)\n",
    "e1 = test0.coeff_sum0 - test0.coeff_sum1\n",
    "test1.banner_id = test1.banner_id1\n",
    "test0, test1 = (\n",
    "    feature_engineering(test0, ohe, target),\n",
    "    feature_engineering(test1, ohe, target)\n",
    ")"
   ],
   "metadata": {
    "collapsed": false,
    "pycharm": {
     "name": "#%%\n"
    }
   }
  },
  {
   "cell_type": "code",
   "execution_count": 9,
   "outputs": [
    {
     "name": "stdout",
     "output_type": "stream",
     "text": [
      "[0.12639264 0.00141389 1.         ... 0.         0.43539021 1.        ]\n"
     ]
    }
   ],
   "source": [
    "pi_0 = get_pi(e=e1, d=d)\n",
    "print(pi_0)"
   ],
   "metadata": {
    "collapsed": false,
    "pycharm": {
     "name": "#%%\n"
    }
   }
  },
  {
   "cell_type": "code",
   "execution_count": 10,
   "outputs": [],
   "source": [
    "test0_predictions = logit(model.predict_proba(test0.drop(columns=\"clicks\").values)[:, 1])\n",
    "test1_predictions = logit(model.predict_proba(test1.drop(columns=\"clicks\").values)[:, 1])\n",
    "e2 = test0_predictions - test1_predictions"
   ],
   "metadata": {
    "collapsed": false,
    "pycharm": {
     "name": "#%%\n"
    }
   }
  },
  {
   "cell_type": "code",
   "execution_count": 11,
   "outputs": [
    {
     "name": "stdout",
     "output_type": "stream",
     "text": [
      "[0.5        0.20578663 1.         ... 0.         0.5        1.        ]\n"
     ]
    }
   ],
   "source": [
    "pi_1 = get_pi(e=e2, d=d)\n",
    "print(pi_1)"
   ],
   "metadata": {
    "collapsed": false,
    "pycharm": {
     "name": "#%%\n"
    }
   }
  },
  {
   "cell_type": "markdown",
   "source": [
    "Наконец посчитаем CIPS"
   ],
   "metadata": {
    "collapsed": false,
    "pycharm": {
     "name": "#%% md\n"
    }
   }
  },
  {
   "cell_type": "code",
   "execution_count": 12,
   "outputs": [
    {
     "data": {
      "text/plain": "0.07471744806183095"
     },
     "execution_count": 12,
     "metadata": {},
     "output_type": "execute_result"
    }
   ],
   "source": [
    "get_cips(pi_0, pi_1, test0)"
   ],
   "metadata": {
    "collapsed": false,
    "pycharm": {
     "name": "#%%\n"
    }
   }
  },
  {
   "cell_type": "markdown",
   "source": [
    "Для оптимизации регуляризации с CIPS достаточно просто запустить перебор по определенному рейнджу параметра с оглядкой на CIPS :) Но так вышло, что времени это посчитать в этом ноутбуке не нашлось"
   ],
   "metadata": {
    "collapsed": false,
    "pycharm": {
     "name": "#%% md\n"
    }
   }
  }
 ],
 "metadata": {
  "kernelspec": {
   "display_name": "Python 3",
   "language": "python",
   "name": "python3"
  },
  "language_info": {
   "codemirror_mode": {
    "name": "ipython",
    "version": 2
   },
   "file_extension": ".py",
   "mimetype": "text/x-python",
   "name": "python",
   "nbconvert_exporter": "python",
   "pygments_lexer": "ipython2",
   "version": "2.7.6"
  }
 },
 "nbformat": 4,
 "nbformat_minor": 0
}