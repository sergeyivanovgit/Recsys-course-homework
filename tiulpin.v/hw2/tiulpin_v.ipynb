{
 "cells": [
  {
   "cell_type": "code",
   "execution_count": 1,
   "metadata": {},
   "outputs": [],
   "source": [
    "import numpy as np\n",
    "import pandas as pd\n",
    "import time\n",
    "\n",
    "from functools import partial\n",
    "from scipy.stats import randint, uniform\n",
    "from task_2_multiarmed_bandit.sim_lib import simulation\n",
    "\n",
    "pd.options.mode.chained_assignment = None\n"
   ]
  },
  {
   "cell_type": "code",
   "execution_count": 2,
   "metadata": {},
   "outputs": [],
   "source": [
    "def eps_greedy(history: pd.DataFrame, eps: float):\n",
    "    if uniform.rvs() < eps:\n",
    "        n = history.shape[0]\n",
    "        return history.index[randint.rvs(0, n)]\n",
    "\n",
    "    ctr = history['clicks'] / (history['impressions'] + 10)\n",
    "    n = np.argmax(ctr)\n",
    "    return history.index[n]\n",
    "\n",
    "policy = partial(eps_greedy, eps=0.08)"
   ]
  },
  {
   "cell_type": "code",
   "execution_count": 3,
   "metadata": {},
   "outputs": [
    {
     "name": "stdout",
     "output_type": "stream",
     "text": [
      "1 impressions have been simulated\n",
      "10001 impressions have been simulated\n",
      "20001 impressions have been simulated\n",
      "30001 impressions have been simulated\n",
      "40001 impressions have been simulated\n",
      "50001 impressions have been simulated\n",
      "60001 impressions have been simulated\n",
      "70001 impressions have been simulated\n",
      "80001 impressions have been simulated\n",
      "90001 impressions have been simulated\n",
      "100001 impressions have been simulated\n",
      "110001 impressions have been simulated\n",
      "120001 impressions have been simulated\n",
      "130001 impressions have been simulated\n",
      "140001 impressions have been simulated\n",
      "150001 impressions have been simulated\n",
      "160001 impressions have been simulated\n",
      "170001 impressions have been simulated\n",
      "180001 impressions have been simulated\n",
      "190001 impressions have been simulated\n"
     ]
    },
    {
     "data": {
      "text/plain": "319.86749291419983"
     },
     "execution_count": 3,
     "metadata": {},
     "output_type": "execute_result"
    }
   ],
   "source": [
    "# seed for homework\n",
    "np.random.seed(seed=384758917)\n",
    "\n",
    "start = time.time()\n",
    "output = simulation(policy, n=200000)\n",
    "end = time.time()\n",
    "end - start"
   ]
  },
  {
   "cell_type": "code",
   "execution_count": 4,
   "metadata": {},
   "outputs": [
    {
     "data": {
      "text/plain": "(2792.237649427154, 0.01396118824713577, 174)"
     },
     "execution_count": 4,
     "metadata": {},
     "output_type": "execute_result"
    }
   ],
   "source": [
    "# baseline regret\n",
    "output['regret'], output['regret']/output['rounds'],  output['total_banners']"
   ]
  },
  {
   "cell_type": "code",
   "execution_count": 5,
   "metadata": {},
   "outputs": [
    {
     "data": {
      "text/plain": "     impressions  clicks      lifetime         p\n132      19843.0  1332.0  10870.812904  0.064972\n162        154.0     2.0  18594.827945  0.017514\n163         86.0     0.0   5153.010937  0.000849\n164         68.0     2.0   5092.571727  0.041281\n166         48.0     0.0   5340.552070  0.007253\n167         33.0     0.0   1474.181162  0.033849\n168         23.0     0.0   4900.260295  0.027273\n169         14.0     0.0   5007.022458  0.030857\n170         18.0     0.0   8920.324215  0.034653\n171         14.0     0.0   1080.025985  0.012549",
      "text/html": "<div>\n<style scoped>\n    .dataframe tbody tr th:only-of-type {\n        vertical-align: middle;\n    }\n\n    .dataframe tbody tr th {\n        vertical-align: top;\n    }\n\n    .dataframe thead th {\n        text-align: right;\n    }\n</style>\n<table border=\"1\" class=\"dataframe\">\n  <thead>\n    <tr style=\"text-align: right;\">\n      <th></th>\n      <th>impressions</th>\n      <th>clicks</th>\n      <th>lifetime</th>\n      <th>p</th>\n    </tr>\n  </thead>\n  <tbody>\n    <tr>\n      <th>132</th>\n      <td>19843.0</td>\n      <td>1332.0</td>\n      <td>10870.812904</td>\n      <td>0.064972</td>\n    </tr>\n    <tr>\n      <th>162</th>\n      <td>154.0</td>\n      <td>2.0</td>\n      <td>18594.827945</td>\n      <td>0.017514</td>\n    </tr>\n    <tr>\n      <th>163</th>\n      <td>86.0</td>\n      <td>0.0</td>\n      <td>5153.010937</td>\n      <td>0.000849</td>\n    </tr>\n    <tr>\n      <th>164</th>\n      <td>68.0</td>\n      <td>2.0</td>\n      <td>5092.571727</td>\n      <td>0.041281</td>\n    </tr>\n    <tr>\n      <th>166</th>\n      <td>48.0</td>\n      <td>0.0</td>\n      <td>5340.552070</td>\n      <td>0.007253</td>\n    </tr>\n    <tr>\n      <th>167</th>\n      <td>33.0</td>\n      <td>0.0</td>\n      <td>1474.181162</td>\n      <td>0.033849</td>\n    </tr>\n    <tr>\n      <th>168</th>\n      <td>23.0</td>\n      <td>0.0</td>\n      <td>4900.260295</td>\n      <td>0.027273</td>\n    </tr>\n    <tr>\n      <th>169</th>\n      <td>14.0</td>\n      <td>0.0</td>\n      <td>5007.022458</td>\n      <td>0.030857</td>\n    </tr>\n    <tr>\n      <th>170</th>\n      <td>18.0</td>\n      <td>0.0</td>\n      <td>8920.324215</td>\n      <td>0.034653</td>\n    </tr>\n    <tr>\n      <th>171</th>\n      <td>14.0</td>\n      <td>0.0</td>\n      <td>1080.025985</td>\n      <td>0.012549</td>\n    </tr>\n  </tbody>\n</table>\n</div>"
     },
     "execution_count": 5,
     "metadata": {},
     "output_type": "execute_result"
    }
   ],
   "source": [
    "output['history']"
   ]
  },
  {
   "cell_type": "code",
   "execution_count": 9,
   "metadata": {},
   "outputs": [],
   "source": [
    "def my_thompson_policy(history: pd.DataFrame):\n",
    "    def random_beta(arg1, arg2):\n",
    "        return np.random.beta(arg1 + 1, arg2 - arg1 + 1)\n",
    "\n",
    "    return history.index[np.argmax(random_beta(history.clicks, history.impressions))]\n",
    "\n",
    "policy = my_thompson_policy"
   ]
  },
  {
   "cell_type": "code",
   "execution_count": 10,
   "outputs": [
    {
     "name": "stdout",
     "output_type": "stream",
     "text": [
      "1 impressions have been simulated\n",
      "10001 impressions have been simulated\n",
      "20001 impressions have been simulated\n",
      "30001 impressions have been simulated\n",
      "40001 impressions have been simulated\n",
      "50001 impressions have been simulated\n",
      "60001 impressions have been simulated\n",
      "70001 impressions have been simulated\n",
      "80001 impressions have been simulated\n",
      "90001 impressions have been simulated\n",
      "100001 impressions have been simulated\n",
      "110001 impressions have been simulated\n",
      "120001 impressions have been simulated\n",
      "130001 impressions have been simulated\n",
      "140001 impressions have been simulated\n",
      "150001 impressions have been simulated\n",
      "160001 impressions have been simulated\n",
      "170001 impressions have been simulated\n",
      "180001 impressions have been simulated\n",
      "190001 impressions have been simulated\n"
     ]
    },
    {
     "data": {
      "text/plain": "359.4777030944824"
     },
     "execution_count": 10,
     "metadata": {},
     "output_type": "execute_result"
    }
   ],
   "source": [
    "start = time.time()\n",
    "output = simulation(policy, n=200000)\n",
    "end = time.time()\n",
    "end - start"
   ],
   "metadata": {
    "collapsed": false,
    "pycharm": {
     "name": "#%%\n"
    }
   }
  },
  {
   "cell_type": "code",
   "execution_count": 11,
   "outputs": [
    {
     "data": {
      "text/plain": "(1491.955086882202, 0.007459775434411011, 185)"
     },
     "execution_count": 11,
     "metadata": {},
     "output_type": "execute_result"
    }
   ],
   "source": [
    "# baseline regret\n",
    "output['regret'], output['regret']/output['rounds'],  output['total_banners']"
   ],
   "metadata": {
    "collapsed": false,
    "pycharm": {
     "name": "#%%\n"
    }
   }
  },
  {
   "cell_type": "code",
   "execution_count": 12,
   "outputs": [
    {
     "data": {
      "text/plain": "     impressions  clicks      lifetime         p\n174        784.0    47.0  40510.783160  0.049383\n176         73.0     0.0  13436.226969  0.007151\n177        101.0     1.0  18777.102075  0.016482\n178       2589.0   193.0  46712.715488  0.070027\n179         91.0     1.0  15108.962948  0.014540\n181         61.0     7.0   9344.706171  0.041464\n182       1100.0   306.0   6646.235163  0.270187\n183         62.0     9.0  18373.862192  0.155934\n184         33.0     4.0  27434.001243  0.099512",
      "text/html": "<div>\n<style scoped>\n    .dataframe tbody tr th:only-of-type {\n        vertical-align: middle;\n    }\n\n    .dataframe tbody tr th {\n        vertical-align: top;\n    }\n\n    .dataframe thead th {\n        text-align: right;\n    }\n</style>\n<table border=\"1\" class=\"dataframe\">\n  <thead>\n    <tr style=\"text-align: right;\">\n      <th></th>\n      <th>impressions</th>\n      <th>clicks</th>\n      <th>lifetime</th>\n      <th>p</th>\n    </tr>\n  </thead>\n  <tbody>\n    <tr>\n      <th>174</th>\n      <td>784.0</td>\n      <td>47.0</td>\n      <td>40510.783160</td>\n      <td>0.049383</td>\n    </tr>\n    <tr>\n      <th>176</th>\n      <td>73.0</td>\n      <td>0.0</td>\n      <td>13436.226969</td>\n      <td>0.007151</td>\n    </tr>\n    <tr>\n      <th>177</th>\n      <td>101.0</td>\n      <td>1.0</td>\n      <td>18777.102075</td>\n      <td>0.016482</td>\n    </tr>\n    <tr>\n      <th>178</th>\n      <td>2589.0</td>\n      <td>193.0</td>\n      <td>46712.715488</td>\n      <td>0.070027</td>\n    </tr>\n    <tr>\n      <th>179</th>\n      <td>91.0</td>\n      <td>1.0</td>\n      <td>15108.962948</td>\n      <td>0.014540</td>\n    </tr>\n    <tr>\n      <th>181</th>\n      <td>61.0</td>\n      <td>7.0</td>\n      <td>9344.706171</td>\n      <td>0.041464</td>\n    </tr>\n    <tr>\n      <th>182</th>\n      <td>1100.0</td>\n      <td>306.0</td>\n      <td>6646.235163</td>\n      <td>0.270187</td>\n    </tr>\n    <tr>\n      <th>183</th>\n      <td>62.0</td>\n      <td>9.0</td>\n      <td>18373.862192</td>\n      <td>0.155934</td>\n    </tr>\n    <tr>\n      <th>184</th>\n      <td>33.0</td>\n      <td>4.0</td>\n      <td>27434.001243</td>\n      <td>0.099512</td>\n    </tr>\n  </tbody>\n</table>\n</div>"
     },
     "execution_count": 12,
     "metadata": {},
     "output_type": "execute_result"
    }
   ],
   "source": [
    "output['history']"
   ],
   "metadata": {
    "collapsed": false,
    "pycharm": {
     "name": "#%%\n"
    }
   }
  },
  {
   "cell_type": "markdown",
   "source": [
    "Реализована Thompson sampling policy, прогнана через симуляцию 200000 событий, сразу же без дополнительного тюнинга получилось побить бейзлайн – ."
   ],
   "metadata": {
    "collapsed": false,
    "pycharm": {
     "name": "#%% md\n"
    }
   }
  }
 ],
 "metadata": {
  "kernelspec": {
   "display_name": "Python 3",
   "language": "python",
   "name": "python3"
  },
  "language_info": {
   "codemirror_mode": {
    "name": "ipython",
    "version": 3
   },
   "file_extension": ".py",
   "mimetype": "text/x-python",
   "name": "python",
   "nbconvert_exporter": "python",
   "pygments_lexer": "ipython3",
   "version": "3.7.4"
  }
 },
 "nbformat": 4,
 "nbformat_minor": 4
}